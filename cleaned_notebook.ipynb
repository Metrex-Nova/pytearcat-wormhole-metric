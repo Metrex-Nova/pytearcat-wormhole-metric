{
 "allow_stdin": true,
 "code": "import json\nfrom google.colab import files\n\ndef clean_and_download_notebook():\n    # Get the current notebook content\n    from IPython import get_ipython\n    notebook_json = get_ipython().kernel.get_parent()[\"content\"]\n    \n    # Clean the metadata\n    if 'metadata' in notebook_json and 'widgets' in notebook_json['metadata']:\n        del notebook_json['metadata']['widgets']\n    \n    for cell in notebook_json.get('cells', []):\n        if 'metadata' in cell and 'widgets' in cell['metadata']:\n            del cell['metadata']['widgets']\n    \n    # Save as file and download\n    cleaned_content = json.dumps(notebook_json, indent=1)\n    \n    with open('cleaned_notebook.ipynb', 'w') as f:\n        f.write(cleaned_content)\n    \n    files.download('cleaned_notebook.ipynb')\n    print(\"Downloaded cleaned notebook!\")\n\nclean_and_download_notebook()",
 "silent": false,
 "store_history": true,
 "user_expressions": {},
 "user_variables": []
}