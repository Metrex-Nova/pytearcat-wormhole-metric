{
  "nbformat": 4,
  "nbformat_minor": 0,
  "metadata": {
    "colab": {
      "provenance": []
    },
    "kernelspec": {
      "name": "python3",
      "display_name": "Python 3"
    },
    "language_info": {
      "name": "python"
    },
    "widgets": {
      "application/vnd.jupyter.widget-state+json": {
        "d11605cd80fd4e979b012c8966a28123": {
          "model_module": "@jupyter-widgets/controls",
          "model_name": "HBoxModel",
          "model_module_version": "1.5.0",
          "state": {
            "_dom_classes": [],
            "_model_module": "@jupyter-widgets/controls",
            "_model_module_version": "1.5.0",
            "_model_name": "HBoxModel",
            "_view_count": null,
            "_view_module": "@jupyter-widgets/controls",
            "_view_module_version": "1.5.0",
            "_view_name": "HBoxView",
            "box_style": "",
            "children": [
              "IPY_MODEL_5f3cb705432b4b70b070d150e193144a",
              "IPY_MODEL_79551171761c4d7dadd8574200b2de8b",
              "IPY_MODEL_ccecf8821b4e41af9a35a1f22a53c3ac"
            ],
            "layout": "IPY_MODEL_1f991ea0dd474b6a8af09769f45f1e2d"
          }
        },
        "5f3cb705432b4b70b070d150e193144a": {
          "model_module": "@jupyter-widgets/controls",
          "model_name": "HTMLModel",
          "model_module_version": "1.5.0",
          "state": {
            "_dom_classes": [],
            "_model_module": "@jupyter-widgets/controls",
            "_model_module_version": "1.5.0",
            "_model_name": "HTMLModel",
            "_view_count": null,
            "_view_module": "@jupyter-widgets/controls",
            "_view_module_version": "1.5.0",
            "_view_name": "HTMLView",
            "description": "",
            "description_tooltip": null,
            "layout": "IPY_MODEL_c3d6e69b510f469b96b176649c975d66",
            "placeholder": "​",
            "style": "IPY_MODEL_729b90da3a2c46afbfc717be9cf798c2",
            "value": "100%"
          }
        },
        "79551171761c4d7dadd8574200b2de8b": {
          "model_module": "@jupyter-widgets/controls",
          "model_name": "FloatProgressModel",
          "model_module_version": "1.5.0",
          "state": {
            "_dom_classes": [],
            "_model_module": "@jupyter-widgets/controls",
            "_model_module_version": "1.5.0",
            "_model_name": "FloatProgressModel",
            "_view_count": null,
            "_view_module": "@jupyter-widgets/controls",
            "_view_module_version": "1.5.0",
            "_view_name": "ProgressView",
            "bar_style": "success",
            "description": "",
            "description_tooltip": null,
            "layout": "IPY_MODEL_106c0c4e8e854f1b88ac83f8c91f797d",
            "max": 64,
            "min": 0,
            "orientation": "horizontal",
            "style": "IPY_MODEL_67b1416774f64476bf47c9941cb0595a",
            "value": 64
          }
        },
        "ccecf8821b4e41af9a35a1f22a53c3ac": {
          "model_module": "@jupyter-widgets/controls",
          "model_name": "HTMLModel",
          "model_module_version": "1.5.0",
          "state": {
            "_dom_classes": [],
            "_model_module": "@jupyter-widgets/controls",
            "_model_module_version": "1.5.0",
            "_model_name": "HTMLModel",
            "_view_count": null,
            "_view_module": "@jupyter-widgets/controls",
            "_view_module_version": "1.5.0",
            "_view_name": "HTMLView",
            "description": "",
            "description_tooltip": null,
            "layout": "IPY_MODEL_dddec52f66034e23b0c993cf865c762d",
            "placeholder": "​",
            "style": "IPY_MODEL_3744458f957c429aa709316df6b56c5c",
            "value": " 64/64 [00:00&lt;00:00, 704.50it/s]"
          }
        },
        "1f991ea0dd474b6a8af09769f45f1e2d": {
          "model_module": "@jupyter-widgets/base",
          "model_name": "LayoutModel",
          "model_module_version": "1.2.0",
          "state": {
            "_model_module": "@jupyter-widgets/base",
            "_model_module_version": "1.2.0",
            "_model_name": "LayoutModel",
            "_view_count": null,
            "_view_module": "@jupyter-widgets/base",
            "_view_module_version": "1.2.0",
            "_view_name": "LayoutView",
            "align_content": null,
            "align_items": null,
            "align_self": null,
            "border": null,
            "bottom": null,
            "display": null,
            "flex": null,
            "flex_flow": null,
            "grid_area": null,
            "grid_auto_columns": null,
            "grid_auto_flow": null,
            "grid_auto_rows": null,
            "grid_column": null,
            "grid_gap": null,
            "grid_row": null,
            "grid_template_areas": null,
            "grid_template_columns": null,
            "grid_template_rows": null,
            "height": null,
            "justify_content": null,
            "justify_items": null,
            "left": null,
            "margin": null,
            "max_height": null,
            "max_width": null,
            "min_height": null,
            "min_width": null,
            "object_fit": null,
            "object_position": null,
            "order": null,
            "overflow": null,
            "overflow_x": null,
            "overflow_y": null,
            "padding": null,
            "right": null,
            "top": null,
            "visibility": null,
            "width": null
          }
        },
        "c3d6e69b510f469b96b176649c975d66": {
          "model_module": "@jupyter-widgets/base",
          "model_name": "LayoutModel",
          "model_module_version": "1.2.0",
          "state": {
            "_model_module": "@jupyter-widgets/base",
            "_model_module_version": "1.2.0",
            "_model_name": "LayoutModel",
            "_view_count": null,
            "_view_module": "@jupyter-widgets/base",
            "_view_module_version": "1.2.0",
            "_view_name": "LayoutView",
            "align_content": null,
            "align_items": null,
            "align_self": null,
            "border": null,
            "bottom": null,
            "display": null,
            "flex": null,
            "flex_flow": null,
            "grid_area": null,
            "grid_auto_columns": null,
            "grid_auto_flow": null,
            "grid_auto_rows": null,
            "grid_column": null,
            "grid_gap": null,
            "grid_row": null,
            "grid_template_areas": null,
            "grid_template_columns": null,
            "grid_template_rows": null,
            "height": null,
            "justify_content": null,
            "justify_items": null,
            "left": null,
            "margin": null,
            "max_height": null,
            "max_width": null,
            "min_height": null,
            "min_width": null,
            "object_fit": null,
            "object_position": null,
            "order": null,
            "overflow": null,
            "overflow_x": null,
            "overflow_y": null,
            "padding": null,
            "right": null,
            "top": null,
            "visibility": null,
            "width": null
          }
        },
        "729b90da3a2c46afbfc717be9cf798c2": {
          "model_module": "@jupyter-widgets/controls",
          "model_name": "DescriptionStyleModel",
          "model_module_version": "1.5.0",
          "state": {
            "_model_module": "@jupyter-widgets/controls",
            "_model_module_version": "1.5.0",
            "_model_name": "DescriptionStyleModel",
            "_view_count": null,
            "_view_module": "@jupyter-widgets/base",
            "_view_module_version": "1.2.0",
            "_view_name": "StyleView",
            "description_width": ""
          }
        },
        "106c0c4e8e854f1b88ac83f8c91f797d": {
          "model_module": "@jupyter-widgets/base",
          "model_name": "LayoutModel",
          "model_module_version": "1.2.0",
          "state": {
            "_model_module": "@jupyter-widgets/base",
            "_model_module_version": "1.2.0",
            "_model_name": "LayoutModel",
            "_view_count": null,
            "_view_module": "@jupyter-widgets/base",
            "_view_module_version": "1.2.0",
            "_view_name": "LayoutView",
            "align_content": null,
            "align_items": null,
            "align_self": null,
            "border": null,
            "bottom": null,
            "display": null,
            "flex": null,
            "flex_flow": null,
            "grid_area": null,
            "grid_auto_columns": null,
            "grid_auto_flow": null,
            "grid_auto_rows": null,
            "grid_column": null,
            "grid_gap": null,
            "grid_row": null,
            "grid_template_areas": null,
            "grid_template_columns": null,
            "grid_template_rows": null,
            "height": null,
            "justify_content": null,
            "justify_items": null,
            "left": null,
            "margin": null,
            "max_height": null,
            "max_width": null,
            "min_height": null,
            "min_width": null,
            "object_fit": null,
            "object_position": null,
            "order": null,
            "overflow": null,
            "overflow_x": null,
            "overflow_y": null,
            "padding": null,
            "right": null,
            "top": null,
            "visibility": null,
            "width": null
          }
        },
        "67b1416774f64476bf47c9941cb0595a": {
          "model_module": "@jupyter-widgets/controls",
          "model_name": "ProgressStyleModel",
          "model_module_version": "1.5.0",
          "state": {
            "_model_module": "@jupyter-widgets/controls",
            "_model_module_version": "1.5.0",
            "_model_name": "ProgressStyleModel",
            "_view_count": null,
            "_view_module": "@jupyter-widgets/base",
            "_view_module_version": "1.2.0",
            "_view_name": "StyleView",
            "bar_color": null,
            "description_width": ""
          }
        },
        "dddec52f66034e23b0c993cf865c762d": {
          "model_module": "@jupyter-widgets/base",
          "model_name": "LayoutModel",
          "model_module_version": "1.2.0",
          "state": {
            "_model_module": "@jupyter-widgets/base",
            "_model_module_version": "1.2.0",
            "_model_name": "LayoutModel",
            "_view_count": null,
            "_view_module": "@jupyter-widgets/base",
            "_view_module_version": "1.2.0",
            "_view_name": "LayoutView",
            "align_content": null,
            "align_items": null,
            "align_self": null,
            "border": null,
            "bottom": null,
            "display": null,
            "flex": null,
            "flex_flow": null,
            "grid_area": null,
            "grid_auto_columns": null,
            "grid_auto_flow": null,
            "grid_auto_rows": null,
            "grid_column": null,
            "grid_gap": null,
            "grid_row": null,
            "grid_template_areas": null,
            "grid_template_columns": null,
            "grid_template_rows": null,
            "height": null,
            "justify_content": null,
            "justify_items": null,
            "left": null,
            "margin": null,
            "max_height": null,
            "max_width": null,
            "min_height": null,
            "min_width": null,
            "object_fit": null,
            "object_position": null,
            "order": null,
            "overflow": null,
            "overflow_x": null,
            "overflow_y": null,
            "padding": null,
            "right": null,
            "top": null,
            "visibility": null,
            "width": null
          }
        },
        "3744458f957c429aa709316df6b56c5c": {
          "model_module": "@jupyter-widgets/controls",
          "model_name": "DescriptionStyleModel",
          "model_module_version": "1.5.0",
          "state": {
            "_model_module": "@jupyter-widgets/controls",
            "_model_module_version": "1.5.0",
            "_model_name": "DescriptionStyleModel",
            "_view_count": null,
            "_view_module": "@jupyter-widgets/base",
            "_view_module_version": "1.2.0",
            "_view_name": "StyleView",
            "description_width": ""
          }
        },
        "4283074e9a4a46d79ab1e2f9da1ec074": {
          "model_module": "@jupyter-widgets/controls",
          "model_name": "HBoxModel",
          "model_module_version": "1.5.0",
          "state": {
            "_dom_classes": [],
            "_model_module": "@jupyter-widgets/controls",
            "_model_module_version": "1.5.0",
            "_model_name": "HBoxModel",
            "_view_count": null,
            "_view_module": "@jupyter-widgets/controls",
            "_view_module_version": "1.5.0",
            "_view_name": "HBoxView",
            "box_style": "",
            "children": [
              "IPY_MODEL_9d799b762cdb4db5b4eebbcee6953152",
              "IPY_MODEL_f4e6b3b958284ee5b3747c71354e5d58",
              "IPY_MODEL_417826c5968b44f4b73b453902c073ba"
            ],
            "layout": "IPY_MODEL_96fc17c2d8d0471a95aa9e0ea3310843"
          }
        },
        "9d799b762cdb4db5b4eebbcee6953152": {
          "model_module": "@jupyter-widgets/controls",
          "model_name": "HTMLModel",
          "model_module_version": "1.5.0",
          "state": {
            "_dom_classes": [],
            "_model_module": "@jupyter-widgets/controls",
            "_model_module_version": "1.5.0",
            "_model_name": "HTMLModel",
            "_view_count": null,
            "_view_module": "@jupyter-widgets/controls",
            "_view_module_version": "1.5.0",
            "_view_name": "HTMLView",
            "description": "",
            "description_tooltip": null,
            "layout": "IPY_MODEL_32bfa9651d2546dcb3e33d60447d325f",
            "placeholder": "​",
            "style": "IPY_MODEL_921f71af0c37460584c48d1fd198e9f6",
            "value": "100%"
          }
        },
        "f4e6b3b958284ee5b3747c71354e5d58": {
          "model_module": "@jupyter-widgets/controls",
          "model_name": "FloatProgressModel",
          "model_module_version": "1.5.0",
          "state": {
            "_dom_classes": [],
            "_model_module": "@jupyter-widgets/controls",
            "_model_module_version": "1.5.0",
            "_model_name": "FloatProgressModel",
            "_view_count": null,
            "_view_module": "@jupyter-widgets/controls",
            "_view_module_version": "1.5.0",
            "_view_name": "ProgressView",
            "bar_style": "success",
            "description": "",
            "description_tooltip": null,
            "layout": "IPY_MODEL_71d4bdd3a04d4cf2a6cac936ffec04f9",
            "max": 256,
            "min": 0,
            "orientation": "horizontal",
            "style": "IPY_MODEL_12932b1e28c2471098ba3324413cff1d",
            "value": 256
          }
        },
        "417826c5968b44f4b73b453902c073ba": {
          "model_module": "@jupyter-widgets/controls",
          "model_name": "HTMLModel",
          "model_module_version": "1.5.0",
          "state": {
            "_dom_classes": [],
            "_model_module": "@jupyter-widgets/controls",
            "_model_module_version": "1.5.0",
            "_model_name": "HTMLModel",
            "_view_count": null,
            "_view_module": "@jupyter-widgets/controls",
            "_view_module_version": "1.5.0",
            "_view_name": "HTMLView",
            "description": "",
            "description_tooltip": null,
            "layout": "IPY_MODEL_7b7178f4a8e940e787ce551bac0ab1d9",
            "placeholder": "​",
            "style": "IPY_MODEL_d3b25ec977424821bd9dc68eac3fc372",
            "value": " 256/256 [00:00&lt;00:00, 959.26it/s]"
          }
        },
        "96fc17c2d8d0471a95aa9e0ea3310843": {
          "model_module": "@jupyter-widgets/base",
          "model_name": "LayoutModel",
          "model_module_version": "1.2.0",
          "state": {
            "_model_module": "@jupyter-widgets/base",
            "_model_module_version": "1.2.0",
            "_model_name": "LayoutModel",
            "_view_count": null,
            "_view_module": "@jupyter-widgets/base",
            "_view_module_version": "1.2.0",
            "_view_name": "LayoutView",
            "align_content": null,
            "align_items": null,
            "align_self": null,
            "border": null,
            "bottom": null,
            "display": null,
            "flex": null,
            "flex_flow": null,
            "grid_area": null,
            "grid_auto_columns": null,
            "grid_auto_flow": null,
            "grid_auto_rows": null,
            "grid_column": null,
            "grid_gap": null,
            "grid_row": null,
            "grid_template_areas": null,
            "grid_template_columns": null,
            "grid_template_rows": null,
            "height": null,
            "justify_content": null,
            "justify_items": null,
            "left": null,
            "margin": null,
            "max_height": null,
            "max_width": null,
            "min_height": null,
            "min_width": null,
            "object_fit": null,
            "object_position": null,
            "order": null,
            "overflow": null,
            "overflow_x": null,
            "overflow_y": null,
            "padding": null,
            "right": null,
            "top": null,
            "visibility": null,
            "width": null
          }
        },
        "32bfa9651d2546dcb3e33d60447d325f": {
          "model_module": "@jupyter-widgets/base",
          "model_name": "LayoutModel",
          "model_module_version": "1.2.0",
          "state": {
            "_model_module": "@jupyter-widgets/base",
            "_model_module_version": "1.2.0",
            "_model_name": "LayoutModel",
            "_view_count": null,
            "_view_module": "@jupyter-widgets/base",
            "_view_module_version": "1.2.0",
            "_view_name": "LayoutView",
            "align_content": null,
            "align_items": null,
            "align_self": null,
            "border": null,
            "bottom": null,
            "display": null,
            "flex": null,
            "flex_flow": null,
            "grid_area": null,
            "grid_auto_columns": null,
            "grid_auto_flow": null,
            "grid_auto_rows": null,
            "grid_column": null,
            "grid_gap": null,
            "grid_row": null,
            "grid_template_areas": null,
            "grid_template_columns": null,
            "grid_template_rows": null,
            "height": null,
            "justify_content": null,
            "justify_items": null,
            "left": null,
            "margin": null,
            "max_height": null,
            "max_width": null,
            "min_height": null,
            "min_width": null,
            "object_fit": null,
            "object_position": null,
            "order": null,
            "overflow": null,
            "overflow_x": null,
            "overflow_y": null,
            "padding": null,
            "right": null,
            "top": null,
            "visibility": null,
            "width": null
          }
        },
        "921f71af0c37460584c48d1fd198e9f6": {
          "model_module": "@jupyter-widgets/controls",
          "model_name": "DescriptionStyleModel",
          "model_module_version": "1.5.0",
          "state": {
            "_model_module": "@jupyter-widgets/controls",
            "_model_module_version": "1.5.0",
            "_model_name": "DescriptionStyleModel",
            "_view_count": null,
            "_view_module": "@jupyter-widgets/base",
            "_view_module_version": "1.2.0",
            "_view_name": "StyleView",
            "description_width": ""
          }
        },
        "71d4bdd3a04d4cf2a6cac936ffec04f9": {
          "model_module": "@jupyter-widgets/base",
          "model_name": "LayoutModel",
          "model_module_version": "1.2.0",
          "state": {
            "_model_module": "@jupyter-widgets/base",
            "_model_module_version": "1.2.0",
            "_model_name": "LayoutModel",
            "_view_count": null,
            "_view_module": "@jupyter-widgets/base",
            "_view_module_version": "1.2.0",
            "_view_name": "LayoutView",
            "align_content": null,
            "align_items": null,
            "align_self": null,
            "border": null,
            "bottom": null,
            "display": null,
            "flex": null,
            "flex_flow": null,
            "grid_area": null,
            "grid_auto_columns": null,
            "grid_auto_flow": null,
            "grid_auto_rows": null,
            "grid_column": null,
            "grid_gap": null,
            "grid_row": null,
            "grid_template_areas": null,
            "grid_template_columns": null,
            "grid_template_rows": null,
            "height": null,
            "justify_content": null,
            "justify_items": null,
            "left": null,
            "margin": null,
            "max_height": null,
            "max_width": null,
            "min_height": null,
            "min_width": null,
            "object_fit": null,
            "object_position": null,
            "order": null,
            "overflow": null,
            "overflow_x": null,
            "overflow_y": null,
            "padding": null,
            "right": null,
            "top": null,
            "visibility": null,
            "width": null
          }
        },
        "12932b1e28c2471098ba3324413cff1d": {
          "model_module": "@jupyter-widgets/controls",
          "model_name": "ProgressStyleModel",
          "model_module_version": "1.5.0",
          "state": {
            "_model_module": "@jupyter-widgets/controls",
            "_model_module_version": "1.5.0",
            "_model_name": "ProgressStyleModel",
            "_view_count": null,
            "_view_module": "@jupyter-widgets/base",
            "_view_module_version": "1.2.0",
            "_view_name": "StyleView",
            "bar_color": null,
            "description_width": ""
          }
        },
        "7b7178f4a8e940e787ce551bac0ab1d9": {
          "model_module": "@jupyter-widgets/base",
          "model_name": "LayoutModel",
          "model_module_version": "1.2.0",
          "state": {
            "_model_module": "@jupyter-widgets/base",
            "_model_module_version": "1.2.0",
            "_model_name": "LayoutModel",
            "_view_count": null,
            "_view_module": "@jupyter-widgets/base",
            "_view_module_version": "1.2.0",
            "_view_name": "LayoutView",
            "align_content": null,
            "align_items": null,
            "align_self": null,
            "border": null,
            "bottom": null,
            "display": null,
            "flex": null,
            "flex_flow": null,
            "grid_area": null,
            "grid_auto_columns": null,
            "grid_auto_flow": null,
            "grid_auto_rows": null,
            "grid_column": null,
            "grid_gap": null,
            "grid_row": null,
            "grid_template_areas": null,
            "grid_template_columns": null,
            "grid_template_rows": null,
            "height": null,
            "justify_content": null,
            "justify_items": null,
            "left": null,
            "margin": null,
            "max_height": null,
            "max_width": null,
            "min_height": null,
            "min_width": null,
            "object_fit": null,
            "object_position": null,
            "order": null,
            "overflow": null,
            "overflow_x": null,
            "overflow_y": null,
            "padding": null,
            "right": null,
            "top": null,
            "visibility": null,
            "width": null
          }
        },
        "d3b25ec977424821bd9dc68eac3fc372": {
          "model_module": "@jupyter-widgets/controls",
          "model_name": "DescriptionStyleModel",
          "model_module_version": "1.5.0",
          "state": {
            "_model_module": "@jupyter-widgets/controls",
            "_model_module_version": "1.5.0",
            "_model_name": "DescriptionStyleModel",
            "_view_count": null,
            "_view_module": "@jupyter-widgets/base",
            "_view_module_version": "1.2.0",
            "_view_name": "StyleView",
            "description_width": ""
          }
        },
        "786b7e39c565490ea28826ebe9582563": {
          "model_module": "@jupyter-widgets/controls",
          "model_name": "HBoxModel",
          "model_module_version": "1.5.0",
          "state": {
            "_dom_classes": [],
            "_model_module": "@jupyter-widgets/controls",
            "_model_module_version": "1.5.0",
            "_model_name": "HBoxModel",
            "_view_count": null,
            "_view_module": "@jupyter-widgets/controls",
            "_view_module_version": "1.5.0",
            "_view_name": "HBoxView",
            "box_style": "",
            "children": [
              "IPY_MODEL_07981a95b23f45618f031a36fbadcd67",
              "IPY_MODEL_2a01712ac35240b995da69d5656424d3",
              "IPY_MODEL_36f3c3bbbaa74b1fb474a93cf250b806"
            ],
            "layout": "IPY_MODEL_016fee31e38f405fb62f3f22e6109d0f"
          }
        },
        "07981a95b23f45618f031a36fbadcd67": {
          "model_module": "@jupyter-widgets/controls",
          "model_name": "HTMLModel",
          "model_module_version": "1.5.0",
          "state": {
            "_dom_classes": [],
            "_model_module": "@jupyter-widgets/controls",
            "_model_module_version": "1.5.0",
            "_model_name": "HTMLModel",
            "_view_count": null,
            "_view_module": "@jupyter-widgets/controls",
            "_view_module_version": "1.5.0",
            "_view_name": "HTMLView",
            "description": "",
            "description_tooltip": null,
            "layout": "IPY_MODEL_3012871bb5ea4582a83677b45bc2ab65",
            "placeholder": "​",
            "style": "IPY_MODEL_d38804f668ae400da566bd6bcde44cb1",
            "value": "100%"
          }
        },
        "2a01712ac35240b995da69d5656424d3": {
          "model_module": "@jupyter-widgets/controls",
          "model_name": "FloatProgressModel",
          "model_module_version": "1.5.0",
          "state": {
            "_dom_classes": [],
            "_model_module": "@jupyter-widgets/controls",
            "_model_module_version": "1.5.0",
            "_model_name": "FloatProgressModel",
            "_view_count": null,
            "_view_module": "@jupyter-widgets/controls",
            "_view_module_version": "1.5.0",
            "_view_name": "ProgressView",
            "bar_style": "success",
            "description": "",
            "description_tooltip": null,
            "layout": "IPY_MODEL_63b48f8d2bcd4e0a8ee3cb791d4f1732",
            "max": 16,
            "min": 0,
            "orientation": "horizontal",
            "style": "IPY_MODEL_555ebf2cc3254039a338342f41a9149d",
            "value": 16
          }
        },
        "36f3c3bbbaa74b1fb474a93cf250b806": {
          "model_module": "@jupyter-widgets/controls",
          "model_name": "HTMLModel",
          "model_module_version": "1.5.0",
          "state": {
            "_dom_classes": [],
            "_model_module": "@jupyter-widgets/controls",
            "_model_module_version": "1.5.0",
            "_model_name": "HTMLModel",
            "_view_count": null,
            "_view_module": "@jupyter-widgets/controls",
            "_view_module_version": "1.5.0",
            "_view_name": "HTMLView",
            "description": "",
            "description_tooltip": null,
            "layout": "IPY_MODEL_1668f44a0d1f476692fc0a2d454c5099",
            "placeholder": "​",
            "style": "IPY_MODEL_3201217811dd4d44bbda8f7dcd7b831c",
            "value": " 16/16 [00:00&lt;00:00, 179.98it/s]"
          }
        },
        "016fee31e38f405fb62f3f22e6109d0f": {
          "model_module": "@jupyter-widgets/base",
          "model_name": "LayoutModel",
          "model_module_version": "1.2.0",
          "state": {
            "_model_module": "@jupyter-widgets/base",
            "_model_module_version": "1.2.0",
            "_model_name": "LayoutModel",
            "_view_count": null,
            "_view_module": "@jupyter-widgets/base",
            "_view_module_version": "1.2.0",
            "_view_name": "LayoutView",
            "align_content": null,
            "align_items": null,
            "align_self": null,
            "border": null,
            "bottom": null,
            "display": null,
            "flex": null,
            "flex_flow": null,
            "grid_area": null,
            "grid_auto_columns": null,
            "grid_auto_flow": null,
            "grid_auto_rows": null,
            "grid_column": null,
            "grid_gap": null,
            "grid_row": null,
            "grid_template_areas": null,
            "grid_template_columns": null,
            "grid_template_rows": null,
            "height": null,
            "justify_content": null,
            "justify_items": null,
            "left": null,
            "margin": null,
            "max_height": null,
            "max_width": null,
            "min_height": null,
            "min_width": null,
            "object_fit": null,
            "object_position": null,
            "order": null,
            "overflow": null,
            "overflow_x": null,
            "overflow_y": null,
            "padding": null,
            "right": null,
            "top": null,
            "visibility": null,
            "width": null
          }
        },
        "3012871bb5ea4582a83677b45bc2ab65": {
          "model_module": "@jupyter-widgets/base",
          "model_name": "LayoutModel",
          "model_module_version": "1.2.0",
          "state": {
            "_model_module": "@jupyter-widgets/base",
            "_model_module_version": "1.2.0",
            "_model_name": "LayoutModel",
            "_view_count": null,
            "_view_module": "@jupyter-widgets/base",
            "_view_module_version": "1.2.0",
            "_view_name": "LayoutView",
            "align_content": null,
            "align_items": null,
            "align_self": null,
            "border": null,
            "bottom": null,
            "display": null,
            "flex": null,
            "flex_flow": null,
            "grid_area": null,
            "grid_auto_columns": null,
            "grid_auto_flow": null,
            "grid_auto_rows": null,
            "grid_column": null,
            "grid_gap": null,
            "grid_row": null,
            "grid_template_areas": null,
            "grid_template_columns": null,
            "grid_template_rows": null,
            "height": null,
            "justify_content": null,
            "justify_items": null,
            "left": null,
            "margin": null,
            "max_height": null,
            "max_width": null,
            "min_height": null,
            "min_width": null,
            "object_fit": null,
            "object_position": null,
            "order": null,
            "overflow": null,
            "overflow_x": null,
            "overflow_y": null,
            "padding": null,
            "right": null,
            "top": null,
            "visibility": null,
            "width": null
          }
        },
        "d38804f668ae400da566bd6bcde44cb1": {
          "model_module": "@jupyter-widgets/controls",
          "model_name": "DescriptionStyleModel",
          "model_module_version": "1.5.0",
          "state": {
            "_model_module": "@jupyter-widgets/controls",
            "_model_module_version": "1.5.0",
            "_model_name": "DescriptionStyleModel",
            "_view_count": null,
            "_view_module": "@jupyter-widgets/base",
            "_view_module_version": "1.2.0",
            "_view_name": "StyleView",
            "description_width": ""
          }
        },
        "63b48f8d2bcd4e0a8ee3cb791d4f1732": {
          "model_module": "@jupyter-widgets/base",
          "model_name": "LayoutModel",
          "model_module_version": "1.2.0",
          "state": {
            "_model_module": "@jupyter-widgets/base",
            "_model_module_version": "1.2.0",
            "_model_name": "LayoutModel",
            "_view_count": null,
            "_view_module": "@jupyter-widgets/base",
            "_view_module_version": "1.2.0",
            "_view_name": "LayoutView",
            "align_content": null,
            "align_items": null,
            "align_self": null,
            "border": null,
            "bottom": null,
            "display": null,
            "flex": null,
            "flex_flow": null,
            "grid_area": null,
            "grid_auto_columns": null,
            "grid_auto_flow": null,
            "grid_auto_rows": null,
            "grid_column": null,
            "grid_gap": null,
            "grid_row": null,
            "grid_template_areas": null,
            "grid_template_columns": null,
            "grid_template_rows": null,
            "height": null,
            "justify_content": null,
            "justify_items": null,
            "left": null,
            "margin": null,
            "max_height": null,
            "max_width": null,
            "min_height": null,
            "min_width": null,
            "object_fit": null,
            "object_position": null,
            "order": null,
            "overflow": null,
            "overflow_x": null,
            "overflow_y": null,
            "padding": null,
            "right": null,
            "top": null,
            "visibility": null,
            "width": null
          }
        },
        "555ebf2cc3254039a338342f41a9149d": {
          "model_module": "@jupyter-widgets/controls",
          "model_name": "ProgressStyleModel",
          "model_module_version": "1.5.0",
          "state": {
            "_model_module": "@jupyter-widgets/controls",
            "_model_module_version": "1.5.0",
            "_model_name": "ProgressStyleModel",
            "_view_count": null,
            "_view_module": "@jupyter-widgets/base",
            "_view_module_version": "1.2.0",
            "_view_name": "StyleView",
            "bar_color": null,
            "description_width": ""
          }
        },
        "1668f44a0d1f476692fc0a2d454c5099": {
          "model_module": "@jupyter-widgets/base",
          "model_name": "LayoutModel",
          "model_module_version": "1.2.0",
          "state": {
            "_model_module": "@jupyter-widgets/base",
            "_model_module_version": "1.2.0",
            "_model_name": "LayoutModel",
            "_view_count": null,
            "_view_module": "@jupyter-widgets/base",
            "_view_module_version": "1.2.0",
            "_view_name": "LayoutView",
            "align_content": null,
            "align_items": null,
            "align_self": null,
            "border": null,
            "bottom": null,
            "display": null,
            "flex": null,
            "flex_flow": null,
            "grid_area": null,
            "grid_auto_columns": null,
            "grid_auto_flow": null,
            "grid_auto_rows": null,
            "grid_column": null,
            "grid_gap": null,
            "grid_row": null,
            "grid_template_areas": null,
            "grid_template_columns": null,
            "grid_template_rows": null,
            "height": null,
            "justify_content": null,
            "justify_items": null,
            "left": null,
            "margin": null,
            "max_height": null,
            "max_width": null,
            "min_height": null,
            "min_width": null,
            "object_fit": null,
            "object_position": null,
            "order": null,
            "overflow": null,
            "overflow_x": null,
            "overflow_y": null,
            "padding": null,
            "right": null,
            "top": null,
            "visibility": null,
            "width": null
          }
        },
        "3201217811dd4d44bbda8f7dcd7b831c": {
          "model_module": "@jupyter-widgets/controls",
          "model_name": "DescriptionStyleModel",
          "model_module_version": "1.5.0",
          "state": {
            "_model_module": "@jupyter-widgets/controls",
            "_model_module_version": "1.5.0",
            "_model_name": "DescriptionStyleModel",
            "_view_count": null,
            "_view_module": "@jupyter-widgets/base",
            "_view_module_version": "1.2.0",
            "_view_name": "StyleView",
            "description_width": ""
          }
        },
        "f36e7a6189ff446c92343e13270dbe90": {
          "model_module": "@jupyter-widgets/controls",
          "model_name": "HBoxModel",
          "model_module_version": "1.5.0",
          "state": {
            "_dom_classes": [],
            "_model_module": "@jupyter-widgets/controls",
            "_model_module_version": "1.5.0",
            "_model_name": "HBoxModel",
            "_view_count": null,
            "_view_module": "@jupyter-widgets/controls",
            "_view_module_version": "1.5.0",
            "_view_name": "HBoxView",
            "box_style": "",
            "children": [
              "IPY_MODEL_4a60348e13c04ad0aa8a84e6bdf8c9ed",
              "IPY_MODEL_274c3feb9f9c46b4acc0b6d5ab65ba8b",
              "IPY_MODEL_cfe491d9a6ab4a3e81952133b6894b9e"
            ],
            "layout": "IPY_MODEL_1122a437f4f44b6db764f906f962ef6a"
          }
        },
        "4a60348e13c04ad0aa8a84e6bdf8c9ed": {
          "model_module": "@jupyter-widgets/controls",
          "model_name": "HTMLModel",
          "model_module_version": "1.5.0",
          "state": {
            "_dom_classes": [],
            "_model_module": "@jupyter-widgets/controls",
            "_model_module_version": "1.5.0",
            "_model_name": "HTMLModel",
            "_view_count": null,
            "_view_module": "@jupyter-widgets/controls",
            "_view_module_version": "1.5.0",
            "_view_name": "HTMLView",
            "description": "",
            "description_tooltip": null,
            "layout": "IPY_MODEL_7ddf89e4ca1c41d084843f259c9a4bf1",
            "placeholder": "​",
            "style": "IPY_MODEL_c232d8d6dee44e5085314a35e89e4daf",
            "value": "100%"
          }
        },
        "274c3feb9f9c46b4acc0b6d5ab65ba8b": {
          "model_module": "@jupyter-widgets/controls",
          "model_name": "FloatProgressModel",
          "model_module_version": "1.5.0",
          "state": {
            "_dom_classes": [],
            "_model_module": "@jupyter-widgets/controls",
            "_model_module_version": "1.5.0",
            "_model_name": "FloatProgressModel",
            "_view_count": null,
            "_view_module": "@jupyter-widgets/controls",
            "_view_module_version": "1.5.0",
            "_view_name": "ProgressView",
            "bar_style": "success",
            "description": "",
            "description_tooltip": null,
            "layout": "IPY_MODEL_5c15162a752f416ab652c1b69b268758",
            "max": 16,
            "min": 0,
            "orientation": "horizontal",
            "style": "IPY_MODEL_9624ee43f47642dea16626003bfef410",
            "value": 16
          }
        },
        "cfe491d9a6ab4a3e81952133b6894b9e": {
          "model_module": "@jupyter-widgets/controls",
          "model_name": "HTMLModel",
          "model_module_version": "1.5.0",
          "state": {
            "_dom_classes": [],
            "_model_module": "@jupyter-widgets/controls",
            "_model_module_version": "1.5.0",
            "_model_name": "HTMLModel",
            "_view_count": null,
            "_view_module": "@jupyter-widgets/controls",
            "_view_module_version": "1.5.0",
            "_view_name": "HTMLView",
            "description": "",
            "description_tooltip": null,
            "layout": "IPY_MODEL_03154149efcd48f2ba6ff5bb6f038ee2",
            "placeholder": "​",
            "style": "IPY_MODEL_fe52a208e1394e78a76142ce30640a74",
            "value": " 16/16 [00:00&lt;00:00, 911.93it/s]"
          }
        },
        "1122a437f4f44b6db764f906f962ef6a": {
          "model_module": "@jupyter-widgets/base",
          "model_name": "LayoutModel",
          "model_module_version": "1.2.0",
          "state": {
            "_model_module": "@jupyter-widgets/base",
            "_model_module_version": "1.2.0",
            "_model_name": "LayoutModel",
            "_view_count": null,
            "_view_module": "@jupyter-widgets/base",
            "_view_module_version": "1.2.0",
            "_view_name": "LayoutView",
            "align_content": null,
            "align_items": null,
            "align_self": null,
            "border": null,
            "bottom": null,
            "display": null,
            "flex": null,
            "flex_flow": null,
            "grid_area": null,
            "grid_auto_columns": null,
            "grid_auto_flow": null,
            "grid_auto_rows": null,
            "grid_column": null,
            "grid_gap": null,
            "grid_row": null,
            "grid_template_areas": null,
            "grid_template_columns": null,
            "grid_template_rows": null,
            "height": null,
            "justify_content": null,
            "justify_items": null,
            "left": null,
            "margin": null,
            "max_height": null,
            "max_width": null,
            "min_height": null,
            "min_width": null,
            "object_fit": null,
            "object_position": null,
            "order": null,
            "overflow": null,
            "overflow_x": null,
            "overflow_y": null,
            "padding": null,
            "right": null,
            "top": null,
            "visibility": null,
            "width": null
          }
        },
        "7ddf89e4ca1c41d084843f259c9a4bf1": {
          "model_module": "@jupyter-widgets/base",
          "model_name": "LayoutModel",
          "model_module_version": "1.2.0",
          "state": {
            "_model_module": "@jupyter-widgets/base",
            "_model_module_version": "1.2.0",
            "_model_name": "LayoutModel",
            "_view_count": null,
            "_view_module": "@jupyter-widgets/base",
            "_view_module_version": "1.2.0",
            "_view_name": "LayoutView",
            "align_content": null,
            "align_items": null,
            "align_self": null,
            "border": null,
            "bottom": null,
            "display": null,
            "flex": null,
            "flex_flow": null,
            "grid_area": null,
            "grid_auto_columns": null,
            "grid_auto_flow": null,
            "grid_auto_rows": null,
            "grid_column": null,
            "grid_gap": null,
            "grid_row": null,
            "grid_template_areas": null,
            "grid_template_columns": null,
            "grid_template_rows": null,
            "height": null,
            "justify_content": null,
            "justify_items": null,
            "left": null,
            "margin": null,
            "max_height": null,
            "max_width": null,
            "min_height": null,
            "min_width": null,
            "object_fit": null,
            "object_position": null,
            "order": null,
            "overflow": null,
            "overflow_x": null,
            "overflow_y": null,
            "padding": null,
            "right": null,
            "top": null,
            "visibility": null,
            "width": null
          }
        },
        "c232d8d6dee44e5085314a35e89e4daf": {
          "model_module": "@jupyter-widgets/controls",
          "model_name": "DescriptionStyleModel",
          "model_module_version": "1.5.0",
          "state": {
            "_model_module": "@jupyter-widgets/controls",
            "_model_module_version": "1.5.0",
            "_model_name": "DescriptionStyleModel",
            "_view_count": null,
            "_view_module": "@jupyter-widgets/base",
            "_view_module_version": "1.2.0",
            "_view_name": "StyleView",
            "description_width": ""
          }
        },
        "5c15162a752f416ab652c1b69b268758": {
          "model_module": "@jupyter-widgets/base",
          "model_name": "LayoutModel",
          "model_module_version": "1.2.0",
          "state": {
            "_model_module": "@jupyter-widgets/base",
            "_model_module_version": "1.2.0",
            "_model_name": "LayoutModel",
            "_view_count": null,
            "_view_module": "@jupyter-widgets/base",
            "_view_module_version": "1.2.0",
            "_view_name": "LayoutView",
            "align_content": null,
            "align_items": null,
            "align_self": null,
            "border": null,
            "bottom": null,
            "display": null,
            "flex": null,
            "flex_flow": null,
            "grid_area": null,
            "grid_auto_columns": null,
            "grid_auto_flow": null,
            "grid_auto_rows": null,
            "grid_column": null,
            "grid_gap": null,
            "grid_row": null,
            "grid_template_areas": null,
            "grid_template_columns": null,
            "grid_template_rows": null,
            "height": null,
            "justify_content": null,
            "justify_items": null,
            "left": null,
            "margin": null,
            "max_height": null,
            "max_width": null,
            "min_height": null,
            "min_width": null,
            "object_fit": null,
            "object_position": null,
            "order": null,
            "overflow": null,
            "overflow_x": null,
            "overflow_y": null,
            "padding": null,
            "right": null,
            "top": null,
            "visibility": null,
            "width": null
          }
        },
        "9624ee43f47642dea16626003bfef410": {
          "model_module": "@jupyter-widgets/controls",
          "model_name": "ProgressStyleModel",
          "model_module_version": "1.5.0",
          "state": {
            "_model_module": "@jupyter-widgets/controls",
            "_model_module_version": "1.5.0",
            "_model_name": "ProgressStyleModel",
            "_view_count": null,
            "_view_module": "@jupyter-widgets/base",
            "_view_module_version": "1.2.0",
            "_view_name": "StyleView",
            "bar_color": null,
            "description_width": ""
          }
        },
        "03154149efcd48f2ba6ff5bb6f038ee2": {
          "model_module": "@jupyter-widgets/base",
          "model_name": "LayoutModel",
          "model_module_version": "1.2.0",
          "state": {
            "_model_module": "@jupyter-widgets/base",
            "_model_module_version": "1.2.0",
            "_model_name": "LayoutModel",
            "_view_count": null,
            "_view_module": "@jupyter-widgets/base",
            "_view_module_version": "1.2.0",
            "_view_name": "LayoutView",
            "align_content": null,
            "align_items": null,
            "align_self": null,
            "border": null,
            "bottom": null,
            "display": null,
            "flex": null,
            "flex_flow": null,
            "grid_area": null,
            "grid_auto_columns": null,
            "grid_auto_flow": null,
            "grid_auto_rows": null,
            "grid_column": null,
            "grid_gap": null,
            "grid_row": null,
            "grid_template_areas": null,
            "grid_template_columns": null,
            "grid_template_rows": null,
            "height": null,
            "justify_content": null,
            "justify_items": null,
            "left": null,
            "margin": null,
            "max_height": null,
            "max_width": null,
            "min_height": null,
            "min_width": null,
            "object_fit": null,
            "object_position": null,
            "order": null,
            "overflow": null,
            "overflow_x": null,
            "overflow_y": null,
            "padding": null,
            "right": null,
            "top": null,
            "visibility": null,
            "width": null
          }
        },
        "fe52a208e1394e78a76142ce30640a74": {
          "model_module": "@jupyter-widgets/controls",
          "model_name": "DescriptionStyleModel",
          "model_module_version": "1.5.0",
          "state": {
            "_model_module": "@jupyter-widgets/controls",
            "_model_module_version": "1.5.0",
            "_model_name": "DescriptionStyleModel",
            "_view_count": null,
            "_view_module": "@jupyter-widgets/base",
            "_view_module_version": "1.2.0",
            "_view_name": "StyleView",
            "description_width": ""
          }
        },
        "1a87e6e4d6d74bd0b61b3f5305d84091": {
          "model_module": "@jupyter-widgets/controls",
          "model_name": "HBoxModel",
          "model_module_version": "1.5.0",
          "state": {
            "_dom_classes": [],
            "_model_module": "@jupyter-widgets/controls",
            "_model_module_version": "1.5.0",
            "_model_name": "HBoxModel",
            "_view_count": null,
            "_view_module": "@jupyter-widgets/controls",
            "_view_module_version": "1.5.0",
            "_view_name": "HBoxView",
            "box_style": "",
            "children": [
              "IPY_MODEL_b4c40c84f0e94dddbdf5739fc86e4342",
              "IPY_MODEL_ae1507f702484d1fa995b18ad38ac69d",
              "IPY_MODEL_1efe0166622347918301dfcc670b306d"
            ],
            "layout": "IPY_MODEL_4172347443de41f99e514b0bfa65ab64"
          }
        },
        "b4c40c84f0e94dddbdf5739fc86e4342": {
          "model_module": "@jupyter-widgets/controls",
          "model_name": "HTMLModel",
          "model_module_version": "1.5.0",
          "state": {
            "_dom_classes": [],
            "_model_module": "@jupyter-widgets/controls",
            "_model_module_version": "1.5.0",
            "_model_name": "HTMLModel",
            "_view_count": null,
            "_view_module": "@jupyter-widgets/controls",
            "_view_module_version": "1.5.0",
            "_view_name": "HTMLView",
            "description": "",
            "description_tooltip": null,
            "layout": "IPY_MODEL_7ca751b279c242db8eb07162d4db273f",
            "placeholder": "​",
            "style": "IPY_MODEL_3f5981424f7f492a8449d3225ddad0c9",
            "value": "100%"
          }
        },
        "ae1507f702484d1fa995b18ad38ac69d": {
          "model_module": "@jupyter-widgets/controls",
          "model_name": "FloatProgressModel",
          "model_module_version": "1.5.0",
          "state": {
            "_dom_classes": [],
            "_model_module": "@jupyter-widgets/controls",
            "_model_module_version": "1.5.0",
            "_model_name": "FloatProgressModel",
            "_view_count": null,
            "_view_module": "@jupyter-widgets/controls",
            "_view_module_version": "1.5.0",
            "_view_name": "ProgressView",
            "bar_style": "success",
            "description": "",
            "description_tooltip": null,
            "layout": "IPY_MODEL_80a70361bb804f52be3893d45b53b27b",
            "max": 16,
            "min": 0,
            "orientation": "horizontal",
            "style": "IPY_MODEL_5896fe05a0734c86b5730bd0a5cb1b11",
            "value": 16
          }
        },
        "1efe0166622347918301dfcc670b306d": {
          "model_module": "@jupyter-widgets/controls",
          "model_name": "HTMLModel",
          "model_module_version": "1.5.0",
          "state": {
            "_dom_classes": [],
            "_model_module": "@jupyter-widgets/controls",
            "_model_module_version": "1.5.0",
            "_model_name": "HTMLModel",
            "_view_count": null,
            "_view_module": "@jupyter-widgets/controls",
            "_view_module_version": "1.5.0",
            "_view_name": "HTMLView",
            "description": "",
            "description_tooltip": null,
            "layout": "IPY_MODEL_60aab32327034f1a866b29586203201d",
            "placeholder": "​",
            "style": "IPY_MODEL_31dc579ebd274f0da0aeea4004598522",
            "value": " 16/16 [00:00&lt;00:00, 89.81it/s]"
          }
        },
        "4172347443de41f99e514b0bfa65ab64": {
          "model_module": "@jupyter-widgets/base",
          "model_name": "LayoutModel",
          "model_module_version": "1.2.0",
          "state": {
            "_model_module": "@jupyter-widgets/base",
            "_model_module_version": "1.2.0",
            "_model_name": "LayoutModel",
            "_view_count": null,
            "_view_module": "@jupyter-widgets/base",
            "_view_module_version": "1.2.0",
            "_view_name": "LayoutView",
            "align_content": null,
            "align_items": null,
            "align_self": null,
            "border": null,
            "bottom": null,
            "display": null,
            "flex": null,
            "flex_flow": null,
            "grid_area": null,
            "grid_auto_columns": null,
            "grid_auto_flow": null,
            "grid_auto_rows": null,
            "grid_column": null,
            "grid_gap": null,
            "grid_row": null,
            "grid_template_areas": null,
            "grid_template_columns": null,
            "grid_template_rows": null,
            "height": null,
            "justify_content": null,
            "justify_items": null,
            "left": null,
            "margin": null,
            "max_height": null,
            "max_width": null,
            "min_height": null,
            "min_width": null,
            "object_fit": null,
            "object_position": null,
            "order": null,
            "overflow": null,
            "overflow_x": null,
            "overflow_y": null,
            "padding": null,
            "right": null,
            "top": null,
            "visibility": null,
            "width": null
          }
        },
        "7ca751b279c242db8eb07162d4db273f": {
          "model_module": "@jupyter-widgets/base",
          "model_name": "LayoutModel",
          "model_module_version": "1.2.0",
          "state": {
            "_model_module": "@jupyter-widgets/base",
            "_model_module_version": "1.2.0",
            "_model_name": "LayoutModel",
            "_view_count": null,
            "_view_module": "@jupyter-widgets/base",
            "_view_module_version": "1.2.0",
            "_view_name": "LayoutView",
            "align_content": null,
            "align_items": null,
            "align_self": null,
            "border": null,
            "bottom": null,
            "display": null,
            "flex": null,
            "flex_flow": null,
            "grid_area": null,
            "grid_auto_columns": null,
            "grid_auto_flow": null,
            "grid_auto_rows": null,
            "grid_column": null,
            "grid_gap": null,
            "grid_row": null,
            "grid_template_areas": null,
            "grid_template_columns": null,
            "grid_template_rows": null,
            "height": null,
            "justify_content": null,
            "justify_items": null,
            "left": null,
            "margin": null,
            "max_height": null,
            "max_width": null,
            "min_height": null,
            "min_width": null,
            "object_fit": null,
            "object_position": null,
            "order": null,
            "overflow": null,
            "overflow_x": null,
            "overflow_y": null,
            "padding": null,
            "right": null,
            "top": null,
            "visibility": null,
            "width": null
          }
        },
        "3f5981424f7f492a8449d3225ddad0c9": {
          "model_module": "@jupyter-widgets/controls",
          "model_name": "DescriptionStyleModel",
          "model_module_version": "1.5.0",
          "state": {
            "_model_module": "@jupyter-widgets/controls",
            "_model_module_version": "1.5.0",
            "_model_name": "DescriptionStyleModel",
            "_view_count": null,
            "_view_module": "@jupyter-widgets/base",
            "_view_module_version": "1.2.0",
            "_view_name": "StyleView",
            "description_width": ""
          }
        },
        "80a70361bb804f52be3893d45b53b27b": {
          "model_module": "@jupyter-widgets/base",
          "model_name": "LayoutModel",
          "model_module_version": "1.2.0",
          "state": {
            "_model_module": "@jupyter-widgets/base",
            "_model_module_version": "1.2.0",
            "_model_name": "LayoutModel",
            "_view_count": null,
            "_view_module": "@jupyter-widgets/base",
            "_view_module_version": "1.2.0",
            "_view_name": "LayoutView",
            "align_content": null,
            "align_items": null,
            "align_self": null,
            "border": null,
            "bottom": null,
            "display": null,
            "flex": null,
            "flex_flow": null,
            "grid_area": null,
            "grid_auto_columns": null,
            "grid_auto_flow": null,
            "grid_auto_rows": null,
            "grid_column": null,
            "grid_gap": null,
            "grid_row": null,
            "grid_template_areas": null,
            "grid_template_columns": null,
            "grid_template_rows": null,
            "height": null,
            "justify_content": null,
            "justify_items": null,
            "left": null,
            "margin": null,
            "max_height": null,
            "max_width": null,
            "min_height": null,
            "min_width": null,
            "object_fit": null,
            "object_position": null,
            "order": null,
            "overflow": null,
            "overflow_x": null,
            "overflow_y": null,
            "padding": null,
            "right": null,
            "top": null,
            "visibility": null,
            "width": null
          }
        },
        "5896fe05a0734c86b5730bd0a5cb1b11": {
          "model_module": "@jupyter-widgets/controls",
          "model_name": "ProgressStyleModel",
          "model_module_version": "1.5.0",
          "state": {
            "_model_module": "@jupyter-widgets/controls",
            "_model_module_version": "1.5.0",
            "_model_name": "ProgressStyleModel",
            "_view_count": null,
            "_view_module": "@jupyter-widgets/base",
            "_view_module_version": "1.2.0",
            "_view_name": "StyleView",
            "bar_color": null,
            "description_width": ""
          }
        },
        "60aab32327034f1a866b29586203201d": {
          "model_module": "@jupyter-widgets/base",
          "model_name": "LayoutModel",
          "model_module_version": "1.2.0",
          "state": {
            "_model_module": "@jupyter-widgets/base",
            "_model_module_version": "1.2.0",
            "_model_name": "LayoutModel",
            "_view_count": null,
            "_view_module": "@jupyter-widgets/base",
            "_view_module_version": "1.2.0",
            "_view_name": "LayoutView",
            "align_content": null,
            "align_items": null,
            "align_self": null,
            "border": null,
            "bottom": null,
            "display": null,
            "flex": null,
            "flex_flow": null,
            "grid_area": null,
            "grid_auto_columns": null,
            "grid_auto_flow": null,
            "grid_auto_rows": null,
            "grid_column": null,
            "grid_gap": null,
            "grid_row": null,
            "grid_template_areas": null,
            "grid_template_columns": null,
            "grid_template_rows": null,
            "height": null,
            "justify_content": null,
            "justify_items": null,
            "left": null,
            "margin": null,
            "max_height": null,
            "max_width": null,
            "min_height": null,
            "min_width": null,
            "object_fit": null,
            "object_position": null,
            "order": null,
            "overflow": null,
            "overflow_x": null,
            "overflow_y": null,
            "padding": null,
            "right": null,
            "top": null,
            "visibility": null,
            "width": null
          }
        },
        "31dc579ebd274f0da0aeea4004598522": {
          "model_module": "@jupyter-widgets/controls",
          "model_name": "DescriptionStyleModel",
          "model_module_version": "1.5.0",
          "state": {
            "_model_module": "@jupyter-widgets/controls",
            "_model_module_version": "1.5.0",
            "_model_name": "DescriptionStyleModel",
            "_view_count": null,
            "_view_module": "@jupyter-widgets/base",
            "_view_module_version": "1.2.0",
            "_view_name": "StyleView",
            "description_width": ""
          }
        }
      }
    }
  },
  "cells": [
    {
      "cell_type": "code",
      "source": [
        "pip install pytearcat"
      ],
      "metadata": {
        "colab": {
          "base_uri": "https://localhost:8080/"
        },
        "id": "wgDndktw8mjR",
        "outputId": "e098d7c4-d012-4e51-dfd6-09277d96cb8d"
      },
      "execution_count": 3,
      "outputs": [
        {
          "output_type": "stream",
          "name": "stdout",
          "text": [
            "Collecting pytearcat\n",
            "  Downloading pytearcat-0.0.8-py3-none-any.whl.metadata (5.8 kB)\n",
            "Collecting jupyter>=1.0.0 (from pytearcat)\n",
            "  Downloading jupyter-1.1.1-py2.py3-none-any.whl.metadata (2.0 kB)\n",
            "Requirement already satisfied: numpy>=1.22.0 in /usr/local/lib/python3.12/dist-packages (from pytearcat) (2.0.2)\n",
            "Requirement already satisfied: sympy>=1.7.1 in /usr/local/lib/python3.12/dist-packages (from pytearcat) (1.13.3)\n",
            "Requirement already satisfied: tqdm>=4.55.0 in /usr/local/lib/python3.12/dist-packages (from pytearcat) (4.67.1)\n",
            "Collecting jedi>=0.17.2 (from pytearcat)\n",
            "  Downloading jedi-0.19.2-py2.py3-none-any.whl.metadata (22 kB)\n",
            "Requirement already satisfied: parso<0.9.0,>=0.8.4 in /usr/local/lib/python3.12/dist-packages (from jedi>=0.17.2->pytearcat) (0.8.5)\n",
            "Requirement already satisfied: notebook in /usr/local/lib/python3.12/dist-packages (from jupyter>=1.0.0->pytearcat) (6.5.7)\n",
            "Requirement already satisfied: jupyter-console in /usr/local/lib/python3.12/dist-packages (from jupyter>=1.0.0->pytearcat) (6.6.3)\n",
            "Requirement already satisfied: nbconvert in /usr/local/lib/python3.12/dist-packages (from jupyter>=1.0.0->pytearcat) (7.16.6)\n",
            "Requirement already satisfied: ipykernel in /usr/local/lib/python3.12/dist-packages (from jupyter>=1.0.0->pytearcat) (6.17.1)\n",
            "Requirement already satisfied: ipywidgets in /usr/local/lib/python3.12/dist-packages (from jupyter>=1.0.0->pytearcat) (7.7.1)\n",
            "Collecting jupyterlab (from jupyter>=1.0.0->pytearcat)\n",
            "  Downloading jupyterlab-4.4.10-py3-none-any.whl.metadata (16 kB)\n",
            "Requirement already satisfied: mpmath<1.4,>=1.1.0 in /usr/local/lib/python3.12/dist-packages (from sympy>=1.7.1->pytearcat) (1.3.0)\n",
            "Requirement already satisfied: debugpy>=1.0 in /usr/local/lib/python3.12/dist-packages (from ipykernel->jupyter>=1.0.0->pytearcat) (1.8.15)\n",
            "Requirement already satisfied: ipython>=7.23.1 in /usr/local/lib/python3.12/dist-packages (from ipykernel->jupyter>=1.0.0->pytearcat) (7.34.0)\n",
            "Requirement already satisfied: jupyter-client>=6.1.12 in /usr/local/lib/python3.12/dist-packages (from ipykernel->jupyter>=1.0.0->pytearcat) (7.4.9)\n",
            "Requirement already satisfied: matplotlib-inline>=0.1 in /usr/local/lib/python3.12/dist-packages (from ipykernel->jupyter>=1.0.0->pytearcat) (0.1.7)\n",
            "Requirement already satisfied: nest-asyncio in /usr/local/lib/python3.12/dist-packages (from ipykernel->jupyter>=1.0.0->pytearcat) (1.6.0)\n",
            "Requirement already satisfied: packaging in /usr/local/lib/python3.12/dist-packages (from ipykernel->jupyter>=1.0.0->pytearcat) (25.0)\n",
            "Requirement already satisfied: psutil in /usr/local/lib/python3.12/dist-packages (from ipykernel->jupyter>=1.0.0->pytearcat) (5.9.5)\n",
            "Requirement already satisfied: pyzmq>=17 in /usr/local/lib/python3.12/dist-packages (from ipykernel->jupyter>=1.0.0->pytearcat) (26.2.1)\n",
            "Requirement already satisfied: tornado>=6.1 in /usr/local/lib/python3.12/dist-packages (from ipykernel->jupyter>=1.0.0->pytearcat) (6.5.1)\n",
            "Requirement already satisfied: traitlets>=5.1.0 in /usr/local/lib/python3.12/dist-packages (from ipykernel->jupyter>=1.0.0->pytearcat) (5.7.1)\n",
            "Requirement already satisfied: ipython-genutils~=0.2.0 in /usr/local/lib/python3.12/dist-packages (from ipywidgets->jupyter>=1.0.0->pytearcat) (0.2.0)\n",
            "Requirement already satisfied: widgetsnbextension~=3.6.0 in /usr/local/lib/python3.12/dist-packages (from ipywidgets->jupyter>=1.0.0->pytearcat) (3.6.10)\n",
            "Requirement already satisfied: jupyterlab-widgets>=1.0.0 in /usr/local/lib/python3.12/dist-packages (from ipywidgets->jupyter>=1.0.0->pytearcat) (3.0.15)\n",
            "Requirement already satisfied: jupyter-core!=5.0.*,>=4.12 in /usr/local/lib/python3.12/dist-packages (from jupyter-console->jupyter>=1.0.0->pytearcat) (5.9.1)\n",
            "Requirement already satisfied: prompt-toolkit>=3.0.30 in /usr/local/lib/python3.12/dist-packages (from jupyter-console->jupyter>=1.0.0->pytearcat) (3.0.52)\n",
            "Requirement already satisfied: pygments in /usr/local/lib/python3.12/dist-packages (from jupyter-console->jupyter>=1.0.0->pytearcat) (2.19.2)\n",
            "Collecting async-lru>=1.0.0 (from jupyterlab->jupyter>=1.0.0->pytearcat)\n",
            "  Downloading async_lru-2.0.5-py3-none-any.whl.metadata (4.5 kB)\n",
            "Requirement already satisfied: httpx<1,>=0.25.0 in /usr/local/lib/python3.12/dist-packages (from jupyterlab->jupyter>=1.0.0->pytearcat) (0.28.1)\n",
            "Requirement already satisfied: jinja2>=3.0.3 in /usr/local/lib/python3.12/dist-packages (from jupyterlab->jupyter>=1.0.0->pytearcat) (3.1.6)\n",
            "Collecting jupyter-lsp>=2.0.0 (from jupyterlab->jupyter>=1.0.0->pytearcat)\n",
            "  Downloading jupyter_lsp-2.3.0-py3-none-any.whl.metadata (1.8 kB)\n",
            "Requirement already satisfied: jupyter-server<3,>=2.4.0 in /usr/local/lib/python3.12/dist-packages (from jupyterlab->jupyter>=1.0.0->pytearcat) (2.14.0)\n",
            "Collecting jupyterlab-server<3,>=2.27.1 (from jupyterlab->jupyter>=1.0.0->pytearcat)\n",
            "  Downloading jupyterlab_server-2.28.0-py3-none-any.whl.metadata (5.9 kB)\n",
            "Requirement already satisfied: notebook-shim>=0.2 in /usr/local/lib/python3.12/dist-packages (from jupyterlab->jupyter>=1.0.0->pytearcat) (0.2.4)\n",
            "Requirement already satisfied: setuptools>=41.1.0 in /usr/local/lib/python3.12/dist-packages (from jupyterlab->jupyter>=1.0.0->pytearcat) (75.2.0)\n",
            "Requirement already satisfied: beautifulsoup4 in /usr/local/lib/python3.12/dist-packages (from nbconvert->jupyter>=1.0.0->pytearcat) (4.13.5)\n",
            "Requirement already satisfied: bleach!=5.0.0 in /usr/local/lib/python3.12/dist-packages (from bleach[css]!=5.0.0->nbconvert->jupyter>=1.0.0->pytearcat) (6.2.0)\n",
            "Requirement already satisfied: defusedxml in /usr/local/lib/python3.12/dist-packages (from nbconvert->jupyter>=1.0.0->pytearcat) (0.7.1)\n",
            "Requirement already satisfied: jupyterlab-pygments in /usr/local/lib/python3.12/dist-packages (from nbconvert->jupyter>=1.0.0->pytearcat) (0.3.0)\n",
            "Requirement already satisfied: markupsafe>=2.0 in /usr/local/lib/python3.12/dist-packages (from nbconvert->jupyter>=1.0.0->pytearcat) (3.0.3)\n",
            "Requirement already satisfied: mistune<4,>=2.0.3 in /usr/local/lib/python3.12/dist-packages (from nbconvert->jupyter>=1.0.0->pytearcat) (3.1.4)\n",
            "Requirement already satisfied: nbclient>=0.5.0 in /usr/local/lib/python3.12/dist-packages (from nbconvert->jupyter>=1.0.0->pytearcat) (0.10.2)\n",
            "Requirement already satisfied: nbformat>=5.7 in /usr/local/lib/python3.12/dist-packages (from nbconvert->jupyter>=1.0.0->pytearcat) (5.10.4)\n",
            "Requirement already satisfied: pandocfilters>=1.4.1 in /usr/local/lib/python3.12/dist-packages (from nbconvert->jupyter>=1.0.0->pytearcat) (1.5.1)\n",
            "Requirement already satisfied: argon2-cffi in /usr/local/lib/python3.12/dist-packages (from notebook->jupyter>=1.0.0->pytearcat) (25.1.0)\n",
            "Requirement already satisfied: Send2Trash>=1.8.0 in /usr/local/lib/python3.12/dist-packages (from notebook->jupyter>=1.0.0->pytearcat) (1.8.3)\n",
            "Requirement already satisfied: terminado>=0.8.3 in /usr/local/lib/python3.12/dist-packages (from notebook->jupyter>=1.0.0->pytearcat) (0.18.1)\n",
            "Requirement already satisfied: prometheus-client in /usr/local/lib/python3.12/dist-packages (from notebook->jupyter>=1.0.0->pytearcat) (0.23.1)\n",
            "Requirement already satisfied: nbclassic>=0.4.7 in /usr/local/lib/python3.12/dist-packages (from notebook->jupyter>=1.0.0->pytearcat) (1.3.3)\n",
            "Requirement already satisfied: webencodings in /usr/local/lib/python3.12/dist-packages (from bleach!=5.0.0->bleach[css]!=5.0.0->nbconvert->jupyter>=1.0.0->pytearcat) (0.5.1)\n",
            "Requirement already satisfied: tinycss2<1.5,>=1.1.0 in /usr/local/lib/python3.12/dist-packages (from bleach[css]!=5.0.0->nbconvert->jupyter>=1.0.0->pytearcat) (1.4.0)\n",
            "Requirement already satisfied: anyio in /usr/local/lib/python3.12/dist-packages (from httpx<1,>=0.25.0->jupyterlab->jupyter>=1.0.0->pytearcat) (4.11.0)\n",
            "Requirement already satisfied: certifi in /usr/local/lib/python3.12/dist-packages (from httpx<1,>=0.25.0->jupyterlab->jupyter>=1.0.0->pytearcat) (2025.10.5)\n",
            "Requirement already satisfied: httpcore==1.* in /usr/local/lib/python3.12/dist-packages (from httpx<1,>=0.25.0->jupyterlab->jupyter>=1.0.0->pytearcat) (1.0.9)\n",
            "Requirement already satisfied: idna in /usr/local/lib/python3.12/dist-packages (from httpx<1,>=0.25.0->jupyterlab->jupyter>=1.0.0->pytearcat) (3.11)\n",
            "Requirement already satisfied: h11>=0.16 in /usr/local/lib/python3.12/dist-packages (from httpcore==1.*->httpx<1,>=0.25.0->jupyterlab->jupyter>=1.0.0->pytearcat) (0.16.0)\n",
            "Requirement already satisfied: decorator in /usr/local/lib/python3.12/dist-packages (from ipython>=7.23.1->ipykernel->jupyter>=1.0.0->pytearcat) (4.4.2)\n",
            "Requirement already satisfied: pickleshare in /usr/local/lib/python3.12/dist-packages (from ipython>=7.23.1->ipykernel->jupyter>=1.0.0->pytearcat) (0.7.5)\n",
            "Requirement already satisfied: backcall in /usr/local/lib/python3.12/dist-packages (from ipython>=7.23.1->ipykernel->jupyter>=1.0.0->pytearcat) (0.2.0)\n",
            "Requirement already satisfied: pexpect>4.3 in /usr/local/lib/python3.12/dist-packages (from ipython>=7.23.1->ipykernel->jupyter>=1.0.0->pytearcat) (4.9.0)\n",
            "Requirement already satisfied: entrypoints in /usr/local/lib/python3.12/dist-packages (from jupyter-client>=6.1.12->ipykernel->jupyter>=1.0.0->pytearcat) (0.4)\n",
            "Requirement already satisfied: python-dateutil>=2.8.2 in /usr/local/lib/python3.12/dist-packages (from jupyter-client>=6.1.12->ipykernel->jupyter>=1.0.0->pytearcat) (2.9.0.post0)\n",
            "Requirement already satisfied: platformdirs>=2.5 in /usr/local/lib/python3.12/dist-packages (from jupyter-core!=5.0.*,>=4.12->jupyter-console->jupyter>=1.0.0->pytearcat) (4.5.0)\n",
            "Requirement already satisfied: jupyter-events>=0.9.0 in /usr/local/lib/python3.12/dist-packages (from jupyter-server<3,>=2.4.0->jupyterlab->jupyter>=1.0.0->pytearcat) (0.12.0)\n",
            "Requirement already satisfied: jupyter-server-terminals>=0.4.4 in /usr/local/lib/python3.12/dist-packages (from jupyter-server<3,>=2.4.0->jupyterlab->jupyter>=1.0.0->pytearcat) (0.5.3)\n",
            "Requirement already satisfied: overrides>=5.0 in /usr/local/lib/python3.12/dist-packages (from jupyter-server<3,>=2.4.0->jupyterlab->jupyter>=1.0.0->pytearcat) (7.7.0)\n",
            "Requirement already satisfied: websocket-client>=1.7 in /usr/local/lib/python3.12/dist-packages (from jupyter-server<3,>=2.4.0->jupyterlab->jupyter>=1.0.0->pytearcat) (1.9.0)\n",
            "Requirement already satisfied: argon2-cffi-bindings in /usr/local/lib/python3.12/dist-packages (from argon2-cffi->notebook->jupyter>=1.0.0->pytearcat) (25.1.0)\n",
            "Requirement already satisfied: babel>=2.10 in /usr/local/lib/python3.12/dist-packages (from jupyterlab-server<3,>=2.27.1->jupyterlab->jupyter>=1.0.0->pytearcat) (2.17.0)\n",
            "Collecting json5>=0.9.0 (from jupyterlab-server<3,>=2.27.1->jupyterlab->jupyter>=1.0.0->pytearcat)\n",
            "  Downloading json5-0.12.1-py3-none-any.whl.metadata (36 kB)\n",
            "Requirement already satisfied: jsonschema>=4.18.0 in /usr/local/lib/python3.12/dist-packages (from jupyterlab-server<3,>=2.27.1->jupyterlab->jupyter>=1.0.0->pytearcat) (4.25.1)\n",
            "Requirement already satisfied: requests>=2.31 in /usr/local/lib/python3.12/dist-packages (from jupyterlab-server<3,>=2.27.1->jupyterlab->jupyter>=1.0.0->pytearcat) (2.32.4)\n",
            "Requirement already satisfied: fastjsonschema>=2.15 in /usr/local/lib/python3.12/dist-packages (from nbformat>=5.7->nbconvert->jupyter>=1.0.0->pytearcat) (2.21.2)\n",
            "Requirement already satisfied: wcwidth in /usr/local/lib/python3.12/dist-packages (from prompt-toolkit>=3.0.30->jupyter-console->jupyter>=1.0.0->pytearcat) (0.2.14)\n",
            "Requirement already satisfied: ptyprocess in /usr/local/lib/python3.12/dist-packages (from terminado>=0.8.3->notebook->jupyter>=1.0.0->pytearcat) (0.7.0)\n",
            "Requirement already satisfied: soupsieve>1.2 in /usr/local/lib/python3.12/dist-packages (from beautifulsoup4->nbconvert->jupyter>=1.0.0->pytearcat) (2.8)\n",
            "Requirement already satisfied: typing-extensions>=4.0.0 in /usr/local/lib/python3.12/dist-packages (from beautifulsoup4->nbconvert->jupyter>=1.0.0->pytearcat) (4.15.0)\n",
            "Requirement already satisfied: sniffio>=1.1 in /usr/local/lib/python3.12/dist-packages (from anyio->httpx<1,>=0.25.0->jupyterlab->jupyter>=1.0.0->pytearcat) (1.3.1)\n",
            "Requirement already satisfied: attrs>=22.2.0 in /usr/local/lib/python3.12/dist-packages (from jsonschema>=4.18.0->jupyterlab-server<3,>=2.27.1->jupyterlab->jupyter>=1.0.0->pytearcat) (25.4.0)\n",
            "Requirement already satisfied: jsonschema-specifications>=2023.03.6 in /usr/local/lib/python3.12/dist-packages (from jsonschema>=4.18.0->jupyterlab-server<3,>=2.27.1->jupyterlab->jupyter>=1.0.0->pytearcat) (2025.9.1)\n",
            "Requirement already satisfied: referencing>=0.28.4 in /usr/local/lib/python3.12/dist-packages (from jsonschema>=4.18.0->jupyterlab-server<3,>=2.27.1->jupyterlab->jupyter>=1.0.0->pytearcat) (0.37.0)\n",
            "Requirement already satisfied: rpds-py>=0.7.1 in /usr/local/lib/python3.12/dist-packages (from jsonschema>=4.18.0->jupyterlab-server<3,>=2.27.1->jupyterlab->jupyter>=1.0.0->pytearcat) (0.27.1)\n",
            "Requirement already satisfied: python-json-logger>=2.0.4 in /usr/local/lib/python3.12/dist-packages (from jupyter-events>=0.9.0->jupyter-server<3,>=2.4.0->jupyterlab->jupyter>=1.0.0->pytearcat) (4.0.0)\n",
            "Requirement already satisfied: pyyaml>=5.3 in /usr/local/lib/python3.12/dist-packages (from jupyter-events>=0.9.0->jupyter-server<3,>=2.4.0->jupyterlab->jupyter>=1.0.0->pytearcat) (6.0.3)\n",
            "Requirement already satisfied: rfc3339-validator in /usr/local/lib/python3.12/dist-packages (from jupyter-events>=0.9.0->jupyter-server<3,>=2.4.0->jupyterlab->jupyter>=1.0.0->pytearcat) (0.1.4)\n",
            "Requirement already satisfied: rfc3986-validator>=0.1.1 in /usr/local/lib/python3.12/dist-packages (from jupyter-events>=0.9.0->jupyter-server<3,>=2.4.0->jupyterlab->jupyter>=1.0.0->pytearcat) (0.1.1)\n",
            "Requirement already satisfied: six>=1.5 in /usr/local/lib/python3.12/dist-packages (from python-dateutil>=2.8.2->jupyter-client>=6.1.12->ipykernel->jupyter>=1.0.0->pytearcat) (1.17.0)\n",
            "Requirement already satisfied: charset_normalizer<4,>=2 in /usr/local/lib/python3.12/dist-packages (from requests>=2.31->jupyterlab-server<3,>=2.27.1->jupyterlab->jupyter>=1.0.0->pytearcat) (3.4.4)\n",
            "Requirement already satisfied: urllib3<3,>=1.21.1 in /usr/local/lib/python3.12/dist-packages (from requests>=2.31->jupyterlab-server<3,>=2.27.1->jupyterlab->jupyter>=1.0.0->pytearcat) (2.5.0)\n",
            "Requirement already satisfied: cffi>=1.0.1 in /usr/local/lib/python3.12/dist-packages (from argon2-cffi-bindings->argon2-cffi->notebook->jupyter>=1.0.0->pytearcat) (2.0.0)\n",
            "Requirement already satisfied: pycparser in /usr/local/lib/python3.12/dist-packages (from cffi>=1.0.1->argon2-cffi-bindings->argon2-cffi->notebook->jupyter>=1.0.0->pytearcat) (2.23)\n",
            "Requirement already satisfied: fqdn in /usr/local/lib/python3.12/dist-packages (from jsonschema[format-nongpl]>=4.18.0->jupyter-events>=0.9.0->jupyter-server<3,>=2.4.0->jupyterlab->jupyter>=1.0.0->pytearcat) (1.5.1)\n",
            "Requirement already satisfied: isoduration in /usr/local/lib/python3.12/dist-packages (from jsonschema[format-nongpl]>=4.18.0->jupyter-events>=0.9.0->jupyter-server<3,>=2.4.0->jupyterlab->jupyter>=1.0.0->pytearcat) (20.11.0)\n",
            "Requirement already satisfied: jsonpointer>1.13 in /usr/local/lib/python3.12/dist-packages (from jsonschema[format-nongpl]>=4.18.0->jupyter-events>=0.9.0->jupyter-server<3,>=2.4.0->jupyterlab->jupyter>=1.0.0->pytearcat) (3.0.0)\n",
            "Requirement already satisfied: rfc3987-syntax>=1.1.0 in /usr/local/lib/python3.12/dist-packages (from jsonschema[format-nongpl]>=4.18.0->jupyter-events>=0.9.0->jupyter-server<3,>=2.4.0->jupyterlab->jupyter>=1.0.0->pytearcat) (1.1.0)\n",
            "Requirement already satisfied: uri-template in /usr/local/lib/python3.12/dist-packages (from jsonschema[format-nongpl]>=4.18.0->jupyter-events>=0.9.0->jupyter-server<3,>=2.4.0->jupyterlab->jupyter>=1.0.0->pytearcat) (1.3.0)\n",
            "Requirement already satisfied: webcolors>=24.6.0 in /usr/local/lib/python3.12/dist-packages (from jsonschema[format-nongpl]>=4.18.0->jupyter-events>=0.9.0->jupyter-server<3,>=2.4.0->jupyterlab->jupyter>=1.0.0->pytearcat) (24.11.1)\n",
            "Requirement already satisfied: lark>=1.2.2 in /usr/local/lib/python3.12/dist-packages (from rfc3987-syntax>=1.1.0->jsonschema[format-nongpl]>=4.18.0->jupyter-events>=0.9.0->jupyter-server<3,>=2.4.0->jupyterlab->jupyter>=1.0.0->pytearcat) (1.3.0)\n",
            "Requirement already satisfied: arrow>=0.15.0 in /usr/local/lib/python3.12/dist-packages (from isoduration->jsonschema[format-nongpl]>=4.18.0->jupyter-events>=0.9.0->jupyter-server<3,>=2.4.0->jupyterlab->jupyter>=1.0.0->pytearcat) (1.4.0)\n",
            "Requirement already satisfied: tzdata in /usr/local/lib/python3.12/dist-packages (from arrow>=0.15.0->isoduration->jsonschema[format-nongpl]>=4.18.0->jupyter-events>=0.9.0->jupyter-server<3,>=2.4.0->jupyterlab->jupyter>=1.0.0->pytearcat) (2025.2)\n",
            "Downloading pytearcat-0.0.8-py3-none-any.whl (67 kB)\n",
            "\u001b[2K   \u001b[90m━━━━━━━━━━━━━━━━━━━━━━━━━━━━━━━━━━━━━━━━\u001b[0m \u001b[32m67.9/67.9 kB\u001b[0m \u001b[31m4.8 MB/s\u001b[0m eta \u001b[36m0:00:00\u001b[0m\n",
            "\u001b[?25hDownloading jedi-0.19.2-py2.py3-none-any.whl (1.6 MB)\n",
            "\u001b[2K   \u001b[90m━━━━━━━━━━━━━━━━━━━━━━━━━━━━━━━━━━━━━━━━\u001b[0m \u001b[32m1.6/1.6 MB\u001b[0m \u001b[31m52.1 MB/s\u001b[0m eta \u001b[36m0:00:00\u001b[0m\n",
            "\u001b[?25hDownloading jupyter-1.1.1-py2.py3-none-any.whl (2.7 kB)\n",
            "Downloading jupyterlab-4.4.10-py3-none-any.whl (12.3 MB)\n",
            "\u001b[2K   \u001b[90m━━━━━━━━━━━━━━━━━━━━━━━━━━━━━━━━━━━━━━━━\u001b[0m \u001b[32m12.3/12.3 MB\u001b[0m \u001b[31m106.4 MB/s\u001b[0m eta \u001b[36m0:00:00\u001b[0m\n",
            "\u001b[?25hDownloading async_lru-2.0.5-py3-none-any.whl (6.1 kB)\n",
            "Downloading jupyter_lsp-2.3.0-py3-none-any.whl (76 kB)\n",
            "\u001b[2K   \u001b[90m━━━━━━━━━━━━━━━━━━━━━━━━━━━━━━━━━━━━━━━━\u001b[0m \u001b[32m76.7/76.7 kB\u001b[0m \u001b[31m6.3 MB/s\u001b[0m eta \u001b[36m0:00:00\u001b[0m\n",
            "\u001b[?25hDownloading jupyterlab_server-2.28.0-py3-none-any.whl (59 kB)\n",
            "\u001b[2K   \u001b[90m━━━━━━━━━━━━━━━━━━━━━━━━━━━━━━━━━━━━━━━━\u001b[0m \u001b[32m59.8/59.8 kB\u001b[0m \u001b[31m4.4 MB/s\u001b[0m eta \u001b[36m0:00:00\u001b[0m\n",
            "\u001b[?25hDownloading json5-0.12.1-py3-none-any.whl (36 kB)\n",
            "Installing collected packages: json5, jedi, async-lru, jupyterlab-server, jupyter-lsp, jupyterlab, jupyter, pytearcat\n",
            "Successfully installed async-lru-2.0.5 jedi-0.19.2 json5-0.12.1 jupyter-1.1.1 jupyter-lsp-2.3.0 jupyterlab-4.4.10 jupyterlab-server-2.28.0 pytearcat-0.0.8\n"
          ]
        }
      ]
    },
    {
      "cell_type": "code",
      "source": [
        "import pytearcat as pt\n",
        "# Define the coordinates to be used\n",
        "t,r,theta,phi = pt.coords('t,r,theta,phi')\n",
        "# Define any constant (more than one constant can be defined at the same time)\n",
        "Phi = pt.fun('Phi','r')\n",
        "b = pt.fun('b','r')\n",
        "g = pt.metric(\n",
        "    \"ds2 = +exp(2*Phi)*dt**2 - dr**2/(1 - b/r) - r**2*(dtheta**2 - sin(theta)**2*dphi**2)\"\n",
        ")"
      ],
      "metadata": {
        "colab": {
          "base_uri": "https://localhost:8080/",
          "height": 256
        },
        "id": "bONia4whIw24",
        "outputId": "06dbce19-639f-4722-cd3a-cd2466981197"
      },
      "execution_count": 5,
      "outputs": [
        {
          "output_type": "stream",
          "name": "stdout",
          "text": [
            "Remember that the time coordinate must be the first coordinate.\n",
            "\n",
            "Dimension = 4\n",
            "Coordinates = t,r,theta,phi\n",
            "Metric defined successfully: \n",
            "\n"
          ]
        },
        {
          "output_type": "display_data",
          "data": {
            "text/plain": [
              "<IPython.core.display.Math object>"
            ],
            "text/latex": "$\\displaystyle ds^2 = e^{2 \\Phi{\\left(r \\right)}} \\cdot dt^2- \\frac{1}{1 - \\frac{b{\\left(r \\right)}}{r}} \\cdot dr^2- r^{2} \\cdot d\\theta^2+r^{2} \\sin^{2}{\\left(\\theta \\right)} \\cdot d\\phi^2$"
          },
          "metadata": {}
        },
        {
          "output_type": "display_data",
          "data": {
            "text/plain": [
              "Matrix([\n",
              "[exp(2*Phi(r)),               0,     0,                  0],\n",
              "[            0, -1/(1 - b(r)/r),     0,                  0],\n",
              "[            0,               0, -r**2,                  0],\n",
              "[            0,               0,     0, r**2*sin(theta)**2]])"
            ],
            "text/latex": "$\\displaystyle \\left[\\begin{matrix}e^{2 \\Phi{\\left(r \\right)}} & 0 & 0 & 0\\\\0 & - \\frac{1}{1 - \\frac{b{\\left(r \\right)}}{r}} & 0 & 0\\\\0 & 0 & - r^{2} & 0\\\\0 & 0 & 0 & r^{2} \\sin^{2}{\\left(\\theta \\right)}\\end{matrix}\\right]$"
          },
          "metadata": {}
        }
      ]
    },
    {
      "cell_type": "code",
      "source": [],
      "metadata": {
        "id": "gndaoWXJ8jaO"
      },
      "execution_count": null,
      "outputs": []
    },
    {
      "cell_type": "code",
      "source": [
        "Chr = pt.christoffel()\n",
        "\n",
        "Chr.display()"
      ],
      "metadata": {
        "colab": {
          "base_uri": "https://localhost:8080/",
          "height": 841,
          "referenced_widgets": [
            "d11605cd80fd4e979b012c8966a28123",
            "5f3cb705432b4b70b070d150e193144a",
            "79551171761c4d7dadd8574200b2de8b",
            "ccecf8821b4e41af9a35a1f22a53c3ac",
            "1f991ea0dd474b6a8af09769f45f1e2d",
            "c3d6e69b510f469b96b176649c975d66",
            "729b90da3a2c46afbfc717be9cf798c2",
            "106c0c4e8e854f1b88ac83f8c91f797d",
            "67b1416774f64476bf47c9941cb0595a",
            "dddec52f66034e23b0c993cf865c762d",
            "3744458f957c429aa709316df6b56c5c"
          ]
        },
        "id": "EThE4SyfI00Y",
        "outputId": "8b31b274-e3d2-4fc2-e26f-b54cac82e1ba"
      },
      "execution_count": 6,
      "outputs": [
        {
          "output_type": "display_data",
          "data": {
            "text/plain": [
              "<IPython.core.display.Latex object>"
            ],
            "text/latex": "Christoffel $\\Gamma_{\\alpha \\beta \\gamma}$ and $\\Gamma^{\\alpha}_{\\beta \\gamma}$"
          },
          "metadata": {}
        },
        {
          "output_type": "display_data",
          "data": {
            "text/plain": [
              "  0%|          | 0/64 [00:00<?, ?it/s]"
            ],
            "application/vnd.jupyter.widget-view+json": {
              "version_major": 2,
              "version_minor": 0,
              "model_id": "d11605cd80fd4e979b012c8966a28123"
            }
          },
          "metadata": {}
        },
        {
          "output_type": "display_data",
          "data": {
            "text/plain": [
              "<IPython.core.display.Math object>"
            ],
            "text/latex": "$\\displaystyle {\\Gamma}{}_{0}\\,{}_{0}\\,{}_{1}\\, = e^{2 \\Phi{\\left(r \\right)}} \\frac{d}{d r} \\Phi{\\left(r \\right)}$"
          },
          "metadata": {}
        },
        {
          "output_type": "display_data",
          "data": {
            "text/plain": [
              "<IPython.core.display.Math object>"
            ],
            "text/latex": "$\\displaystyle {\\Gamma}{}_{0}\\,{}_{1}\\,{}_{0}\\, = e^{2 \\Phi{\\left(r \\right)}} \\frac{d}{d r} \\Phi{\\left(r \\right)}$"
          },
          "metadata": {}
        },
        {
          "output_type": "display_data",
          "data": {
            "text/plain": [
              "<IPython.core.display.Math object>"
            ],
            "text/latex": "$\\displaystyle {\\Gamma}{}_{1}\\,{}_{0}\\,{}_{0}\\, = - e^{2 \\Phi{\\left(r \\right)}} \\frac{d}{d r} \\Phi{\\left(r \\right)}$"
          },
          "metadata": {}
        },
        {
          "output_type": "display_data",
          "data": {
            "text/plain": [
              "<IPython.core.display.Math object>"
            ],
            "text/latex": "$\\displaystyle {\\Gamma}{}_{1}\\,{}_{1}\\,{}_{1}\\, = - \\frac{r \\frac{d}{d r} b{\\left(r \\right)} - b{\\left(r \\right)}}{2 \\left(r - b{\\left(r \\right)}\\right)^{2}}$"
          },
          "metadata": {}
        },
        {
          "output_type": "display_data",
          "data": {
            "text/plain": [
              "<IPython.core.display.Math object>"
            ],
            "text/latex": "$\\displaystyle {\\Gamma}{}_{1}\\,{}_{2}\\,{}_{2}\\, = r$"
          },
          "metadata": {}
        },
        {
          "output_type": "display_data",
          "data": {
            "text/plain": [
              "<IPython.core.display.Math object>"
            ],
            "text/latex": "$\\displaystyle {\\Gamma}{}_{1}\\,{}_{3}\\,{}_{3}\\, = - r \\sin^{2}{\\left(\\theta \\right)}$"
          },
          "metadata": {}
        },
        {
          "output_type": "display_data",
          "data": {
            "text/plain": [
              "<IPython.core.display.Math object>"
            ],
            "text/latex": "$\\displaystyle {\\Gamma}{}_{2}\\,{}_{1}\\,{}_{2}\\, = - r$"
          },
          "metadata": {}
        },
        {
          "output_type": "display_data",
          "data": {
            "text/plain": [
              "<IPython.core.display.Math object>"
            ],
            "text/latex": "$\\displaystyle {\\Gamma}{}_{2}\\,{}_{2}\\,{}_{1}\\, = - r$"
          },
          "metadata": {}
        },
        {
          "output_type": "display_data",
          "data": {
            "text/plain": [
              "<IPython.core.display.Math object>"
            ],
            "text/latex": "$\\displaystyle {\\Gamma}{}_{2}\\,{}_{3}\\,{}_{3}\\, = - r^{2} \\sin{\\left(\\theta \\right)} \\cos{\\left(\\theta \\right)}$"
          },
          "metadata": {}
        },
        {
          "output_type": "display_data",
          "data": {
            "text/plain": [
              "<IPython.core.display.Math object>"
            ],
            "text/latex": "$\\displaystyle {\\Gamma}{}_{3}\\,{}_{1}\\,{}_{3}\\, = r \\sin^{2}{\\left(\\theta \\right)}$"
          },
          "metadata": {}
        },
        {
          "output_type": "display_data",
          "data": {
            "text/plain": [
              "<IPython.core.display.Math object>"
            ],
            "text/latex": "$\\displaystyle {\\Gamma}{}_{3}\\,{}_{2}\\,{}_{3}\\, = r^{2} \\sin{\\left(\\theta \\right)} \\cos{\\left(\\theta \\right)}$"
          },
          "metadata": {}
        },
        {
          "output_type": "display_data",
          "data": {
            "text/plain": [
              "<IPython.core.display.Math object>"
            ],
            "text/latex": "$\\displaystyle {\\Gamma}{}_{3}\\,{}_{3}\\,{}_{1}\\, = r \\sin^{2}{\\left(\\theta \\right)}$"
          },
          "metadata": {}
        },
        {
          "output_type": "display_data",
          "data": {
            "text/plain": [
              "<IPython.core.display.Math object>"
            ],
            "text/latex": "$\\displaystyle {\\Gamma}{}_{3}\\,{}_{3}\\,{}_{2}\\, = r^{2} \\sin{\\left(\\theta \\right)} \\cos{\\left(\\theta \\right)}$"
          },
          "metadata": {}
        },
        {
          "output_type": "display_data",
          "data": {
            "text/plain": [
              "<IPython.core.display.Math object>"
            ],
            "text/latex": "$\\displaystyle {\\Gamma}{}^{0}\\,{}_{0}\\,{}_{1}\\, = \\frac{d}{d r} \\Phi{\\left(r \\right)}$"
          },
          "metadata": {}
        },
        {
          "output_type": "display_data",
          "data": {
            "text/plain": [
              "<IPython.core.display.Math object>"
            ],
            "text/latex": "$\\displaystyle {\\Gamma}{}^{0}\\,{}_{1}\\,{}_{0}\\, = \\frac{d}{d r} \\Phi{\\left(r \\right)}$"
          },
          "metadata": {}
        },
        {
          "output_type": "display_data",
          "data": {
            "text/plain": [
              "<IPython.core.display.Math object>"
            ],
            "text/latex": "$\\displaystyle {\\Gamma}{}^{1}\\,{}_{0}\\,{}_{0}\\, = \\frac{\\left(r - b{\\left(r \\right)}\\right) e^{2 \\Phi{\\left(r \\right)}} \\frac{d}{d r} \\Phi{\\left(r \\right)}}{r}$"
          },
          "metadata": {}
        },
        {
          "output_type": "display_data",
          "data": {
            "text/plain": [
              "<IPython.core.display.Math object>"
            ],
            "text/latex": "$\\displaystyle {\\Gamma}{}^{1}\\,{}_{1}\\,{}_{1}\\, = \\frac{r \\frac{d}{d r} b{\\left(r \\right)} - b{\\left(r \\right)}}{2 r \\left(r - b{\\left(r \\right)}\\right)}$"
          },
          "metadata": {}
        },
        {
          "output_type": "display_data",
          "data": {
            "text/plain": [
              "<IPython.core.display.Math object>"
            ],
            "text/latex": "$\\displaystyle {\\Gamma}{}^{1}\\,{}_{2}\\,{}_{2}\\, = - r + b{\\left(r \\right)}$"
          },
          "metadata": {}
        },
        {
          "output_type": "display_data",
          "data": {
            "text/plain": [
              "<IPython.core.display.Math object>"
            ],
            "text/latex": "$\\displaystyle {\\Gamma}{}^{1}\\,{}_{3}\\,{}_{3}\\, = \\left(r - b{\\left(r \\right)}\\right) \\sin^{2}{\\left(\\theta \\right)}$"
          },
          "metadata": {}
        },
        {
          "output_type": "display_data",
          "data": {
            "text/plain": [
              "<IPython.core.display.Math object>"
            ],
            "text/latex": "$\\displaystyle {\\Gamma}{}^{2}\\,{}_{1}\\,{}_{2}\\, = \\frac{1}{r}$"
          },
          "metadata": {}
        },
        {
          "output_type": "display_data",
          "data": {
            "text/plain": [
              "<IPython.core.display.Math object>"
            ],
            "text/latex": "$\\displaystyle {\\Gamma}{}^{2}\\,{}_{2}\\,{}_{1}\\, = \\frac{1}{r}$"
          },
          "metadata": {}
        },
        {
          "output_type": "display_data",
          "data": {
            "text/plain": [
              "<IPython.core.display.Math object>"
            ],
            "text/latex": "$\\displaystyle {\\Gamma}{}^{2}\\,{}_{3}\\,{}_{3}\\, = \\sin{\\left(\\theta \\right)} \\cos{\\left(\\theta \\right)}$"
          },
          "metadata": {}
        },
        {
          "output_type": "display_data",
          "data": {
            "text/plain": [
              "<IPython.core.display.Math object>"
            ],
            "text/latex": "$\\displaystyle {\\Gamma}{}^{3}\\,{}_{1}\\,{}_{3}\\, = \\frac{1}{r}$"
          },
          "metadata": {}
        },
        {
          "output_type": "display_data",
          "data": {
            "text/plain": [
              "<IPython.core.display.Math object>"
            ],
            "text/latex": "$\\displaystyle {\\Gamma}{}^{3}\\,{}_{2}\\,{}_{3}\\, = \\frac{\\cos{\\left(\\theta \\right)}}{\\sin{\\left(\\theta \\right)}}$"
          },
          "metadata": {}
        },
        {
          "output_type": "display_data",
          "data": {
            "text/plain": [
              "<IPython.core.display.Math object>"
            ],
            "text/latex": "$\\displaystyle {\\Gamma}{}^{3}\\,{}_{3}\\,{}_{1}\\, = \\frac{1}{r}$"
          },
          "metadata": {}
        },
        {
          "output_type": "display_data",
          "data": {
            "text/plain": [
              "<IPython.core.display.Math object>"
            ],
            "text/latex": "$\\displaystyle {\\Gamma}{}^{3}\\,{}_{3}\\,{}_{2}\\, = \\frac{\\cos{\\left(\\theta \\right)}}{\\sin{\\left(\\theta \\right)}}$"
          },
          "metadata": {}
        }
      ]
    },
    {
      "cell_type": "code",
      "source": [
        "# To calculate the default combination of the Ricci Tensor, i.e., (_,_):\n",
        "Ric = pt.ricci()\n",
        "\n",
        "# To calculate all the combinations:\n",
        "# Ric = pt.ricci(All = True)\n",
        "\n",
        "# To calculate the Ricci Scalar:\n",
        "RicS = pt.riccis()"
      ],
      "metadata": {
        "colab": {
          "base_uri": "https://localhost:8080/",
          "height": 165,
          "referenced_widgets": [
            "4283074e9a4a46d79ab1e2f9da1ec074",
            "9d799b762cdb4db5b4eebbcee6953152",
            "f4e6b3b958284ee5b3747c71354e5d58",
            "417826c5968b44f4b73b453902c073ba",
            "96fc17c2d8d0471a95aa9e0ea3310843",
            "32bfa9651d2546dcb3e33d60447d325f",
            "921f71af0c37460584c48d1fd198e9f6",
            "71d4bdd3a04d4cf2a6cac936ffec04f9",
            "12932b1e28c2471098ba3324413cff1d",
            "7b7178f4a8e940e787ce551bac0ab1d9",
            "d3b25ec977424821bd9dc68eac3fc372",
            "786b7e39c565490ea28826ebe9582563",
            "07981a95b23f45618f031a36fbadcd67",
            "2a01712ac35240b995da69d5656424d3",
            "36f3c3bbbaa74b1fb474a93cf250b806",
            "016fee31e38f405fb62f3f22e6109d0f",
            "3012871bb5ea4582a83677b45bc2ab65",
            "d38804f668ae400da566bd6bcde44cb1",
            "63b48f8d2bcd4e0a8ee3cb791d4f1732",
            "555ebf2cc3254039a338342f41a9149d",
            "1668f44a0d1f476692fc0a2d454c5099",
            "3201217811dd4d44bbda8f7dcd7b831c",
            "f36e7a6189ff446c92343e13270dbe90",
            "4a60348e13c04ad0aa8a84e6bdf8c9ed",
            "274c3feb9f9c46b4acc0b6d5ab65ba8b",
            "cfe491d9a6ab4a3e81952133b6894b9e",
            "1122a437f4f44b6db764f906f962ef6a",
            "7ddf89e4ca1c41d084843f259c9a4bf1",
            "c232d8d6dee44e5085314a35e89e4daf",
            "5c15162a752f416ab652c1b69b268758",
            "9624ee43f47642dea16626003bfef410",
            "03154149efcd48f2ba6ff5bb6f038ee2",
            "fe52a208e1394e78a76142ce30640a74"
          ]
        },
        "id": "mE0-oQugI4Sb",
        "outputId": "34468e7c-f7e0-4d89-eb74-5901f9c250ab"
      },
      "execution_count": 7,
      "outputs": [
        {
          "output_type": "display_data",
          "data": {
            "text/plain": [
              "<IPython.core.display.Latex object>"
            ],
            "text/latex": "Riemann Tensor $R^{\\alpha}_{\\beta \\gamma \\delta}$"
          },
          "metadata": {}
        },
        {
          "output_type": "display_data",
          "data": {
            "text/plain": [
              "  0%|          | 0/256 [00:00<?, ?it/s]"
            ],
            "application/vnd.jupyter.widget-view+json": {
              "version_major": 2,
              "version_minor": 0,
              "model_id": "4283074e9a4a46d79ab1e2f9da1ec074"
            }
          },
          "metadata": {}
        },
        {
          "output_type": "display_data",
          "data": {
            "text/plain": [
              "<IPython.core.display.Latex object>"
            ],
            "text/latex": "Ricci Tensor $R_{\\alpha \\beta}$"
          },
          "metadata": {}
        },
        {
          "output_type": "display_data",
          "data": {
            "text/plain": [
              "  0%|          | 0/16 [00:00<?, ?it/s]"
            ],
            "application/vnd.jupyter.widget-view+json": {
              "version_major": 2,
              "version_minor": 0,
              "model_id": "786b7e39c565490ea28826ebe9582563"
            }
          },
          "metadata": {}
        },
        {
          "output_type": "display_data",
          "data": {
            "text/plain": [
              "  0%|          | 0/16 [00:00<?, ?it/s]"
            ],
            "application/vnd.jupyter.widget-view+json": {
              "version_major": 2,
              "version_minor": 0,
              "model_id": "f36e7a6189ff446c92343e13270dbe90"
            }
          },
          "metadata": {}
        },
        {
          "output_type": "display_data",
          "data": {
            "text/plain": [
              "<IPython.core.display.Latex object>"
            ],
            "text/latex": "Ricci Scalar $R$"
          },
          "metadata": {}
        }
      ]
    },
    {
      "cell_type": "code",
      "source": [
        "# To display the Ricci Tensor (by default it displays the tensor with all lower indices):\n",
        "Ric.display()\n",
        "\n",
        "# To display the Ricci Scalar:\n",
        "pt.display(RicS)"
      ],
      "metadata": {
        "colab": {
          "base_uri": "https://localhost:8080/",
          "height": 179
        },
        "id": "ydRmBJ7BJJ7u",
        "outputId": "14ddc621-6bd1-4d4e-f7ff-73f9ad995e38"
      },
      "execution_count": 8,
      "outputs": [
        {
          "output_type": "display_data",
          "data": {
            "text/plain": [
              "⎡⎛               2         2                             2             2       ↪\n",
              "⎢⎜   2 ⎛d       ⎞       2 d                    ⎛d       ⎞             d        ↪\n",
              "⎢⎜2⋅r ⋅⎜──(Φ(r))⎟  + 2⋅r ⋅───(Φ(r)) - 2⋅r⋅b(r)⋅⎜──(Φ(r))⎟  - 2⋅r⋅b(r)⋅───(Φ(r) ↪\n",
              "⎢⎜     ⎝dr      ⎠           2                  ⎝dr      ⎠               2      ↪\n",
              "⎢⎝                        dr                                          dr       ↪\n",
              "⎢───────────────────────────────────────────────────────────────────────────── ↪\n",
              "⎢                                                                        2     ↪\n",
              "⎢                                                                     2⋅r      ↪\n",
              "⎢                                                                              ↪\n",
              "⎢                                                                              ↪\n",
              "⎢                                                                              ↪\n",
              "⎢                                                                              ↪\n",
              "⎢                                                                              ↪\n",
              "⎢                                                                              ↪\n",
              "⎢                                                                      0       ↪\n",
              "⎢                                                                              ↪\n",
              "⎢                                                                              ↪\n",
              "⎢                                                                              ↪\n",
              "⎢                                                                              ↪\n",
              "⎢                                                                              ↪\n",
              "⎢                                                                              ↪\n",
              "⎢                                                                      0       ↪\n",
              "⎢                                                                              ↪\n",
              "⎢                                                                              ↪\n",
              "⎢                                                                              ↪\n",
              "⎢                                                                              ↪\n",
              "⎢                                                                              ↪\n",
              "⎢                                                                      0       ↪\n",
              "⎣                                                                              ↪\n",
              "\n",
              "↪                                                         ⎞                    ↪\n",
              "↪       d        d              d                 d       ⎟  2⋅Φ(r)            ↪\n",
              "↪ ) - r⋅──(Φ(r))⋅──(b(r)) + 4⋅r⋅──(Φ(r)) - 3⋅b(r)⋅──(Φ(r))⎟⋅ℯ                  ↪\n",
              "↪       dr       dr             dr                dr      ⎟                    ↪\n",
              "↪                                                         ⎠                    ↪\n",
              "↪ ─────────────────────────────────────────────────────────────────            ↪\n",
              "↪                                                                              ↪\n",
              "↪                                                                              ↪\n",
              "↪                                                                              ↪\n",
              "↪                                                                     ⎛        ↪\n",
              "↪                                                                     ⎜   3 ⎛d ↪\n",
              "↪                                                                    -⎜2⋅r ⋅⎜─ ↪\n",
              "↪                                                                     ⎜     ⎝d ↪\n",
              "↪                                                                     ⎝        ↪\n",
              "↪                                                                    ───────── ↪\n",
              "↪                                                                              ↪\n",
              "↪                                                                              ↪\n",
              "↪                                                                              ↪\n",
              "↪                                                                              ↪\n",
              "↪                                                                              ↪\n",
              "↪                                                                              ↪\n",
              "↪                                                                              ↪\n",
              "↪                                                                              ↪\n",
              "↪                                                                              ↪\n",
              "↪                                                                              ↪\n",
              "↪                                                                              ↪\n",
              "↪                                                                              ↪\n",
              "↪                                                                              ↪\n",
              "↪                                                                              ↪\n",
              "\n",
              "↪                                                                              ↪\n",
              "↪                                                                              ↪\n",
              "↪                                                                              ↪\n",
              "↪                                                                              ↪\n",
              "↪                                                                              ↪\n",
              "↪                                                                 0            ↪\n",
              "↪                                                                              ↪\n",
              "↪                                                                              ↪\n",
              "↪                                                                              ↪\n",
              "↪         2         2                              2              2            ↪\n",
              "↪        ⎞       3 d              2      ⎛d       ⎞       2      d             ↪\n",
              "↪ ─(Φ(r))⎟  + 2⋅r ⋅───(Φ(r)) - 2⋅r ⋅b(r)⋅⎜──(Φ(r))⎟  - 2⋅r ⋅b(r)⋅───(Φ(r)) - r ↪\n",
              "↪ r      ⎠           2                   ⎝dr      ⎠                2           ↪\n",
              "↪                  dr                                            dr            ↪\n",
              "↪ ──────────────────────────────────────────────────────────────────────────── ↪\n",
              "↪                                                             2                ↪\n",
              "↪                                                          2⋅r ⋅(r - b(r))     ↪\n",
              "↪                                                                              ↪\n",
              "↪                                                                              ↪\n",
              "↪                                                                              ↪\n",
              "↪                                                                              ↪\n",
              "↪                                                                 0            ↪\n",
              "↪                                                                              ↪\n",
              "↪                                                                              ↪\n",
              "↪                                                                              ↪\n",
              "↪                                                                              ↪\n",
              "↪                                                                              ↪\n",
              "↪                                                                 0            ↪\n",
              "↪                                                                              ↪\n",
              "\n",
              "↪                                                                              ↪\n",
              "↪                                                                              ↪\n",
              "↪                                                                              ↪\n",
              "↪                                                                              ↪\n",
              "↪                                                                              ↪\n",
              "↪                                                                              ↪\n",
              "↪                                                                              ↪\n",
              "↪                                                                              ↪\n",
              "↪                                                                              ↪\n",
              "↪                                                              ⎞               ↪\n",
              "↪ 2 d        d                 d              d                ⎟               ↪\n",
              "↪  ⋅──(Φ(r))⋅──(b(r)) + r⋅b(r)⋅──(Φ(r)) - 2⋅r⋅──(b(r)) + 2⋅b(r)⎟               ↪\n",
              "↪   dr       dr                dr             dr               ⎟               ↪\n",
              "↪                                                              ⎠               ↪\n",
              "↪ ───────────────────────────────────────────────────────────────              ↪\n",
              "↪                                                                              ↪\n",
              "↪                                                                              ↪\n",
              "↪                                                                              ↪\n",
              "↪                                                                   ⎛   2 d    ↪\n",
              "↪                                                                  -⎜2⋅r ⋅──(Φ ↪\n",
              "↪                                                                   ⎝     dr   ↪\n",
              "↪                                                                  ─────────── ↪\n",
              "↪                                                                              ↪\n",
              "↪                                                                              ↪\n",
              "↪                                                                              ↪\n",
              "↪                                                                              ↪\n",
              "↪                                                                              ↪\n",
              "↪                                                                              ↪\n",
              "↪                                                                              ↪\n",
              "\n",
              "↪                                                                              ↪\n",
              "↪                                                                              ↪\n",
              "↪                                                                              ↪\n",
              "↪                                                                              ↪\n",
              "↪                                                                              ↪\n",
              "↪                  0                                                           ↪\n",
              "↪                                                                              ↪\n",
              "↪                                                                              ↪\n",
              "↪                                                                              ↪\n",
              "↪                                                                              ↪\n",
              "↪                                                                              ↪\n",
              "↪                                                                              ↪\n",
              "↪                                                                              ↪\n",
              "↪                                                                              ↪\n",
              "↪                  0                                                           ↪\n",
              "↪                                                                              ↪\n",
              "↪                                                                              ↪\n",
              "↪                                                                              ↪\n",
              "↪                 d            d              ⎞                                ↪\n",
              "↪ (r)) - 2⋅r⋅b(r)⋅──(Φ(r)) - r⋅──(b(r)) - b(r)⎟                                ↪\n",
              "↪                 dr           dr             ⎠                                ↪\n",
              "↪ ──────────────────────────────────────────────                               ↪\n",
              "↪                 2⋅r                                                          ↪\n",
              "↪                                                                              ↪\n",
              "↪                                                 ⎛   2 d                   d  ↪\n",
              "↪                                                 ⎜2⋅r ⋅──(Φ(r)) - 2⋅r⋅b(r)⋅── ↪\n",
              "↪                                                 ⎝     dr                  dr ↪\n",
              "↪                  0                              ──────────────────────────── ↪\n",
              "↪                                                                              ↪\n",
              "\n",
              "↪                                    ⎤\n",
              "↪                                    ⎥\n",
              "↪                                    ⎥\n",
              "↪                                    ⎥\n",
              "↪                                    ⎥\n",
              "↪    0                               ⎥\n",
              "↪                                    ⎥\n",
              "↪                                    ⎥\n",
              "↪                                    ⎥\n",
              "↪                                    ⎥\n",
              "↪                                    ⎥\n",
              "↪                                    ⎥\n",
              "↪                                    ⎥\n",
              "↪                                    ⎥\n",
              "↪    0                               ⎥\n",
              "↪                                    ⎥\n",
              "↪                                    ⎥\n",
              "↪                                    ⎥\n",
              "↪                                    ⎥\n",
              "↪                                    ⎥\n",
              "↪                                    ⎥\n",
              "↪    0                               ⎥\n",
              "↪                                    ⎥\n",
              "↪                                    ⎥\n",
              "↪            d              ⎞    2   ⎥\n",
              "↪ (Φ(r)) - r⋅──(b(r)) - b(r)⎟⋅sin (θ)⎥\n",
              "↪            dr             ⎠        ⎥\n",
              "↪ ───────────────────────────────────⎥\n",
              "↪   2⋅r                              ⎦"
            ],
            "text/latex": "$\\displaystyle \\left[\\begin{matrix}\\frac{\\left(2 r^{2} \\left(\\frac{d}{d r} \\Phi{\\left(r \\right)}\\right)^{2} + 2 r^{2} \\frac{d^{2}}{d r^{2}} \\Phi{\\left(r \\right)} - 2 r b{\\left(r \\right)} \\left(\\frac{d}{d r} \\Phi{\\left(r \\right)}\\right)^{2} - 2 r b{\\left(r \\right)} \\frac{d^{2}}{d r^{2}} \\Phi{\\left(r \\right)} - r \\frac{d}{d r} \\Phi{\\left(r \\right)} \\frac{d}{d r} b{\\left(r \\right)} + 4 r \\frac{d}{d r} \\Phi{\\left(r \\right)} - 3 b{\\left(r \\right)} \\frac{d}{d r} \\Phi{\\left(r \\right)}\\right) e^{2 \\Phi{\\left(r \\right)}}}{2 r^{2}} & 0 & 0 & 0\\\\0 & - \\frac{2 r^{3} \\left(\\frac{d}{d r} \\Phi{\\left(r \\right)}\\right)^{2} + 2 r^{3} \\frac{d^{2}}{d r^{2}} \\Phi{\\left(r \\right)} - 2 r^{2} b{\\left(r \\right)} \\left(\\frac{d}{d r} \\Phi{\\left(r \\right)}\\right)^{2} - 2 r^{2} b{\\left(r \\right)} \\frac{d^{2}}{d r^{2}} \\Phi{\\left(r \\right)} - r^{2} \\frac{d}{d r} \\Phi{\\left(r \\right)} \\frac{d}{d r} b{\\left(r \\right)} + r b{\\left(r \\right)} \\frac{d}{d r} \\Phi{\\left(r \\right)} - 2 r \\frac{d}{d r} b{\\left(r \\right)} + 2 b{\\left(r \\right)}}{2 r^{2} \\left(r - b{\\left(r \\right)}\\right)} & 0 & 0\\\\0 & 0 & - \\frac{2 r^{2} \\frac{d}{d r} \\Phi{\\left(r \\right)} - 2 r b{\\left(r \\right)} \\frac{d}{d r} \\Phi{\\left(r \\right)} - r \\frac{d}{d r} b{\\left(r \\right)} - b{\\left(r \\right)}}{2 r} & 0\\\\0 & 0 & 0 & \\frac{\\left(2 r^{2} \\frac{d}{d r} \\Phi{\\left(r \\right)} - 2 r b{\\left(r \\right)} \\frac{d}{d r} \\Phi{\\left(r \\right)} - r \\frac{d}{d r} b{\\left(r \\right)} - b{\\left(r \\right)}\\right) \\sin^{2}{\\left(\\theta \\right)}}{2 r}\\end{matrix}\\right]$"
          },
          "metadata": {}
        },
        {
          "output_type": "display_data",
          "data": {
            "text/plain": [
              "<IPython.core.display.Math object>"
            ],
            "text/latex": "$\\displaystyle \\frac{2 r^{2} \\left(\\frac{d}{d r} \\Phi{\\left(r \\right)}\\right)^{2} + 2 r^{2} \\frac{d^{2}}{d r^{2}} \\Phi{\\left(r \\right)} - 2 r b{\\left(r \\right)} \\left(\\frac{d}{d r} \\Phi{\\left(r \\right)}\\right)^{2} - 2 r b{\\left(r \\right)} \\frac{d^{2}}{d r^{2}} \\Phi{\\left(r \\right)} - r \\frac{d}{d r} \\Phi{\\left(r \\right)} \\frac{d}{d r} b{\\left(r \\right)} + 4 r \\frac{d}{d r} \\Phi{\\left(r \\right)} - 3 b{\\left(r \\right)} \\frac{d}{d r} \\Phi{\\left(r \\right)} - 2 \\frac{d}{d r} b{\\left(r \\right)}}{r^{2}}$"
          },
          "metadata": {}
        }
      ]
    },
    {
      "cell_type": "code",
      "source": [
        "# To calculate the default combination of the Einstein Tensor, i.e., (_,_):\n",
        "G = pt.einstein()\n",
        "\n",
        "# To calculate all the combinations:\n",
        "# G = pt.einstein(All = True)\n",
        "\n",
        "# To display the Einstein Tensor:\n",
        "G.display()\n",
        "\n",
        "# To show the tensor components as a list:\n",
        "# G.display(aslist = True)"
      ],
      "metadata": {
        "colab": {
          "base_uri": "https://localhost:8080/",
          "height": 184,
          "referenced_widgets": [
            "1a87e6e4d6d74bd0b61b3f5305d84091",
            "b4c40c84f0e94dddbdf5739fc86e4342",
            "ae1507f702484d1fa995b18ad38ac69d",
            "1efe0166622347918301dfcc670b306d",
            "4172347443de41f99e514b0bfa65ab64",
            "7ca751b279c242db8eb07162d4db273f",
            "3f5981424f7f492a8449d3225ddad0c9",
            "80a70361bb804f52be3893d45b53b27b",
            "5896fe05a0734c86b5730bd0a5cb1b11",
            "60aab32327034f1a866b29586203201d",
            "31dc579ebd274f0da0aeea4004598522"
          ]
        },
        "id": "j9XrDowIJblZ",
        "outputId": "81c68e4d-a8e7-4d47-934e-79a6a8c7ef2a"
      },
      "execution_count": 9,
      "outputs": [
        {
          "output_type": "display_data",
          "data": {
            "text/plain": [
              "<IPython.core.display.Latex object>"
            ],
            "text/latex": "Einstein Tensor $G_{\\alpha \\beta}$"
          },
          "metadata": {}
        },
        {
          "output_type": "display_data",
          "data": {
            "text/plain": [
              "  0%|          | 0/16 [00:00<?, ?it/s]"
            ],
            "application/vnd.jupyter.widget-view+json": {
              "version_major": 2,
              "version_minor": 0,
              "model_id": "1a87e6e4d6d74bd0b61b3f5305d84091"
            }
          },
          "metadata": {}
        },
        {
          "output_type": "display_data",
          "data": {
            "text/plain": [
              "⎡ 2⋅Φ(r) d                                                                     ↪\n",
              "⎢ℯ      ⋅──(b(r))                                                              ↪\n",
              "⎢        dr                                                                    ↪\n",
              "⎢────────────────                     0                                        ↪\n",
              "⎢        2                                                                     ↪\n",
              "⎢       r                                                                      ↪\n",
              "⎢                                                                              ↪\n",
              "⎢                     2 d                   d                                  ↪\n",
              "⎢                  2⋅r ⋅──(Φ(r)) - 2⋅r⋅b(r)⋅──(Φ(r)) - b(r)                    ↪\n",
              "⎢                       dr                  dr                                 ↪\n",
              "⎢       0          ────────────────────────────────────────                    ↪\n",
              "⎢                                2                                             ↪\n",
              "⎢                               r ⋅(r - b(r))                                  ↪\n",
              "⎢                                                                              ↪\n",
              "⎢                                                                           2  ↪\n",
              "⎢                                                               3 ⎛d       ⎞   ↪\n",
              "⎢                                                            2⋅r ⋅⎜──(Φ(r))⎟   ↪\n",
              "⎢                                                                 ⎝dr      ⎠   ↪\n",
              "⎢                                                                              ↪\n",
              "⎢       0                             0                      ───────────────── ↪\n",
              "⎢                                                                              ↪\n",
              "⎢                                                                              ↪\n",
              "⎢                                                                              ↪\n",
              "⎢                                                                              ↪\n",
              "⎢                                                                              ↪\n",
              "⎢                                                                              ↪\n",
              "⎢                                                                              ↪\n",
              "⎢       0                             0                                        ↪\n",
              "⎣                                                                              ↪\n",
              "\n",
              "↪                                                                              ↪\n",
              "↪                                                                              ↪\n",
              "↪                                                                              ↪\n",
              "↪                                                             0                ↪\n",
              "↪                                                                              ↪\n",
              "↪                                                                              ↪\n",
              "↪                                                                              ↪\n",
              "↪                                                                              ↪\n",
              "↪                                                                              ↪\n",
              "↪                                                                              ↪\n",
              "↪                                                             0                ↪\n",
              "↪                                                                              ↪\n",
              "↪                                                                              ↪\n",
              "↪                                                                              ↪\n",
              "↪         2                              2              2                      ↪\n",
              "↪      3 d              2      ⎛d       ⎞       2      d            2 d        ↪\n",
              "↪ + 2⋅r ⋅───(Φ(r)) - 2⋅r ⋅b(r)⋅⎜──(Φ(r))⎟  - 2⋅r ⋅b(r)⋅───(Φ(r)) - r ⋅──(Φ(r)) ↪\n",
              "↪          2                   ⎝dr      ⎠                2            dr       ↪\n",
              "↪        dr                                            dr                      ↪\n",
              "↪ ──────────────────────────────────────────────────────────────────────────── ↪\n",
              "↪                                                            2⋅r               ↪\n",
              "↪                                                                              ↪\n",
              "↪                                                                              ↪\n",
              "↪                                                                              ↪\n",
              "↪                                                                              ↪\n",
              "↪                                                                              ↪\n",
              "↪                                                                              ↪\n",
              "↪                                                             0                ↪\n",
              "↪                                                                              ↪\n",
              "\n",
              "↪                                                                              ↪\n",
              "↪                                                                              ↪\n",
              "↪                                                                              ↪\n",
              "↪                                                                              ↪\n",
              "↪                                                                              ↪\n",
              "↪                                                                              ↪\n",
              "↪                                                                              ↪\n",
              "↪                                                                              ↪\n",
              "↪                                                                              ↪\n",
              "↪                                                                              ↪\n",
              "↪                                                                              ↪\n",
              "↪                                                                              ↪\n",
              "↪                                                                              ↪\n",
              "↪                                                                              ↪\n",
              "↪                                                                              ↪\n",
              "↪  d             2 d                 d            d                            ↪\n",
              "↪ ⋅──(b(r)) + 2⋅r ⋅──(Φ(r)) - r⋅b(r)⋅──(Φ(r)) - r⋅──(b(r)) + b(r)              ↪\n",
              "↪  dr              dr                dr           dr                           ↪\n",
              "↪                                                                              ↪\n",
              "↪ ───────────────────────────────────────────────────────────────              ↪\n",
              "↪                                                                              ↪\n",
              "↪                                                                              ↪\n",
              "↪                                                                   ⎛          ↪\n",
              "↪                                                                   ⎜   3 ⎛d   ↪\n",
              "↪                                                                  -⎜2⋅r ⋅⎜──( ↪\n",
              "↪                                                                   ⎜     ⎝dr  ↪\n",
              "↪                                                                   ⎝          ↪\n",
              "↪                                                                  ─────────── ↪\n",
              "↪                                                                              ↪\n",
              "\n",
              "↪                                                                              ↪\n",
              "↪                                                                              ↪\n",
              "↪                                                                              ↪\n",
              "↪                                                                         0    ↪\n",
              "↪                                                                              ↪\n",
              "↪                                                                              ↪\n",
              "↪                                                                              ↪\n",
              "↪                                                                              ↪\n",
              "↪                                                                              ↪\n",
              "↪                                                                              ↪\n",
              "↪                                                                         0    ↪\n",
              "↪                                                                              ↪\n",
              "↪                                                                              ↪\n",
              "↪                                                                              ↪\n",
              "↪                                                                              ↪\n",
              "↪                                                                              ↪\n",
              "↪                                                                              ↪\n",
              "↪                                                                              ↪\n",
              "↪                                                                              ↪\n",
              "↪                                                                         0    ↪\n",
              "↪                                                                              ↪\n",
              "↪                                                                              ↪\n",
              "↪       2         2                              2              2              ↪\n",
              "↪      ⎞       3 d              2      ⎛d       ⎞       2      d            2  ↪\n",
              "↪ Φ(r))⎟  + 2⋅r ⋅───(Φ(r)) - 2⋅r ⋅b(r)⋅⎜──(Φ(r))⎟  - 2⋅r ⋅b(r)⋅───(Φ(r)) - r ⋅ ↪\n",
              "↪      ⎠           2                   ⎝dr      ⎠                2             ↪\n",
              "↪                dr                                            dr              ↪\n",
              "↪ ──────────────────────────────────────────────────────────────────────────── ↪\n",
              "↪                                                                        2⋅r   ↪\n",
              "\n",
              "↪                                                                              ↪\n",
              "↪                                                                              ↪\n",
              "↪                                                                              ↪\n",
              "↪                                                                              ↪\n",
              "↪                                                                              ↪\n",
              "↪                                                                              ↪\n",
              "↪                                                                              ↪\n",
              "↪                                                                              ↪\n",
              "↪                                                                              ↪\n",
              "↪                                                                              ↪\n",
              "↪                                                                              ↪\n",
              "↪                                                                              ↪\n",
              "↪                                                                              ↪\n",
              "↪                                                                              ↪\n",
              "↪                                                                              ↪\n",
              "↪                                                                              ↪\n",
              "↪                                                                              ↪\n",
              "↪                                                                              ↪\n",
              "↪                                                                              ↪\n",
              "↪                                                                              ↪\n",
              "↪                                                                              ↪\n",
              "↪                                                                              ↪\n",
              "↪                                                                        ⎞     ↪\n",
              "↪ d        d             2 d                 d            d              ⎟     ↪\n",
              "↪ ──(Φ(r))⋅──(b(r)) + 2⋅r ⋅──(Φ(r)) - r⋅b(r)⋅──(Φ(r)) - r⋅──(b(r)) + b(r)⎟⋅sin ↪\n",
              "↪ dr       dr              dr                dr           dr             ⎟     ↪\n",
              "↪                                                                        ⎠     ↪\n",
              "↪ ──────────────────────────────────────────────────────────────────────────── ↪\n",
              "↪                                                                              ↪\n",
              "\n",
              "↪      ⎤\n",
              "↪      ⎥\n",
              "↪      ⎥\n",
              "↪      ⎥\n",
              "↪      ⎥\n",
              "↪      ⎥\n",
              "↪      ⎥\n",
              "↪      ⎥\n",
              "↪      ⎥\n",
              "↪      ⎥\n",
              "↪      ⎥\n",
              "↪      ⎥\n",
              "↪      ⎥\n",
              "↪      ⎥\n",
              "↪      ⎥\n",
              "↪      ⎥\n",
              "↪      ⎥\n",
              "↪      ⎥\n",
              "↪      ⎥\n",
              "↪      ⎥\n",
              "↪      ⎥\n",
              "↪      ⎥\n",
              "↪      ⎥\n",
              "↪ 2    ⎥\n",
              "↪  (θ) ⎥\n",
              "↪      ⎥\n",
              "↪      ⎥\n",
              "↪ ─────⎥\n",
              "↪      ⎦"
            ],
            "text/latex": "$\\displaystyle \\left[\\begin{matrix}\\frac{e^{2 \\Phi{\\left(r \\right)}} \\frac{d}{d r} b{\\left(r \\right)}}{r^{2}} & 0 & 0 & 0\\\\0 & \\frac{2 r^{2} \\frac{d}{d r} \\Phi{\\left(r \\right)} - 2 r b{\\left(r \\right)} \\frac{d}{d r} \\Phi{\\left(r \\right)} - b{\\left(r \\right)}}{r^{2} \\left(r - b{\\left(r \\right)}\\right)} & 0 & 0\\\\0 & 0 & \\frac{2 r^{3} \\left(\\frac{d}{d r} \\Phi{\\left(r \\right)}\\right)^{2} + 2 r^{3} \\frac{d^{2}}{d r^{2}} \\Phi{\\left(r \\right)} - 2 r^{2} b{\\left(r \\right)} \\left(\\frac{d}{d r} \\Phi{\\left(r \\right)}\\right)^{2} - 2 r^{2} b{\\left(r \\right)} \\frac{d^{2}}{d r^{2}} \\Phi{\\left(r \\right)} - r^{2} \\frac{d}{d r} \\Phi{\\left(r \\right)} \\frac{d}{d r} b{\\left(r \\right)} + 2 r^{2} \\frac{d}{d r} \\Phi{\\left(r \\right)} - r b{\\left(r \\right)} \\frac{d}{d r} \\Phi{\\left(r \\right)} - r \\frac{d}{d r} b{\\left(r \\right)} + b{\\left(r \\right)}}{2 r} & 0\\\\0 & 0 & 0 & - \\frac{\\left(2 r^{3} \\left(\\frac{d}{d r} \\Phi{\\left(r \\right)}\\right)^{2} + 2 r^{3} \\frac{d^{2}}{d r^{2}} \\Phi{\\left(r \\right)} - 2 r^{2} b{\\left(r \\right)} \\left(\\frac{d}{d r} \\Phi{\\left(r \\right)}\\right)^{2} - 2 r^{2} b{\\left(r \\right)} \\frac{d^{2}}{d r^{2}} \\Phi{\\left(r \\right)} - r^{2} \\frac{d}{d r} \\Phi{\\left(r \\right)} \\frac{d}{d r} b{\\left(r \\right)} + 2 r^{2} \\frac{d}{d r} \\Phi{\\left(r \\right)} - r b{\\left(r \\right)} \\frac{d}{d r} \\Phi{\\left(r \\right)} - r \\frac{d}{d r} b{\\left(r \\right)} + b{\\left(r \\right)}\\right) \\sin^{2}{\\left(\\theta \\right)}}{2 r}\\end{matrix}\\right]$"
          },
          "metadata": {}
        }
      ]
    },
    {
      "cell_type": "code",
      "source": [],
      "metadata": {
        "id": "c4xh8akQJ0Mq"
      },
      "execution_count": null,
      "outputs": []
    }
  ]
}