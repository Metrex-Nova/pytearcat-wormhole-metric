{
  "nbformat": 4,
  "nbformat_minor": 0,
  "metadata": {
    "colab": {
      "provenance": [],
      "authorship_tag": "ABX9TyOMuscDxcFwajtLK6kFhOG+",
      "include_colab_link": true
    },
    "kernelspec": {
      "name": "python3",
      "display_name": "Python 3"
    },
    "language_info": {
      "name": "python"
    },
    "widgets": {
      "application/vnd.jupyter.widget-state+json": {
        "77558abe2f044548ba8dfd06c226ef1f": {
          "model_module": "@jupyter-widgets/controls",
          "model_name": "HBoxModel",
          "model_module_version": "1.5.0",
          "state": {
            "_dom_classes": [],
            "_model_module": "@jupyter-widgets/controls",
            "_model_module_version": "1.5.0",
            "_model_name": "HBoxModel",
            "_view_count": null,
            "_view_module": "@jupyter-widgets/controls",
            "_view_module_version": "1.5.0",
            "_view_name": "HBoxView",
            "box_style": "",
            "children": [
              "IPY_MODEL_73640272bc82411aa363c7adee7c1eb9",
              "IPY_MODEL_149db8b55c7b43299cd031f73461c2b6",
              "IPY_MODEL_2f772b0593b848e1b065720131120b7c"
            ],
            "layout": "IPY_MODEL_d2a683f622cd4856b571869220e502cb"
          }
        },
        "73640272bc82411aa363c7adee7c1eb9": {
          "model_module": "@jupyter-widgets/controls",
          "model_name": "HTMLModel",
          "model_module_version": "1.5.0",
          "state": {
            "_dom_classes": [],
            "_model_module": "@jupyter-widgets/controls",
            "_model_module_version": "1.5.0",
            "_model_name": "HTMLModel",
            "_view_count": null,
            "_view_module": "@jupyter-widgets/controls",
            "_view_module_version": "1.5.0",
            "_view_name": "HTMLView",
            "description": "",
            "description_tooltip": null,
            "layout": "IPY_MODEL_1990f254038547bfa8417255ea5ffd10",
            "placeholder": "​",
            "style": "IPY_MODEL_f114085a2256460389d566c8d6e9410e",
            "value": "100%"
          }
        },
        "149db8b55c7b43299cd031f73461c2b6": {
          "model_module": "@jupyter-widgets/controls",
          "model_name": "FloatProgressModel",
          "model_module_version": "1.5.0",
          "state": {
            "_dom_classes": [],
            "_model_module": "@jupyter-widgets/controls",
            "_model_module_version": "1.5.0",
            "_model_name": "FloatProgressModel",
            "_view_count": null,
            "_view_module": "@jupyter-widgets/controls",
            "_view_module_version": "1.5.0",
            "_view_name": "ProgressView",
            "bar_style": "success",
            "description": "",
            "description_tooltip": null,
            "layout": "IPY_MODEL_dd16b74da97c402c9bcd22405b807a1a",
            "max": 64,
            "min": 0,
            "orientation": "horizontal",
            "style": "IPY_MODEL_62c9f0a2c5664ed592fab90d1cae30d7",
            "value": 64
          }
        },
        "2f772b0593b848e1b065720131120b7c": {
          "model_module": "@jupyter-widgets/controls",
          "model_name": "HTMLModel",
          "model_module_version": "1.5.0",
          "state": {
            "_dom_classes": [],
            "_model_module": "@jupyter-widgets/controls",
            "_model_module_version": "1.5.0",
            "_model_name": "HTMLModel",
            "_view_count": null,
            "_view_module": "@jupyter-widgets/controls",
            "_view_module_version": "1.5.0",
            "_view_name": "HTMLView",
            "description": "",
            "description_tooltip": null,
            "layout": "IPY_MODEL_b1e5e8825fb841ac940baa472f69d42d",
            "placeholder": "​",
            "style": "IPY_MODEL_e458d9c9ab2c4bedb37cb8384d120810",
            "value": " 64/64 [00:00&lt;00:00, 881.09it/s]"
          }
        },
        "d2a683f622cd4856b571869220e502cb": {
          "model_module": "@jupyter-widgets/base",
          "model_name": "LayoutModel",
          "model_module_version": "1.2.0",
          "state": {
            "_model_module": "@jupyter-widgets/base",
            "_model_module_version": "1.2.0",
            "_model_name": "LayoutModel",
            "_view_count": null,
            "_view_module": "@jupyter-widgets/base",
            "_view_module_version": "1.2.0",
            "_view_name": "LayoutView",
            "align_content": null,
            "align_items": null,
            "align_self": null,
            "border": null,
            "bottom": null,
            "display": null,
            "flex": null,
            "flex_flow": null,
            "grid_area": null,
            "grid_auto_columns": null,
            "grid_auto_flow": null,
            "grid_auto_rows": null,
            "grid_column": null,
            "grid_gap": null,
            "grid_row": null,
            "grid_template_areas": null,
            "grid_template_columns": null,
            "grid_template_rows": null,
            "height": null,
            "justify_content": null,
            "justify_items": null,
            "left": null,
            "margin": null,
            "max_height": null,
            "max_width": null,
            "min_height": null,
            "min_width": null,
            "object_fit": null,
            "object_position": null,
            "order": null,
            "overflow": null,
            "overflow_x": null,
            "overflow_y": null,
            "padding": null,
            "right": null,
            "top": null,
            "visibility": null,
            "width": null
          }
        },
        "1990f254038547bfa8417255ea5ffd10": {
          "model_module": "@jupyter-widgets/base",
          "model_name": "LayoutModel",
          "model_module_version": "1.2.0",
          "state": {
            "_model_module": "@jupyter-widgets/base",
            "_model_module_version": "1.2.0",
            "_model_name": "LayoutModel",
            "_view_count": null,
            "_view_module": "@jupyter-widgets/base",
            "_view_module_version": "1.2.0",
            "_view_name": "LayoutView",
            "align_content": null,
            "align_items": null,
            "align_self": null,
            "border": null,
            "bottom": null,
            "display": null,
            "flex": null,
            "flex_flow": null,
            "grid_area": null,
            "grid_auto_columns": null,
            "grid_auto_flow": null,
            "grid_auto_rows": null,
            "grid_column": null,
            "grid_gap": null,
            "grid_row": null,
            "grid_template_areas": null,
            "grid_template_columns": null,
            "grid_template_rows": null,
            "height": null,
            "justify_content": null,
            "justify_items": null,
            "left": null,
            "margin": null,
            "max_height": null,
            "max_width": null,
            "min_height": null,
            "min_width": null,
            "object_fit": null,
            "object_position": null,
            "order": null,
            "overflow": null,
            "overflow_x": null,
            "overflow_y": null,
            "padding": null,
            "right": null,
            "top": null,
            "visibility": null,
            "width": null
          }
        },
        "f114085a2256460389d566c8d6e9410e": {
          "model_module": "@jupyter-widgets/controls",
          "model_name": "DescriptionStyleModel",
          "model_module_version": "1.5.0",
          "state": {
            "_model_module": "@jupyter-widgets/controls",
            "_model_module_version": "1.5.0",
            "_model_name": "DescriptionStyleModel",
            "_view_count": null,
            "_view_module": "@jupyter-widgets/base",
            "_view_module_version": "1.2.0",
            "_view_name": "StyleView",
            "description_width": ""
          }
        },
        "dd16b74da97c402c9bcd22405b807a1a": {
          "model_module": "@jupyter-widgets/base",
          "model_name": "LayoutModel",
          "model_module_version": "1.2.0",
          "state": {
            "_model_module": "@jupyter-widgets/base",
            "_model_module_version": "1.2.0",
            "_model_name": "LayoutModel",
            "_view_count": null,
            "_view_module": "@jupyter-widgets/base",
            "_view_module_version": "1.2.0",
            "_view_name": "LayoutView",
            "align_content": null,
            "align_items": null,
            "align_self": null,
            "border": null,
            "bottom": null,
            "display": null,
            "flex": null,
            "flex_flow": null,
            "grid_area": null,
            "grid_auto_columns": null,
            "grid_auto_flow": null,
            "grid_auto_rows": null,
            "grid_column": null,
            "grid_gap": null,
            "grid_row": null,
            "grid_template_areas": null,
            "grid_template_columns": null,
            "grid_template_rows": null,
            "height": null,
            "justify_content": null,
            "justify_items": null,
            "left": null,
            "margin": null,
            "max_height": null,
            "max_width": null,
            "min_height": null,
            "min_width": null,
            "object_fit": null,
            "object_position": null,
            "order": null,
            "overflow": null,
            "overflow_x": null,
            "overflow_y": null,
            "padding": null,
            "right": null,
            "top": null,
            "visibility": null,
            "width": null
          }
        },
        "62c9f0a2c5664ed592fab90d1cae30d7": {
          "model_module": "@jupyter-widgets/controls",
          "model_name": "ProgressStyleModel",
          "model_module_version": "1.5.0",
          "state": {
            "_model_module": "@jupyter-widgets/controls",
            "_model_module_version": "1.5.0",
            "_model_name": "ProgressStyleModel",
            "_view_count": null,
            "_view_module": "@jupyter-widgets/base",
            "_view_module_version": "1.2.0",
            "_view_name": "StyleView",
            "bar_color": null,
            "description_width": ""
          }
        },
        "b1e5e8825fb841ac940baa472f69d42d": {
          "model_module": "@jupyter-widgets/base",
          "model_name": "LayoutModel",
          "model_module_version": "1.2.0",
          "state": {
            "_model_module": "@jupyter-widgets/base",
            "_model_module_version": "1.2.0",
            "_model_name": "LayoutModel",
            "_view_count": null,
            "_view_module": "@jupyter-widgets/base",
            "_view_module_version": "1.2.0",
            "_view_name": "LayoutView",
            "align_content": null,
            "align_items": null,
            "align_self": null,
            "border": null,
            "bottom": null,
            "display": null,
            "flex": null,
            "flex_flow": null,
            "grid_area": null,
            "grid_auto_columns": null,
            "grid_auto_flow": null,
            "grid_auto_rows": null,
            "grid_column": null,
            "grid_gap": null,
            "grid_row": null,
            "grid_template_areas": null,
            "grid_template_columns": null,
            "grid_template_rows": null,
            "height": null,
            "justify_content": null,
            "justify_items": null,
            "left": null,
            "margin": null,
            "max_height": null,
            "max_width": null,
            "min_height": null,
            "min_width": null,
            "object_fit": null,
            "object_position": null,
            "order": null,
            "overflow": null,
            "overflow_x": null,
            "overflow_y": null,
            "padding": null,
            "right": null,
            "top": null,
            "visibility": null,
            "width": null
          }
        },
        "e458d9c9ab2c4bedb37cb8384d120810": {
          "model_module": "@jupyter-widgets/controls",
          "model_name": "DescriptionStyleModel",
          "model_module_version": "1.5.0",
          "state": {
            "_model_module": "@jupyter-widgets/controls",
            "_model_module_version": "1.5.0",
            "_model_name": "DescriptionStyleModel",
            "_view_count": null,
            "_view_module": "@jupyter-widgets/base",
            "_view_module_version": "1.2.0",
            "_view_name": "StyleView",
            "description_width": ""
          }
        },
        "191b68379b6c44b59eedd774036d1204": {
          "model_module": "@jupyter-widgets/controls",
          "model_name": "HBoxModel",
          "model_module_version": "1.5.0",
          "state": {
            "_dom_classes": [],
            "_model_module": "@jupyter-widgets/controls",
            "_model_module_version": "1.5.0",
            "_model_name": "HBoxModel",
            "_view_count": null,
            "_view_module": "@jupyter-widgets/controls",
            "_view_module_version": "1.5.0",
            "_view_name": "HBoxView",
            "box_style": "",
            "children": [
              "IPY_MODEL_571deb86facf416e9fcbc15a59814820",
              "IPY_MODEL_71e3dbc4f00642789b6a50232e129c75",
              "IPY_MODEL_fec1f8f525104d5baa1c0c8443682b9f"
            ],
            "layout": "IPY_MODEL_0c4d351774bd49be862627f332498051"
          }
        },
        "571deb86facf416e9fcbc15a59814820": {
          "model_module": "@jupyter-widgets/controls",
          "model_name": "HTMLModel",
          "model_module_version": "1.5.0",
          "state": {
            "_dom_classes": [],
            "_model_module": "@jupyter-widgets/controls",
            "_model_module_version": "1.5.0",
            "_model_name": "HTMLModel",
            "_view_count": null,
            "_view_module": "@jupyter-widgets/controls",
            "_view_module_version": "1.5.0",
            "_view_name": "HTMLView",
            "description": "",
            "description_tooltip": null,
            "layout": "IPY_MODEL_4502add4ebcc4874b39561d7c55871e4",
            "placeholder": "​",
            "style": "IPY_MODEL_4a0927699e8a422cb57d9f567fbb8954",
            "value": "100%"
          }
        },
        "71e3dbc4f00642789b6a50232e129c75": {
          "model_module": "@jupyter-widgets/controls",
          "model_name": "FloatProgressModel",
          "model_module_version": "1.5.0",
          "state": {
            "_dom_classes": [],
            "_model_module": "@jupyter-widgets/controls",
            "_model_module_version": "1.5.0",
            "_model_name": "FloatProgressModel",
            "_view_count": null,
            "_view_module": "@jupyter-widgets/controls",
            "_view_module_version": "1.5.0",
            "_view_name": "ProgressView",
            "bar_style": "success",
            "description": "",
            "description_tooltip": null,
            "layout": "IPY_MODEL_45e1f4fdff64438293092d446fa9bb5f",
            "max": 256,
            "min": 0,
            "orientation": "horizontal",
            "style": "IPY_MODEL_602909c057824771adcb463cbd07a5d3",
            "value": 256
          }
        },
        "fec1f8f525104d5baa1c0c8443682b9f": {
          "model_module": "@jupyter-widgets/controls",
          "model_name": "HTMLModel",
          "model_module_version": "1.5.0",
          "state": {
            "_dom_classes": [],
            "_model_module": "@jupyter-widgets/controls",
            "_model_module_version": "1.5.0",
            "_model_name": "HTMLModel",
            "_view_count": null,
            "_view_module": "@jupyter-widgets/controls",
            "_view_module_version": "1.5.0",
            "_view_name": "HTMLView",
            "description": "",
            "description_tooltip": null,
            "layout": "IPY_MODEL_2774f7fe0c094141bc7888b84e7b2637",
            "placeholder": "​",
            "style": "IPY_MODEL_185e70e360854df9a28fb70de5f308c6",
            "value": " 256/256 [00:00&lt;00:00, 955.71it/s]"
          }
        },
        "0c4d351774bd49be862627f332498051": {
          "model_module": "@jupyter-widgets/base",
          "model_name": "LayoutModel",
          "model_module_version": "1.2.0",
          "state": {
            "_model_module": "@jupyter-widgets/base",
            "_model_module_version": "1.2.0",
            "_model_name": "LayoutModel",
            "_view_count": null,
            "_view_module": "@jupyter-widgets/base",
            "_view_module_version": "1.2.0",
            "_view_name": "LayoutView",
            "align_content": null,
            "align_items": null,
            "align_self": null,
            "border": null,
            "bottom": null,
            "display": null,
            "flex": null,
            "flex_flow": null,
            "grid_area": null,
            "grid_auto_columns": null,
            "grid_auto_flow": null,
            "grid_auto_rows": null,
            "grid_column": null,
            "grid_gap": null,
            "grid_row": null,
            "grid_template_areas": null,
            "grid_template_columns": null,
            "grid_template_rows": null,
            "height": null,
            "justify_content": null,
            "justify_items": null,
            "left": null,
            "margin": null,
            "max_height": null,
            "max_width": null,
            "min_height": null,
            "min_width": null,
            "object_fit": null,
            "object_position": null,
            "order": null,
            "overflow": null,
            "overflow_x": null,
            "overflow_y": null,
            "padding": null,
            "right": null,
            "top": null,
            "visibility": null,
            "width": null
          }
        },
        "4502add4ebcc4874b39561d7c55871e4": {
          "model_module": "@jupyter-widgets/base",
          "model_name": "LayoutModel",
          "model_module_version": "1.2.0",
          "state": {
            "_model_module": "@jupyter-widgets/base",
            "_model_module_version": "1.2.0",
            "_model_name": "LayoutModel",
            "_view_count": null,
            "_view_module": "@jupyter-widgets/base",
            "_view_module_version": "1.2.0",
            "_view_name": "LayoutView",
            "align_content": null,
            "align_items": null,
            "align_self": null,
            "border": null,
            "bottom": null,
            "display": null,
            "flex": null,
            "flex_flow": null,
            "grid_area": null,
            "grid_auto_columns": null,
            "grid_auto_flow": null,
            "grid_auto_rows": null,
            "grid_column": null,
            "grid_gap": null,
            "grid_row": null,
            "grid_template_areas": null,
            "grid_template_columns": null,
            "grid_template_rows": null,
            "height": null,
            "justify_content": null,
            "justify_items": null,
            "left": null,
            "margin": null,
            "max_height": null,
            "max_width": null,
            "min_height": null,
            "min_width": null,
            "object_fit": null,
            "object_position": null,
            "order": null,
            "overflow": null,
            "overflow_x": null,
            "overflow_y": null,
            "padding": null,
            "right": null,
            "top": null,
            "visibility": null,
            "width": null
          }
        },
        "4a0927699e8a422cb57d9f567fbb8954": {
          "model_module": "@jupyter-widgets/controls",
          "model_name": "DescriptionStyleModel",
          "model_module_version": "1.5.0",
          "state": {
            "_model_module": "@jupyter-widgets/controls",
            "_model_module_version": "1.5.0",
            "_model_name": "DescriptionStyleModel",
            "_view_count": null,
            "_view_module": "@jupyter-widgets/base",
            "_view_module_version": "1.2.0",
            "_view_name": "StyleView",
            "description_width": ""
          }
        },
        "45e1f4fdff64438293092d446fa9bb5f": {
          "model_module": "@jupyter-widgets/base",
          "model_name": "LayoutModel",
          "model_module_version": "1.2.0",
          "state": {
            "_model_module": "@jupyter-widgets/base",
            "_model_module_version": "1.2.0",
            "_model_name": "LayoutModel",
            "_view_count": null,
            "_view_module": "@jupyter-widgets/base",
            "_view_module_version": "1.2.0",
            "_view_name": "LayoutView",
            "align_content": null,
            "align_items": null,
            "align_self": null,
            "border": null,
            "bottom": null,
            "display": null,
            "flex": null,
            "flex_flow": null,
            "grid_area": null,
            "grid_auto_columns": null,
            "grid_auto_flow": null,
            "grid_auto_rows": null,
            "grid_column": null,
            "grid_gap": null,
            "grid_row": null,
            "grid_template_areas": null,
            "grid_template_columns": null,
            "grid_template_rows": null,
            "height": null,
            "justify_content": null,
            "justify_items": null,
            "left": null,
            "margin": null,
            "max_height": null,
            "max_width": null,
            "min_height": null,
            "min_width": null,
            "object_fit": null,
            "object_position": null,
            "order": null,
            "overflow": null,
            "overflow_x": null,
            "overflow_y": null,
            "padding": null,
            "right": null,
            "top": null,
            "visibility": null,
            "width": null
          }
        },
        "602909c057824771adcb463cbd07a5d3": {
          "model_module": "@jupyter-widgets/controls",
          "model_name": "ProgressStyleModel",
          "model_module_version": "1.5.0",
          "state": {
            "_model_module": "@jupyter-widgets/controls",
            "_model_module_version": "1.5.0",
            "_model_name": "ProgressStyleModel",
            "_view_count": null,
            "_view_module": "@jupyter-widgets/base",
            "_view_module_version": "1.2.0",
            "_view_name": "StyleView",
            "bar_color": null,
            "description_width": ""
          }
        },
        "2774f7fe0c094141bc7888b84e7b2637": {
          "model_module": "@jupyter-widgets/base",
          "model_name": "LayoutModel",
          "model_module_version": "1.2.0",
          "state": {
            "_model_module": "@jupyter-widgets/base",
            "_model_module_version": "1.2.0",
            "_model_name": "LayoutModel",
            "_view_count": null,
            "_view_module": "@jupyter-widgets/base",
            "_view_module_version": "1.2.0",
            "_view_name": "LayoutView",
            "align_content": null,
            "align_items": null,
            "align_self": null,
            "border": null,
            "bottom": null,
            "display": null,
            "flex": null,
            "flex_flow": null,
            "grid_area": null,
            "grid_auto_columns": null,
            "grid_auto_flow": null,
            "grid_auto_rows": null,
            "grid_column": null,
            "grid_gap": null,
            "grid_row": null,
            "grid_template_areas": null,
            "grid_template_columns": null,
            "grid_template_rows": null,
            "height": null,
            "justify_content": null,
            "justify_items": null,
            "left": null,
            "margin": null,
            "max_height": null,
            "max_width": null,
            "min_height": null,
            "min_width": null,
            "object_fit": null,
            "object_position": null,
            "order": null,
            "overflow": null,
            "overflow_x": null,
            "overflow_y": null,
            "padding": null,
            "right": null,
            "top": null,
            "visibility": null,
            "width": null
          }
        },
        "185e70e360854df9a28fb70de5f308c6": {
          "model_module": "@jupyter-widgets/controls",
          "model_name": "DescriptionStyleModel",
          "model_module_version": "1.5.0",
          "state": {
            "_model_module": "@jupyter-widgets/controls",
            "_model_module_version": "1.5.0",
            "_model_name": "DescriptionStyleModel",
            "_view_count": null,
            "_view_module": "@jupyter-widgets/base",
            "_view_module_version": "1.2.0",
            "_view_name": "StyleView",
            "description_width": ""
          }
        },
        "dd40ce8c91924fe7b93b3621ac204b10": {
          "model_module": "@jupyter-widgets/controls",
          "model_name": "HBoxModel",
          "model_module_version": "1.5.0",
          "state": {
            "_dom_classes": [],
            "_model_module": "@jupyter-widgets/controls",
            "_model_module_version": "1.5.0",
            "_model_name": "HBoxModel",
            "_view_count": null,
            "_view_module": "@jupyter-widgets/controls",
            "_view_module_version": "1.5.0",
            "_view_name": "HBoxView",
            "box_style": "",
            "children": [
              "IPY_MODEL_11707a1d72ba42bb9ad550c23b25fc00",
              "IPY_MODEL_4abf6deb70ca4713a4862a40a38a6388",
              "IPY_MODEL_6c1804c0e0a84ec7b76dc0a003f464da"
            ],
            "layout": "IPY_MODEL_23124728e42f4bb4a2cd735cf92852bb"
          }
        },
        "11707a1d72ba42bb9ad550c23b25fc00": {
          "model_module": "@jupyter-widgets/controls",
          "model_name": "HTMLModel",
          "model_module_version": "1.5.0",
          "state": {
            "_dom_classes": [],
            "_model_module": "@jupyter-widgets/controls",
            "_model_module_version": "1.5.0",
            "_model_name": "HTMLModel",
            "_view_count": null,
            "_view_module": "@jupyter-widgets/controls",
            "_view_module_version": "1.5.0",
            "_view_name": "HTMLView",
            "description": "",
            "description_tooltip": null,
            "layout": "IPY_MODEL_47b318bf2dee40bdbc38c83ec43f08ff",
            "placeholder": "​",
            "style": "IPY_MODEL_f61415dea2324f3287d436410b409b1d",
            "value": "100%"
          }
        },
        "4abf6deb70ca4713a4862a40a38a6388": {
          "model_module": "@jupyter-widgets/controls",
          "model_name": "FloatProgressModel",
          "model_module_version": "1.5.0",
          "state": {
            "_dom_classes": [],
            "_model_module": "@jupyter-widgets/controls",
            "_model_module_version": "1.5.0",
            "_model_name": "FloatProgressModel",
            "_view_count": null,
            "_view_module": "@jupyter-widgets/controls",
            "_view_module_version": "1.5.0",
            "_view_name": "ProgressView",
            "bar_style": "success",
            "description": "",
            "description_tooltip": null,
            "layout": "IPY_MODEL_7a4b18d309784dcbaf19aaedaf70ec0a",
            "max": 16,
            "min": 0,
            "orientation": "horizontal",
            "style": "IPY_MODEL_4fd9fe2165654d72a5c8174cd71d9412",
            "value": 16
          }
        },
        "6c1804c0e0a84ec7b76dc0a003f464da": {
          "model_module": "@jupyter-widgets/controls",
          "model_name": "HTMLModel",
          "model_module_version": "1.5.0",
          "state": {
            "_dom_classes": [],
            "_model_module": "@jupyter-widgets/controls",
            "_model_module_version": "1.5.0",
            "_model_name": "HTMLModel",
            "_view_count": null,
            "_view_module": "@jupyter-widgets/controls",
            "_view_module_version": "1.5.0",
            "_view_name": "HTMLView",
            "description": "",
            "description_tooltip": null,
            "layout": "IPY_MODEL_fcebf1c220d04962852871d11165df75",
            "placeholder": "​",
            "style": "IPY_MODEL_983d563d47a54c4ca0b4c890a6dd6325",
            "value": " 16/16 [00:00&lt;00:00, 254.03it/s]"
          }
        },
        "23124728e42f4bb4a2cd735cf92852bb": {
          "model_module": "@jupyter-widgets/base",
          "model_name": "LayoutModel",
          "model_module_version": "1.2.0",
          "state": {
            "_model_module": "@jupyter-widgets/base",
            "_model_module_version": "1.2.0",
            "_model_name": "LayoutModel",
            "_view_count": null,
            "_view_module": "@jupyter-widgets/base",
            "_view_module_version": "1.2.0",
            "_view_name": "LayoutView",
            "align_content": null,
            "align_items": null,
            "align_self": null,
            "border": null,
            "bottom": null,
            "display": null,
            "flex": null,
            "flex_flow": null,
            "grid_area": null,
            "grid_auto_columns": null,
            "grid_auto_flow": null,
            "grid_auto_rows": null,
            "grid_column": null,
            "grid_gap": null,
            "grid_row": null,
            "grid_template_areas": null,
            "grid_template_columns": null,
            "grid_template_rows": null,
            "height": null,
            "justify_content": null,
            "justify_items": null,
            "left": null,
            "margin": null,
            "max_height": null,
            "max_width": null,
            "min_height": null,
            "min_width": null,
            "object_fit": null,
            "object_position": null,
            "order": null,
            "overflow": null,
            "overflow_x": null,
            "overflow_y": null,
            "padding": null,
            "right": null,
            "top": null,
            "visibility": null,
            "width": null
          }
        },
        "47b318bf2dee40bdbc38c83ec43f08ff": {
          "model_module": "@jupyter-widgets/base",
          "model_name": "LayoutModel",
          "model_module_version": "1.2.0",
          "state": {
            "_model_module": "@jupyter-widgets/base",
            "_model_module_version": "1.2.0",
            "_model_name": "LayoutModel",
            "_view_count": null,
            "_view_module": "@jupyter-widgets/base",
            "_view_module_version": "1.2.0",
            "_view_name": "LayoutView",
            "align_content": null,
            "align_items": null,
            "align_self": null,
            "border": null,
            "bottom": null,
            "display": null,
            "flex": null,
            "flex_flow": null,
            "grid_area": null,
            "grid_auto_columns": null,
            "grid_auto_flow": null,
            "grid_auto_rows": null,
            "grid_column": null,
            "grid_gap": null,
            "grid_row": null,
            "grid_template_areas": null,
            "grid_template_columns": null,
            "grid_template_rows": null,
            "height": null,
            "justify_content": null,
            "justify_items": null,
            "left": null,
            "margin": null,
            "max_height": null,
            "max_width": null,
            "min_height": null,
            "min_width": null,
            "object_fit": null,
            "object_position": null,
            "order": null,
            "overflow": null,
            "overflow_x": null,
            "overflow_y": null,
            "padding": null,
            "right": null,
            "top": null,
            "visibility": null,
            "width": null
          }
        },
        "f61415dea2324f3287d436410b409b1d": {
          "model_module": "@jupyter-widgets/controls",
          "model_name": "DescriptionStyleModel",
          "model_module_version": "1.5.0",
          "state": {
            "_model_module": "@jupyter-widgets/controls",
            "_model_module_version": "1.5.0",
            "_model_name": "DescriptionStyleModel",
            "_view_count": null,
            "_view_module": "@jupyter-widgets/base",
            "_view_module_version": "1.2.0",
            "_view_name": "StyleView",
            "description_width": ""
          }
        },
        "7a4b18d309784dcbaf19aaedaf70ec0a": {
          "model_module": "@jupyter-widgets/base",
          "model_name": "LayoutModel",
          "model_module_version": "1.2.0",
          "state": {
            "_model_module": "@jupyter-widgets/base",
            "_model_module_version": "1.2.0",
            "_model_name": "LayoutModel",
            "_view_count": null,
            "_view_module": "@jupyter-widgets/base",
            "_view_module_version": "1.2.0",
            "_view_name": "LayoutView",
            "align_content": null,
            "align_items": null,
            "align_self": null,
            "border": null,
            "bottom": null,
            "display": null,
            "flex": null,
            "flex_flow": null,
            "grid_area": null,
            "grid_auto_columns": null,
            "grid_auto_flow": null,
            "grid_auto_rows": null,
            "grid_column": null,
            "grid_gap": null,
            "grid_row": null,
            "grid_template_areas": null,
            "grid_template_columns": null,
            "grid_template_rows": null,
            "height": null,
            "justify_content": null,
            "justify_items": null,
            "left": null,
            "margin": null,
            "max_height": null,
            "max_width": null,
            "min_height": null,
            "min_width": null,
            "object_fit": null,
            "object_position": null,
            "order": null,
            "overflow": null,
            "overflow_x": null,
            "overflow_y": null,
            "padding": null,
            "right": null,
            "top": null,
            "visibility": null,
            "width": null
          }
        },
        "4fd9fe2165654d72a5c8174cd71d9412": {
          "model_module": "@jupyter-widgets/controls",
          "model_name": "ProgressStyleModel",
          "model_module_version": "1.5.0",
          "state": {
            "_model_module": "@jupyter-widgets/controls",
            "_model_module_version": "1.5.0",
            "_model_name": "ProgressStyleModel",
            "_view_count": null,
            "_view_module": "@jupyter-widgets/base",
            "_view_module_version": "1.2.0",
            "_view_name": "StyleView",
            "bar_color": null,
            "description_width": ""
          }
        },
        "fcebf1c220d04962852871d11165df75": {
          "model_module": "@jupyter-widgets/base",
          "model_name": "LayoutModel",
          "model_module_version": "1.2.0",
          "state": {
            "_model_module": "@jupyter-widgets/base",
            "_model_module_version": "1.2.0",
            "_model_name": "LayoutModel",
            "_view_count": null,
            "_view_module": "@jupyter-widgets/base",
            "_view_module_version": "1.2.0",
            "_view_name": "LayoutView",
            "align_content": null,
            "align_items": null,
            "align_self": null,
            "border": null,
            "bottom": null,
            "display": null,
            "flex": null,
            "flex_flow": null,
            "grid_area": null,
            "grid_auto_columns": null,
            "grid_auto_flow": null,
            "grid_auto_rows": null,
            "grid_column": null,
            "grid_gap": null,
            "grid_row": null,
            "grid_template_areas": null,
            "grid_template_columns": null,
            "grid_template_rows": null,
            "height": null,
            "justify_content": null,
            "justify_items": null,
            "left": null,
            "margin": null,
            "max_height": null,
            "max_width": null,
            "min_height": null,
            "min_width": null,
            "object_fit": null,
            "object_position": null,
            "order": null,
            "overflow": null,
            "overflow_x": null,
            "overflow_y": null,
            "padding": null,
            "right": null,
            "top": null,
            "visibility": null,
            "width": null
          }
        },
        "983d563d47a54c4ca0b4c890a6dd6325": {
          "model_module": "@jupyter-widgets/controls",
          "model_name": "DescriptionStyleModel",
          "model_module_version": "1.5.0",
          "state": {
            "_model_module": "@jupyter-widgets/controls",
            "_model_module_version": "1.5.0",
            "_model_name": "DescriptionStyleModel",
            "_view_count": null,
            "_view_module": "@jupyter-widgets/base",
            "_view_module_version": "1.2.0",
            "_view_name": "StyleView",
            "description_width": ""
          }
        },
        "3f6b3a3263134309911dc762634ab8c5": {
          "model_module": "@jupyter-widgets/controls",
          "model_name": "HBoxModel",
          "model_module_version": "1.5.0",
          "state": {
            "_dom_classes": [],
            "_model_module": "@jupyter-widgets/controls",
            "_model_module_version": "1.5.0",
            "_model_name": "HBoxModel",
            "_view_count": null,
            "_view_module": "@jupyter-widgets/controls",
            "_view_module_version": "1.5.0",
            "_view_name": "HBoxView",
            "box_style": "",
            "children": [
              "IPY_MODEL_0976e009a90b484f933fb24c9ffe6333",
              "IPY_MODEL_e87254513d4a469580f46fad2fbac24f",
              "IPY_MODEL_863c18a282064818889f93a8b9d0e24f"
            ],
            "layout": "IPY_MODEL_1cec512aa9be419a88ebf210d5a41c4b"
          }
        },
        "0976e009a90b484f933fb24c9ffe6333": {
          "model_module": "@jupyter-widgets/controls",
          "model_name": "HTMLModel",
          "model_module_version": "1.5.0",
          "state": {
            "_dom_classes": [],
            "_model_module": "@jupyter-widgets/controls",
            "_model_module_version": "1.5.0",
            "_model_name": "HTMLModel",
            "_view_count": null,
            "_view_module": "@jupyter-widgets/controls",
            "_view_module_version": "1.5.0",
            "_view_name": "HTMLView",
            "description": "",
            "description_tooltip": null,
            "layout": "IPY_MODEL_08f04a74bb3e41ec931d825a383de881",
            "placeholder": "​",
            "style": "IPY_MODEL_637d2b7055d242c59e12049ed0f5355d",
            "value": "100%"
          }
        },
        "e87254513d4a469580f46fad2fbac24f": {
          "model_module": "@jupyter-widgets/controls",
          "model_name": "FloatProgressModel",
          "model_module_version": "1.5.0",
          "state": {
            "_dom_classes": [],
            "_model_module": "@jupyter-widgets/controls",
            "_model_module_version": "1.5.0",
            "_model_name": "FloatProgressModel",
            "_view_count": null,
            "_view_module": "@jupyter-widgets/controls",
            "_view_module_version": "1.5.0",
            "_view_name": "ProgressView",
            "bar_style": "success",
            "description": "",
            "description_tooltip": null,
            "layout": "IPY_MODEL_9633b064b48e4f019bdf4036b7f452e5",
            "max": 16,
            "min": 0,
            "orientation": "horizontal",
            "style": "IPY_MODEL_f16c0aa0372442e6b6ffb57d1ed1541b",
            "value": 16
          }
        },
        "863c18a282064818889f93a8b9d0e24f": {
          "model_module": "@jupyter-widgets/controls",
          "model_name": "HTMLModel",
          "model_module_version": "1.5.0",
          "state": {
            "_dom_classes": [],
            "_model_module": "@jupyter-widgets/controls",
            "_model_module_version": "1.5.0",
            "_model_name": "HTMLModel",
            "_view_count": null,
            "_view_module": "@jupyter-widgets/controls",
            "_view_module_version": "1.5.0",
            "_view_name": "HTMLView",
            "description": "",
            "description_tooltip": null,
            "layout": "IPY_MODEL_3cd34ce2c3ed46519d78d6aa23447fc2",
            "placeholder": "​",
            "style": "IPY_MODEL_64b18c110d0841c7b893e1091d2139c8",
            "value": " 16/16 [00:00&lt;00:00, 896.65it/s]"
          }
        },
        "1cec512aa9be419a88ebf210d5a41c4b": {
          "model_module": "@jupyter-widgets/base",
          "model_name": "LayoutModel",
          "model_module_version": "1.2.0",
          "state": {
            "_model_module": "@jupyter-widgets/base",
            "_model_module_version": "1.2.0",
            "_model_name": "LayoutModel",
            "_view_count": null,
            "_view_module": "@jupyter-widgets/base",
            "_view_module_version": "1.2.0",
            "_view_name": "LayoutView",
            "align_content": null,
            "align_items": null,
            "align_self": null,
            "border": null,
            "bottom": null,
            "display": null,
            "flex": null,
            "flex_flow": null,
            "grid_area": null,
            "grid_auto_columns": null,
            "grid_auto_flow": null,
            "grid_auto_rows": null,
            "grid_column": null,
            "grid_gap": null,
            "grid_row": null,
            "grid_template_areas": null,
            "grid_template_columns": null,
            "grid_template_rows": null,
            "height": null,
            "justify_content": null,
            "justify_items": null,
            "left": null,
            "margin": null,
            "max_height": null,
            "max_width": null,
            "min_height": null,
            "min_width": null,
            "object_fit": null,
            "object_position": null,
            "order": null,
            "overflow": null,
            "overflow_x": null,
            "overflow_y": null,
            "padding": null,
            "right": null,
            "top": null,
            "visibility": null,
            "width": null
          }
        },
        "08f04a74bb3e41ec931d825a383de881": {
          "model_module": "@jupyter-widgets/base",
          "model_name": "LayoutModel",
          "model_module_version": "1.2.0",
          "state": {
            "_model_module": "@jupyter-widgets/base",
            "_model_module_version": "1.2.0",
            "_model_name": "LayoutModel",
            "_view_count": null,
            "_view_module": "@jupyter-widgets/base",
            "_view_module_version": "1.2.0",
            "_view_name": "LayoutView",
            "align_content": null,
            "align_items": null,
            "align_self": null,
            "border": null,
            "bottom": null,
            "display": null,
            "flex": null,
            "flex_flow": null,
            "grid_area": null,
            "grid_auto_columns": null,
            "grid_auto_flow": null,
            "grid_auto_rows": null,
            "grid_column": null,
            "grid_gap": null,
            "grid_row": null,
            "grid_template_areas": null,
            "grid_template_columns": null,
            "grid_template_rows": null,
            "height": null,
            "justify_content": null,
            "justify_items": null,
            "left": null,
            "margin": null,
            "max_height": null,
            "max_width": null,
            "min_height": null,
            "min_width": null,
            "object_fit": null,
            "object_position": null,
            "order": null,
            "overflow": null,
            "overflow_x": null,
            "overflow_y": null,
            "padding": null,
            "right": null,
            "top": null,
            "visibility": null,
            "width": null
          }
        },
        "637d2b7055d242c59e12049ed0f5355d": {
          "model_module": "@jupyter-widgets/controls",
          "model_name": "DescriptionStyleModel",
          "model_module_version": "1.5.0",
          "state": {
            "_model_module": "@jupyter-widgets/controls",
            "_model_module_version": "1.5.0",
            "_model_name": "DescriptionStyleModel",
            "_view_count": null,
            "_view_module": "@jupyter-widgets/base",
            "_view_module_version": "1.2.0",
            "_view_name": "StyleView",
            "description_width": ""
          }
        },
        "9633b064b48e4f019bdf4036b7f452e5": {
          "model_module": "@jupyter-widgets/base",
          "model_name": "LayoutModel",
          "model_module_version": "1.2.0",
          "state": {
            "_model_module": "@jupyter-widgets/base",
            "_model_module_version": "1.2.0",
            "_model_name": "LayoutModel",
            "_view_count": null,
            "_view_module": "@jupyter-widgets/base",
            "_view_module_version": "1.2.0",
            "_view_name": "LayoutView",
            "align_content": null,
            "align_items": null,
            "align_self": null,
            "border": null,
            "bottom": null,
            "display": null,
            "flex": null,
            "flex_flow": null,
            "grid_area": null,
            "grid_auto_columns": null,
            "grid_auto_flow": null,
            "grid_auto_rows": null,
            "grid_column": null,
            "grid_gap": null,
            "grid_row": null,
            "grid_template_areas": null,
            "grid_template_columns": null,
            "grid_template_rows": null,
            "height": null,
            "justify_content": null,
            "justify_items": null,
            "left": null,
            "margin": null,
            "max_height": null,
            "max_width": null,
            "min_height": null,
            "min_width": null,
            "object_fit": null,
            "object_position": null,
            "order": null,
            "overflow": null,
            "overflow_x": null,
            "overflow_y": null,
            "padding": null,
            "right": null,
            "top": null,
            "visibility": null,
            "width": null
          }
        },
        "f16c0aa0372442e6b6ffb57d1ed1541b": {
          "model_module": "@jupyter-widgets/controls",
          "model_name": "ProgressStyleModel",
          "model_module_version": "1.5.0",
          "state": {
            "_model_module": "@jupyter-widgets/controls",
            "_model_module_version": "1.5.0",
            "_model_name": "ProgressStyleModel",
            "_view_count": null,
            "_view_module": "@jupyter-widgets/base",
            "_view_module_version": "1.2.0",
            "_view_name": "StyleView",
            "bar_color": null,
            "description_width": ""
          }
        },
        "3cd34ce2c3ed46519d78d6aa23447fc2": {
          "model_module": "@jupyter-widgets/base",
          "model_name": "LayoutModel",
          "model_module_version": "1.2.0",
          "state": {
            "_model_module": "@jupyter-widgets/base",
            "_model_module_version": "1.2.0",
            "_model_name": "LayoutModel",
            "_view_count": null,
            "_view_module": "@jupyter-widgets/base",
            "_view_module_version": "1.2.0",
            "_view_name": "LayoutView",
            "align_content": null,
            "align_items": null,
            "align_self": null,
            "border": null,
            "bottom": null,
            "display": null,
            "flex": null,
            "flex_flow": null,
            "grid_area": null,
            "grid_auto_columns": null,
            "grid_auto_flow": null,
            "grid_auto_rows": null,
            "grid_column": null,
            "grid_gap": null,
            "grid_row": null,
            "grid_template_areas": null,
            "grid_template_columns": null,
            "grid_template_rows": null,
            "height": null,
            "justify_content": null,
            "justify_items": null,
            "left": null,
            "margin": null,
            "max_height": null,
            "max_width": null,
            "min_height": null,
            "min_width": null,
            "object_fit": null,
            "object_position": null,
            "order": null,
            "overflow": null,
            "overflow_x": null,
            "overflow_y": null,
            "padding": null,
            "right": null,
            "top": null,
            "visibility": null,
            "width": null
          }
        },
        "64b18c110d0841c7b893e1091d2139c8": {
          "model_module": "@jupyter-widgets/controls",
          "model_name": "DescriptionStyleModel",
          "model_module_version": "1.5.0",
          "state": {
            "_model_module": "@jupyter-widgets/controls",
            "_model_module_version": "1.5.0",
            "_model_name": "DescriptionStyleModel",
            "_view_count": null,
            "_view_module": "@jupyter-widgets/base",
            "_view_module_version": "1.2.0",
            "_view_name": "StyleView",
            "description_width": ""
          }
        },
        "0b373c37bbfa42a5a581a41ce12ef75d": {
          "model_module": "@jupyter-widgets/controls",
          "model_name": "HBoxModel",
          "model_module_version": "1.5.0",
          "state": {
            "_dom_classes": [],
            "_model_module": "@jupyter-widgets/controls",
            "_model_module_version": "1.5.0",
            "_model_name": "HBoxModel",
            "_view_count": null,
            "_view_module": "@jupyter-widgets/controls",
            "_view_module_version": "1.5.0",
            "_view_name": "HBoxView",
            "box_style": "",
            "children": [
              "IPY_MODEL_f400a97351b94d02be4b815d74b4cd5f",
              "IPY_MODEL_b68eb2024e8341bda43ab87a9a63abd7",
              "IPY_MODEL_b5d1f087d5fe4f08ab44bd656099f9bc"
            ],
            "layout": "IPY_MODEL_4596f3592cdb42ac8147af07b1c4d6df"
          }
        },
        "f400a97351b94d02be4b815d74b4cd5f": {
          "model_module": "@jupyter-widgets/controls",
          "model_name": "HTMLModel",
          "model_module_version": "1.5.0",
          "state": {
            "_dom_classes": [],
            "_model_module": "@jupyter-widgets/controls",
            "_model_module_version": "1.5.0",
            "_model_name": "HTMLModel",
            "_view_count": null,
            "_view_module": "@jupyter-widgets/controls",
            "_view_module_version": "1.5.0",
            "_view_name": "HTMLView",
            "description": "",
            "description_tooltip": null,
            "layout": "IPY_MODEL_7f906cd50bdb44e6b5f98499bc5b1bd0",
            "placeholder": "​",
            "style": "IPY_MODEL_cd67e293585740868e267d4f62b189e9",
            "value": "100%"
          }
        },
        "b68eb2024e8341bda43ab87a9a63abd7": {
          "model_module": "@jupyter-widgets/controls",
          "model_name": "FloatProgressModel",
          "model_module_version": "1.5.0",
          "state": {
            "_dom_classes": [],
            "_model_module": "@jupyter-widgets/controls",
            "_model_module_version": "1.5.0",
            "_model_name": "FloatProgressModel",
            "_view_count": null,
            "_view_module": "@jupyter-widgets/controls",
            "_view_module_version": "1.5.0",
            "_view_name": "ProgressView",
            "bar_style": "success",
            "description": "",
            "description_tooltip": null,
            "layout": "IPY_MODEL_14062834414343998b910e4cb1f5c91e",
            "max": 16,
            "min": 0,
            "orientation": "horizontal",
            "style": "IPY_MODEL_94051c1b5d0e40b1ba29881eab0350d3",
            "value": 16
          }
        },
        "b5d1f087d5fe4f08ab44bd656099f9bc": {
          "model_module": "@jupyter-widgets/controls",
          "model_name": "HTMLModel",
          "model_module_version": "1.5.0",
          "state": {
            "_dom_classes": [],
            "_model_module": "@jupyter-widgets/controls",
            "_model_module_version": "1.5.0",
            "_model_name": "HTMLModel",
            "_view_count": null,
            "_view_module": "@jupyter-widgets/controls",
            "_view_module_version": "1.5.0",
            "_view_name": "HTMLView",
            "description": "",
            "description_tooltip": null,
            "layout": "IPY_MODEL_792d144014db4264b17437efaa46dffb",
            "placeholder": "​",
            "style": "IPY_MODEL_0546c2e625ca408f9c2d3e7ce932cbc8",
            "value": " 16/16 [00:00&lt;00:00, 125.76it/s]"
          }
        },
        "4596f3592cdb42ac8147af07b1c4d6df": {
          "model_module": "@jupyter-widgets/base",
          "model_name": "LayoutModel",
          "model_module_version": "1.2.0",
          "state": {
            "_model_module": "@jupyter-widgets/base",
            "_model_module_version": "1.2.0",
            "_model_name": "LayoutModel",
            "_view_count": null,
            "_view_module": "@jupyter-widgets/base",
            "_view_module_version": "1.2.0",
            "_view_name": "LayoutView",
            "align_content": null,
            "align_items": null,
            "align_self": null,
            "border": null,
            "bottom": null,
            "display": null,
            "flex": null,
            "flex_flow": null,
            "grid_area": null,
            "grid_auto_columns": null,
            "grid_auto_flow": null,
            "grid_auto_rows": null,
            "grid_column": null,
            "grid_gap": null,
            "grid_row": null,
            "grid_template_areas": null,
            "grid_template_columns": null,
            "grid_template_rows": null,
            "height": null,
            "justify_content": null,
            "justify_items": null,
            "left": null,
            "margin": null,
            "max_height": null,
            "max_width": null,
            "min_height": null,
            "min_width": null,
            "object_fit": null,
            "object_position": null,
            "order": null,
            "overflow": null,
            "overflow_x": null,
            "overflow_y": null,
            "padding": null,
            "right": null,
            "top": null,
            "visibility": null,
            "width": null
          }
        },
        "7f906cd50bdb44e6b5f98499bc5b1bd0": {
          "model_module": "@jupyter-widgets/base",
          "model_name": "LayoutModel",
          "model_module_version": "1.2.0",
          "state": {
            "_model_module": "@jupyter-widgets/base",
            "_model_module_version": "1.2.0",
            "_model_name": "LayoutModel",
            "_view_count": null,
            "_view_module": "@jupyter-widgets/base",
            "_view_module_version": "1.2.0",
            "_view_name": "LayoutView",
            "align_content": null,
            "align_items": null,
            "align_self": null,
            "border": null,
            "bottom": null,
            "display": null,
            "flex": null,
            "flex_flow": null,
            "grid_area": null,
            "grid_auto_columns": null,
            "grid_auto_flow": null,
            "grid_auto_rows": null,
            "grid_column": null,
            "grid_gap": null,
            "grid_row": null,
            "grid_template_areas": null,
            "grid_template_columns": null,
            "grid_template_rows": null,
            "height": null,
            "justify_content": null,
            "justify_items": null,
            "left": null,
            "margin": null,
            "max_height": null,
            "max_width": null,
            "min_height": null,
            "min_width": null,
            "object_fit": null,
            "object_position": null,
            "order": null,
            "overflow": null,
            "overflow_x": null,
            "overflow_y": null,
            "padding": null,
            "right": null,
            "top": null,
            "visibility": null,
            "width": null
          }
        },
        "cd67e293585740868e267d4f62b189e9": {
          "model_module": "@jupyter-widgets/controls",
          "model_name": "DescriptionStyleModel",
          "model_module_version": "1.5.0",
          "state": {
            "_model_module": "@jupyter-widgets/controls",
            "_model_module_version": "1.5.0",
            "_model_name": "DescriptionStyleModel",
            "_view_count": null,
            "_view_module": "@jupyter-widgets/base",
            "_view_module_version": "1.2.0",
            "_view_name": "StyleView",
            "description_width": ""
          }
        },
        "14062834414343998b910e4cb1f5c91e": {
          "model_module": "@jupyter-widgets/base",
          "model_name": "LayoutModel",
          "model_module_version": "1.2.0",
          "state": {
            "_model_module": "@jupyter-widgets/base",
            "_model_module_version": "1.2.0",
            "_model_name": "LayoutModel",
            "_view_count": null,
            "_view_module": "@jupyter-widgets/base",
            "_view_module_version": "1.2.0",
            "_view_name": "LayoutView",
            "align_content": null,
            "align_items": null,
            "align_self": null,
            "border": null,
            "bottom": null,
            "display": null,
            "flex": null,
            "flex_flow": null,
            "grid_area": null,
            "grid_auto_columns": null,
            "grid_auto_flow": null,
            "grid_auto_rows": null,
            "grid_column": null,
            "grid_gap": null,
            "grid_row": null,
            "grid_template_areas": null,
            "grid_template_columns": null,
            "grid_template_rows": null,
            "height": null,
            "justify_content": null,
            "justify_items": null,
            "left": null,
            "margin": null,
            "max_height": null,
            "max_width": null,
            "min_height": null,
            "min_width": null,
            "object_fit": null,
            "object_position": null,
            "order": null,
            "overflow": null,
            "overflow_x": null,
            "overflow_y": null,
            "padding": null,
            "right": null,
            "top": null,
            "visibility": null,
            "width": null
          }
        },
        "94051c1b5d0e40b1ba29881eab0350d3": {
          "model_module": "@jupyter-widgets/controls",
          "model_name": "ProgressStyleModel",
          "model_module_version": "1.5.0",
          "state": {
            "_model_module": "@jupyter-widgets/controls",
            "_model_module_version": "1.5.0",
            "_model_name": "ProgressStyleModel",
            "_view_count": null,
            "_view_module": "@jupyter-widgets/base",
            "_view_module_version": "1.2.0",
            "_view_name": "StyleView",
            "bar_color": null,
            "description_width": ""
          }
        },
        "792d144014db4264b17437efaa46dffb": {
          "model_module": "@jupyter-widgets/base",
          "model_name": "LayoutModel",
          "model_module_version": "1.2.0",
          "state": {
            "_model_module": "@jupyter-widgets/base",
            "_model_module_version": "1.2.0",
            "_model_name": "LayoutModel",
            "_view_count": null,
            "_view_module": "@jupyter-widgets/base",
            "_view_module_version": "1.2.0",
            "_view_name": "LayoutView",
            "align_content": null,
            "align_items": null,
            "align_self": null,
            "border": null,
            "bottom": null,
            "display": null,
            "flex": null,
            "flex_flow": null,
            "grid_area": null,
            "grid_auto_columns": null,
            "grid_auto_flow": null,
            "grid_auto_rows": null,
            "grid_column": null,
            "grid_gap": null,
            "grid_row": null,
            "grid_template_areas": null,
            "grid_template_columns": null,
            "grid_template_rows": null,
            "height": null,
            "justify_content": null,
            "justify_items": null,
            "left": null,
            "margin": null,
            "max_height": null,
            "max_width": null,
            "min_height": null,
            "min_width": null,
            "object_fit": null,
            "object_position": null,
            "order": null,
            "overflow": null,
            "overflow_x": null,
            "overflow_y": null,
            "padding": null,
            "right": null,
            "top": null,
            "visibility": null,
            "width": null
          }
        },
        "0546c2e625ca408f9c2d3e7ce932cbc8": {
          "model_module": "@jupyter-widgets/controls",
          "model_name": "DescriptionStyleModel",
          "model_module_version": "1.5.0",
          "state": {
            "_model_module": "@jupyter-widgets/controls",
            "_model_module_version": "1.5.0",
            "_model_name": "DescriptionStyleModel",
            "_view_count": null,
            "_view_module": "@jupyter-widgets/base",
            "_view_module_version": "1.2.0",
            "_view_name": "StyleView",
            "description_width": ""
          }
        }
      }
    }
  },
  "cells": [
    {
      "cell_type": "markdown",
      "metadata": {
        "id": "view-in-github",
        "colab_type": "text"
      },
      "source": [
        "<a href=\"https://colab.research.google.com/github/Metrex-Nova/pytearcat-wormhole-metric/blob/main/Untitled7.ipynb\" target=\"_parent\"><img src=\"https://colab.research.google.com/assets/colab-badge.svg\" alt=\"Open In Colab\"/></a>"
      ]
    },
    {
      "cell_type": "code",
      "source": [],
      "metadata": {
        "id": "wgDndktw8mjR"
      },
      "execution_count": 32,
      "outputs": []
    },
    {
      "cell_type": "code",
      "source": [
        "import pytearcat as pt\n",
        "# Define the coordinates to be used\n",
        "t,r,theta,phi = pt.coords('t,r,theta,phi')\n",
        "# Define any constant (more than one constant can be defined at the same time)\n",
        "Phi = pt.fun('Phi','r')\n",
        "b = pt.fun('b','r')\n",
        "g = pt.metric(\n",
        "    \"ds2 = +exp(2*Phi)*dt**2 - dr**2/(1 - b/r) - r**2*(dtheta**2 + sin(theta)**2*dphi**2)\"\n",
        ")"
      ],
      "metadata": {
        "colab": {
          "base_uri": "https://localhost:8080/",
          "height": 326
        },
        "id": "bONia4whIw24",
        "outputId": "b1b40d87-7f34-4b8a-9e3b-56888c2a2aaf"
      },
      "execution_count": 28,
      "outputs": [
        {
          "output_type": "stream",
          "name": "stdout",
          "text": [
            "Remember that the time coordinate must be the first coordinate.\n",
            "Function Phi(r) is already defined\n",
            "Function b(r) is already defined\n",
            "The metric has already been defined. Do you want to overwrite it? (yes/no)yes\n",
            "The metric has been redefined. Standard tensors have been deleted.\n",
            "\n",
            "Dimension = 4\n",
            "Coordinates = t,r,theta,phi\n",
            "Metric defined successfully: \n",
            "\n"
          ]
        },
        {
          "output_type": "display_data",
          "data": {
            "text/plain": [
              "<IPython.core.display.Math object>"
            ],
            "text/latex": "$\\displaystyle ds^2 = e^{2 \\Phi{\\left(r \\right)}} \\cdot dt^2- \\frac{1}{1 - \\frac{b{\\left(r \\right)}}{r}} \\cdot dr^2- r^{2} \\cdot d\\theta^2- r^{2} \\sin^{2}{\\left(\\theta \\right)} \\cdot d\\phi^2$"
          },
          "metadata": {}
        },
        {
          "output_type": "display_data",
          "data": {
            "text/plain": [
              "⎡ 2⋅Φ(r)                            ⎤\n",
              "⎢ℯ           0       0        0     ⎥\n",
              "⎢                                   ⎥\n",
              "⎢           -1                      ⎥\n",
              "⎢   0     ────────   0        0     ⎥\n",
              "⎢             b(r)                  ⎥\n",
              "⎢         1 - ────                  ⎥\n",
              "⎢              r                    ⎥\n",
              "⎢                                   ⎥\n",
              "⎢                     2             ⎥\n",
              "⎢   0        0      -r        0     ⎥\n",
              "⎢                                   ⎥\n",
              "⎢                          2    2   ⎥\n",
              "⎣   0        0       0   -r ⋅sin (θ)⎦"
            ],
            "text/latex": "$\\displaystyle \\left[\\begin{matrix}e^{2 \\Phi{\\left(r \\right)}} & 0 & 0 & 0\\\\0 & - \\frac{1}{1 - \\frac{b{\\left(r \\right)}}{r}} & 0 & 0\\\\0 & 0 & - r^{2} & 0\\\\0 & 0 & 0 & - r^{2} \\sin^{2}{\\left(\\theta \\right)}\\end{matrix}\\right]$"
          },
          "metadata": {}
        }
      ]
    },
    {
      "cell_type": "code",
      "source": [],
      "metadata": {
        "id": "gndaoWXJ8jaO"
      },
      "execution_count": 21,
      "outputs": []
    },
    {
      "cell_type": "code",
      "source": [],
      "metadata": {
        "id": "FXwQ3BG8D9FG"
      },
      "execution_count": null,
      "outputs": []
    },
    {
      "cell_type": "code",
      "source": [
        "Chr = pt.christoffel()\n",
        "\n",
        "Chr.display()"
      ],
      "metadata": {
        "colab": {
          "base_uri": "https://localhost:8080/",
          "height": 841,
          "referenced_widgets": [
            "77558abe2f044548ba8dfd06c226ef1f",
            "73640272bc82411aa363c7adee7c1eb9",
            "149db8b55c7b43299cd031f73461c2b6",
            "2f772b0593b848e1b065720131120b7c",
            "d2a683f622cd4856b571869220e502cb",
            "1990f254038547bfa8417255ea5ffd10",
            "f114085a2256460389d566c8d6e9410e",
            "dd16b74da97c402c9bcd22405b807a1a",
            "62c9f0a2c5664ed592fab90d1cae30d7",
            "b1e5e8825fb841ac940baa472f69d42d",
            "e458d9c9ab2c4bedb37cb8384d120810"
          ]
        },
        "id": "EThE4SyfI00Y",
        "outputId": "d3326ddb-e212-41c8-b00b-218cccbaa494"
      },
      "execution_count": 29,
      "outputs": [
        {
          "output_type": "display_data",
          "data": {
            "text/plain": [
              "<IPython.core.display.Latex object>"
            ],
            "text/latex": "Christoffel $\\Gamma_{\\alpha \\beta \\gamma}$ and $\\Gamma^{\\alpha}_{\\beta \\gamma}$"
          },
          "metadata": {}
        },
        {
          "output_type": "display_data",
          "data": {
            "text/plain": [
              "  0%|          | 0/64 [00:00<?, ?it/s]"
            ],
            "application/vnd.jupyter.widget-view+json": {
              "version_major": 2,
              "version_minor": 0,
              "model_id": "77558abe2f044548ba8dfd06c226ef1f"
            }
          },
          "metadata": {}
        },
        {
          "output_type": "display_data",
          "data": {
            "text/plain": [
              "<IPython.core.display.Math object>"
            ],
            "text/latex": "$\\displaystyle {\\Gamma}{}_{0}\\,{}_{0}\\,{}_{1}\\, = e^{2 \\Phi{\\left(r \\right)}} \\frac{d}{d r} \\Phi{\\left(r \\right)}$"
          },
          "metadata": {}
        },
        {
          "output_type": "display_data",
          "data": {
            "text/plain": [
              "<IPython.core.display.Math object>"
            ],
            "text/latex": "$\\displaystyle {\\Gamma}{}_{0}\\,{}_{1}\\,{}_{0}\\, = e^{2 \\Phi{\\left(r \\right)}} \\frac{d}{d r} \\Phi{\\left(r \\right)}$"
          },
          "metadata": {}
        },
        {
          "output_type": "display_data",
          "data": {
            "text/plain": [
              "<IPython.core.display.Math object>"
            ],
            "text/latex": "$\\displaystyle {\\Gamma}{}_{1}\\,{}_{0}\\,{}_{0}\\, = - e^{2 \\Phi{\\left(r \\right)}} \\frac{d}{d r} \\Phi{\\left(r \\right)}$"
          },
          "metadata": {}
        },
        {
          "output_type": "display_data",
          "data": {
            "text/plain": [
              "<IPython.core.display.Math object>"
            ],
            "text/latex": "$\\displaystyle {\\Gamma}{}_{1}\\,{}_{1}\\,{}_{1}\\, = - \\frac{r \\frac{d}{d r} b{\\left(r \\right)} - b{\\left(r \\right)}}{2 \\left(r - b{\\left(r \\right)}\\right)^{2}}$"
          },
          "metadata": {}
        },
        {
          "output_type": "display_data",
          "data": {
            "text/plain": [
              "<IPython.core.display.Math object>"
            ],
            "text/latex": "$\\displaystyle {\\Gamma}{}_{1}\\,{}_{2}\\,{}_{2}\\, = r$"
          },
          "metadata": {}
        },
        {
          "output_type": "display_data",
          "data": {
            "text/plain": [
              "<IPython.core.display.Math object>"
            ],
            "text/latex": "$\\displaystyle {\\Gamma}{}_{1}\\,{}_{3}\\,{}_{3}\\, = r \\sin^{2}{\\left(\\theta \\right)}$"
          },
          "metadata": {}
        },
        {
          "output_type": "display_data",
          "data": {
            "text/plain": [
              "<IPython.core.display.Math object>"
            ],
            "text/latex": "$\\displaystyle {\\Gamma}{}_{2}\\,{}_{1}\\,{}_{2}\\, = - r$"
          },
          "metadata": {}
        },
        {
          "output_type": "display_data",
          "data": {
            "text/plain": [
              "<IPython.core.display.Math object>"
            ],
            "text/latex": "$\\displaystyle {\\Gamma}{}_{2}\\,{}_{2}\\,{}_{1}\\, = - r$"
          },
          "metadata": {}
        },
        {
          "output_type": "display_data",
          "data": {
            "text/plain": [
              "<IPython.core.display.Math object>"
            ],
            "text/latex": "$\\displaystyle {\\Gamma}{}_{2}\\,{}_{3}\\,{}_{3}\\, = r^{2} \\sin{\\left(\\theta \\right)} \\cos{\\left(\\theta \\right)}$"
          },
          "metadata": {}
        },
        {
          "output_type": "display_data",
          "data": {
            "text/plain": [
              "<IPython.core.display.Math object>"
            ],
            "text/latex": "$\\displaystyle {\\Gamma}{}_{3}\\,{}_{1}\\,{}_{3}\\, = - r \\sin^{2}{\\left(\\theta \\right)}$"
          },
          "metadata": {}
        },
        {
          "output_type": "display_data",
          "data": {
            "text/plain": [
              "<IPython.core.display.Math object>"
            ],
            "text/latex": "$\\displaystyle {\\Gamma}{}_{3}\\,{}_{2}\\,{}_{3}\\, = - r^{2} \\sin{\\left(\\theta \\right)} \\cos{\\left(\\theta \\right)}$"
          },
          "metadata": {}
        },
        {
          "output_type": "display_data",
          "data": {
            "text/plain": [
              "<IPython.core.display.Math object>"
            ],
            "text/latex": "$\\displaystyle {\\Gamma}{}_{3}\\,{}_{3}\\,{}_{1}\\, = - r \\sin^{2}{\\left(\\theta \\right)}$"
          },
          "metadata": {}
        },
        {
          "output_type": "display_data",
          "data": {
            "text/plain": [
              "<IPython.core.display.Math object>"
            ],
            "text/latex": "$\\displaystyle {\\Gamma}{}_{3}\\,{}_{3}\\,{}_{2}\\, = - r^{2} \\sin{\\left(\\theta \\right)} \\cos{\\left(\\theta \\right)}$"
          },
          "metadata": {}
        },
        {
          "output_type": "display_data",
          "data": {
            "text/plain": [
              "<IPython.core.display.Math object>"
            ],
            "text/latex": "$\\displaystyle {\\Gamma}{}^{0}\\,{}_{0}\\,{}_{1}\\, = \\frac{d}{d r} \\Phi{\\left(r \\right)}$"
          },
          "metadata": {}
        },
        {
          "output_type": "display_data",
          "data": {
            "text/plain": [
              "<IPython.core.display.Math object>"
            ],
            "text/latex": "$\\displaystyle {\\Gamma}{}^{0}\\,{}_{1}\\,{}_{0}\\, = \\frac{d}{d r} \\Phi{\\left(r \\right)}$"
          },
          "metadata": {}
        },
        {
          "output_type": "display_data",
          "data": {
            "text/plain": [
              "<IPython.core.display.Math object>"
            ],
            "text/latex": "$\\displaystyle {\\Gamma}{}^{1}\\,{}_{0}\\,{}_{0}\\, = \\frac{\\left(r - b{\\left(r \\right)}\\right) e^{2 \\Phi{\\left(r \\right)}} \\frac{d}{d r} \\Phi{\\left(r \\right)}}{r}$"
          },
          "metadata": {}
        },
        {
          "output_type": "display_data",
          "data": {
            "text/plain": [
              "<IPython.core.display.Math object>"
            ],
            "text/latex": "$\\displaystyle {\\Gamma}{}^{1}\\,{}_{1}\\,{}_{1}\\, = \\frac{r \\frac{d}{d r} b{\\left(r \\right)} - b{\\left(r \\right)}}{2 r \\left(r - b{\\left(r \\right)}\\right)}$"
          },
          "metadata": {}
        },
        {
          "output_type": "display_data",
          "data": {
            "text/plain": [
              "<IPython.core.display.Math object>"
            ],
            "text/latex": "$\\displaystyle {\\Gamma}{}^{1}\\,{}_{2}\\,{}_{2}\\, = - r + b{\\left(r \\right)}$"
          },
          "metadata": {}
        },
        {
          "output_type": "display_data",
          "data": {
            "text/plain": [
              "<IPython.core.display.Math object>"
            ],
            "text/latex": "$\\displaystyle {\\Gamma}{}^{1}\\,{}_{3}\\,{}_{3}\\, = - \\left(r - b{\\left(r \\right)}\\right) \\sin^{2}{\\left(\\theta \\right)}$"
          },
          "metadata": {}
        },
        {
          "output_type": "display_data",
          "data": {
            "text/plain": [
              "<IPython.core.display.Math object>"
            ],
            "text/latex": "$\\displaystyle {\\Gamma}{}^{2}\\,{}_{1}\\,{}_{2}\\, = \\frac{1}{r}$"
          },
          "metadata": {}
        },
        {
          "output_type": "display_data",
          "data": {
            "text/plain": [
              "<IPython.core.display.Math object>"
            ],
            "text/latex": "$\\displaystyle {\\Gamma}{}^{2}\\,{}_{2}\\,{}_{1}\\, = \\frac{1}{r}$"
          },
          "metadata": {}
        },
        {
          "output_type": "display_data",
          "data": {
            "text/plain": [
              "<IPython.core.display.Math object>"
            ],
            "text/latex": "$\\displaystyle {\\Gamma}{}^{2}\\,{}_{3}\\,{}_{3}\\, = - \\sin{\\left(\\theta \\right)} \\cos{\\left(\\theta \\right)}$"
          },
          "metadata": {}
        },
        {
          "output_type": "display_data",
          "data": {
            "text/plain": [
              "<IPython.core.display.Math object>"
            ],
            "text/latex": "$\\displaystyle {\\Gamma}{}^{3}\\,{}_{1}\\,{}_{3}\\, = \\frac{1}{r}$"
          },
          "metadata": {}
        },
        {
          "output_type": "display_data",
          "data": {
            "text/plain": [
              "<IPython.core.display.Math object>"
            ],
            "text/latex": "$\\displaystyle {\\Gamma}{}^{3}\\,{}_{2}\\,{}_{3}\\, = \\frac{\\cos{\\left(\\theta \\right)}}{\\sin{\\left(\\theta \\right)}}$"
          },
          "metadata": {}
        },
        {
          "output_type": "display_data",
          "data": {
            "text/plain": [
              "<IPython.core.display.Math object>"
            ],
            "text/latex": "$\\displaystyle {\\Gamma}{}^{3}\\,{}_{3}\\,{}_{1}\\, = \\frac{1}{r}$"
          },
          "metadata": {}
        },
        {
          "output_type": "display_data",
          "data": {
            "text/plain": [
              "<IPython.core.display.Math object>"
            ],
            "text/latex": "$\\displaystyle {\\Gamma}{}^{3}\\,{}_{3}\\,{}_{2}\\, = \\frac{\\cos{\\left(\\theta \\right)}}{\\sin{\\left(\\theta \\right)}}$"
          },
          "metadata": {}
        }
      ]
    },
    {
      "cell_type": "code",
      "source": [
        "# To calculate the default combination of the Ricci Tensor, i.e., (_,_):\n",
        "Ric = pt.ricci()\n",
        "\n",
        "# To calculate all the combinations:\n",
        "# Ric = pt.ricci(All = True)\n",
        "\n",
        "# To calculate the Ricci Scalar:\n",
        "RicS = pt.riccis()"
      ],
      "metadata": {
        "colab": {
          "base_uri": "https://localhost:8080/",
          "height": 165,
          "referenced_widgets": [
            "191b68379b6c44b59eedd774036d1204",
            "571deb86facf416e9fcbc15a59814820",
            "71e3dbc4f00642789b6a50232e129c75",
            "fec1f8f525104d5baa1c0c8443682b9f",
            "0c4d351774bd49be862627f332498051",
            "4502add4ebcc4874b39561d7c55871e4",
            "4a0927699e8a422cb57d9f567fbb8954",
            "45e1f4fdff64438293092d446fa9bb5f",
            "602909c057824771adcb463cbd07a5d3",
            "2774f7fe0c094141bc7888b84e7b2637",
            "185e70e360854df9a28fb70de5f308c6",
            "dd40ce8c91924fe7b93b3621ac204b10",
            "11707a1d72ba42bb9ad550c23b25fc00",
            "4abf6deb70ca4713a4862a40a38a6388",
            "6c1804c0e0a84ec7b76dc0a003f464da",
            "23124728e42f4bb4a2cd735cf92852bb",
            "47b318bf2dee40bdbc38c83ec43f08ff",
            "f61415dea2324f3287d436410b409b1d",
            "7a4b18d309784dcbaf19aaedaf70ec0a",
            "4fd9fe2165654d72a5c8174cd71d9412",
            "fcebf1c220d04962852871d11165df75",
            "983d563d47a54c4ca0b4c890a6dd6325",
            "3f6b3a3263134309911dc762634ab8c5",
            "0976e009a90b484f933fb24c9ffe6333",
            "e87254513d4a469580f46fad2fbac24f",
            "863c18a282064818889f93a8b9d0e24f",
            "1cec512aa9be419a88ebf210d5a41c4b",
            "08f04a74bb3e41ec931d825a383de881",
            "637d2b7055d242c59e12049ed0f5355d",
            "9633b064b48e4f019bdf4036b7f452e5",
            "f16c0aa0372442e6b6ffb57d1ed1541b",
            "3cd34ce2c3ed46519d78d6aa23447fc2",
            "64b18c110d0841c7b893e1091d2139c8"
          ]
        },
        "id": "mE0-oQugI4Sb",
        "outputId": "3dcf5bbd-5e8b-4e4b-e7f5-33770de40fb9"
      },
      "execution_count": 30,
      "outputs": [
        {
          "output_type": "display_data",
          "data": {
            "text/plain": [
              "<IPython.core.display.Latex object>"
            ],
            "text/latex": "Riemann Tensor $R^{\\alpha}_{\\beta \\gamma \\delta}$"
          },
          "metadata": {}
        },
        {
          "output_type": "display_data",
          "data": {
            "text/plain": [
              "  0%|          | 0/256 [00:00<?, ?it/s]"
            ],
            "application/vnd.jupyter.widget-view+json": {
              "version_major": 2,
              "version_minor": 0,
              "model_id": "191b68379b6c44b59eedd774036d1204"
            }
          },
          "metadata": {}
        },
        {
          "output_type": "display_data",
          "data": {
            "text/plain": [
              "<IPython.core.display.Latex object>"
            ],
            "text/latex": "Ricci Tensor $R_{\\alpha \\beta}$"
          },
          "metadata": {}
        },
        {
          "output_type": "display_data",
          "data": {
            "text/plain": [
              "  0%|          | 0/16 [00:00<?, ?it/s]"
            ],
            "application/vnd.jupyter.widget-view+json": {
              "version_major": 2,
              "version_minor": 0,
              "model_id": "dd40ce8c91924fe7b93b3621ac204b10"
            }
          },
          "metadata": {}
        },
        {
          "output_type": "display_data",
          "data": {
            "text/plain": [
              "  0%|          | 0/16 [00:00<?, ?it/s]"
            ],
            "application/vnd.jupyter.widget-view+json": {
              "version_major": 2,
              "version_minor": 0,
              "model_id": "3f6b3a3263134309911dc762634ab8c5"
            }
          },
          "metadata": {}
        },
        {
          "output_type": "display_data",
          "data": {
            "text/plain": [
              "<IPython.core.display.Latex object>"
            ],
            "text/latex": "Ricci Scalar $R$"
          },
          "metadata": {}
        }
      ]
    },
    {
      "cell_type": "code",
      "source": [
        "# To display the Ricci Tensor (by default it displays the tensor with all lower indices):\n",
        "Ric.display()\n",
        "\n",
        "# To display the Ricci Scalar:\n",
        "pt.display(RicS)"
      ],
      "metadata": {
        "colab": {
          "base_uri": "https://localhost:8080/",
          "height": 179
        },
        "id": "ydRmBJ7BJJ7u",
        "outputId": "06295e45-937a-4ca1-c295-8b29d6c7ef13"
      },
      "execution_count": 31,
      "outputs": [
        {
          "output_type": "display_data",
          "data": {
            "text/plain": [
              "⎡⎛               2         2                             2             2       ↪\n",
              "⎢⎜   2 ⎛d       ⎞       2 d                    ⎛d       ⎞             d        ↪\n",
              "⎢⎜2⋅r ⋅⎜──(Φ(r))⎟  + 2⋅r ⋅───(Φ(r)) - 2⋅r⋅b(r)⋅⎜──(Φ(r))⎟  - 2⋅r⋅b(r)⋅───(Φ(r) ↪\n",
              "⎢⎜     ⎝dr      ⎠           2                  ⎝dr      ⎠               2      ↪\n",
              "⎢⎝                        dr                                          dr       ↪\n",
              "⎢───────────────────────────────────────────────────────────────────────────── ↪\n",
              "⎢                                                                        2     ↪\n",
              "⎢                                                                     2⋅r      ↪\n",
              "⎢                                                                              ↪\n",
              "⎢                                                                              ↪\n",
              "⎢                                                                              ↪\n",
              "⎢                                                                              ↪\n",
              "⎢                                                                              ↪\n",
              "⎢                                                                              ↪\n",
              "⎢                                                                      0       ↪\n",
              "⎢                                                                              ↪\n",
              "⎢                                                                              ↪\n",
              "⎢                                                                              ↪\n",
              "⎢                                                                              ↪\n",
              "⎢                                                                              ↪\n",
              "⎢                                                                              ↪\n",
              "⎢                                                                      0       ↪\n",
              "⎢                                                                              ↪\n",
              "⎢                                                                              ↪\n",
              "⎢                                                                              ↪\n",
              "⎢                                                                              ↪\n",
              "⎢                                                                              ↪\n",
              "⎢                                                                      0       ↪\n",
              "⎣                                                                              ↪\n",
              "\n",
              "↪                                                         ⎞                    ↪\n",
              "↪       d        d              d                 d       ⎟  2⋅Φ(r)            ↪\n",
              "↪ ) - r⋅──(Φ(r))⋅──(b(r)) + 4⋅r⋅──(Φ(r)) - 3⋅b(r)⋅──(Φ(r))⎟⋅ℯ                  ↪\n",
              "↪       dr       dr             dr                dr      ⎟                    ↪\n",
              "↪                                                         ⎠                    ↪\n",
              "↪ ─────────────────────────────────────────────────────────────────            ↪\n",
              "↪                                                                              ↪\n",
              "↪                                                                              ↪\n",
              "↪                                                                              ↪\n",
              "↪                                                                     ⎛        ↪\n",
              "↪                                                                     ⎜   3 ⎛d ↪\n",
              "↪                                                                    -⎜2⋅r ⋅⎜─ ↪\n",
              "↪                                                                     ⎜     ⎝d ↪\n",
              "↪                                                                     ⎝        ↪\n",
              "↪                                                                    ───────── ↪\n",
              "↪                                                                              ↪\n",
              "↪                                                                              ↪\n",
              "↪                                                                              ↪\n",
              "↪                                                                              ↪\n",
              "↪                                                                              ↪\n",
              "↪                                                                              ↪\n",
              "↪                                                                              ↪\n",
              "↪                                                                              ↪\n",
              "↪                                                                              ↪\n",
              "↪                                                                              ↪\n",
              "↪                                                                              ↪\n",
              "↪                                                                              ↪\n",
              "↪                                                                              ↪\n",
              "↪                                                                              ↪\n",
              "\n",
              "↪                                                                              ↪\n",
              "↪                                                                              ↪\n",
              "↪                                                                              ↪\n",
              "↪                                                                              ↪\n",
              "↪                                                                              ↪\n",
              "↪                                                                 0            ↪\n",
              "↪                                                                              ↪\n",
              "↪                                                                              ↪\n",
              "↪                                                                              ↪\n",
              "↪         2         2                              2              2            ↪\n",
              "↪        ⎞       3 d              2      ⎛d       ⎞       2      d             ↪\n",
              "↪ ─(Φ(r))⎟  + 2⋅r ⋅───(Φ(r)) - 2⋅r ⋅b(r)⋅⎜──(Φ(r))⎟  - 2⋅r ⋅b(r)⋅───(Φ(r)) - r ↪\n",
              "↪ r      ⎠           2                   ⎝dr      ⎠                2           ↪\n",
              "↪                  dr                                            dr            ↪\n",
              "↪ ──────────────────────────────────────────────────────────────────────────── ↪\n",
              "↪                                                             2                ↪\n",
              "↪                                                          2⋅r ⋅(r - b(r))     ↪\n",
              "↪                                                                              ↪\n",
              "↪                                                                              ↪\n",
              "↪                                                                              ↪\n",
              "↪                                                                              ↪\n",
              "↪                                                                 0            ↪\n",
              "↪                                                                              ↪\n",
              "↪                                                                              ↪\n",
              "↪                                                                              ↪\n",
              "↪                                                                              ↪\n",
              "↪                                                                              ↪\n",
              "↪                                                                 0            ↪\n",
              "↪                                                                              ↪\n",
              "\n",
              "↪                                                                              ↪\n",
              "↪                                                                              ↪\n",
              "↪                                                                              ↪\n",
              "↪                                                                              ↪\n",
              "↪                                                                              ↪\n",
              "↪                                                                              ↪\n",
              "↪                                                                              ↪\n",
              "↪                                                                              ↪\n",
              "↪                                                                              ↪\n",
              "↪                                                              ⎞               ↪\n",
              "↪ 2 d        d                 d              d                ⎟               ↪\n",
              "↪  ⋅──(Φ(r))⋅──(b(r)) + r⋅b(r)⋅──(Φ(r)) - 2⋅r⋅──(b(r)) + 2⋅b(r)⎟               ↪\n",
              "↪   dr       dr                dr             dr               ⎟               ↪\n",
              "↪                                                              ⎠               ↪\n",
              "↪ ───────────────────────────────────────────────────────────────              ↪\n",
              "↪                                                                              ↪\n",
              "↪                                                                              ↪\n",
              "↪                                                                              ↪\n",
              "↪                                                                   ⎛   2 d    ↪\n",
              "↪                                                                  -⎜2⋅r ⋅──(Φ ↪\n",
              "↪                                                                   ⎝     dr   ↪\n",
              "↪                                                                  ─────────── ↪\n",
              "↪                                                                              ↪\n",
              "↪                                                                              ↪\n",
              "↪                                                                              ↪\n",
              "↪                                                                              ↪\n",
              "↪                                                                              ↪\n",
              "↪                                                                              ↪\n",
              "↪                                                                              ↪\n",
              "\n",
              "↪                                                                              ↪\n",
              "↪                                                                              ↪\n",
              "↪                                                                              ↪\n",
              "↪                                                                              ↪\n",
              "↪                                                                              ↪\n",
              "↪                  0                                                           ↪\n",
              "↪                                                                              ↪\n",
              "↪                                                                              ↪\n",
              "↪                                                                              ↪\n",
              "↪                                                                              ↪\n",
              "↪                                                                              ↪\n",
              "↪                                                                              ↪\n",
              "↪                                                                              ↪\n",
              "↪                                                                              ↪\n",
              "↪                  0                                                           ↪\n",
              "↪                                                                              ↪\n",
              "↪                                                                              ↪\n",
              "↪                                                                              ↪\n",
              "↪                 d            d              ⎞                                ↪\n",
              "↪ (r)) - 2⋅r⋅b(r)⋅──(Φ(r)) - r⋅──(b(r)) - b(r)⎟                                ↪\n",
              "↪                 dr           dr             ⎠                                ↪\n",
              "↪ ──────────────────────────────────────────────                               ↪\n",
              "↪                 2⋅r                                                          ↪\n",
              "↪                                                                              ↪\n",
              "↪                                                  ⎛   2 d                   d ↪\n",
              "↪                                                 -⎜2⋅r ⋅──(Φ(r)) - 2⋅r⋅b(r)⋅─ ↪\n",
              "↪                                                  ⎝     dr                  d ↪\n",
              "↪                  0                              ──────────────────────────── ↪\n",
              "↪                                                                              ↪\n",
              "\n",
              "↪                                      ⎤\n",
              "↪                                      ⎥\n",
              "↪                                      ⎥\n",
              "↪                                      ⎥\n",
              "↪                                      ⎥\n",
              "↪     0                                ⎥\n",
              "↪                                      ⎥\n",
              "↪                                      ⎥\n",
              "↪                                      ⎥\n",
              "↪                                      ⎥\n",
              "↪                                      ⎥\n",
              "↪                                      ⎥\n",
              "↪                                      ⎥\n",
              "↪                                      ⎥\n",
              "↪     0                                ⎥\n",
              "↪                                      ⎥\n",
              "↪                                      ⎥\n",
              "↪                                      ⎥\n",
              "↪                                      ⎥\n",
              "↪                                      ⎥\n",
              "↪                                      ⎥\n",
              "↪     0                                ⎥\n",
              "↪                                      ⎥\n",
              "↪                                      ⎥\n",
              "↪             d              ⎞    2    ⎥\n",
              "↪ ─(Φ(r)) - r⋅──(b(r)) - b(r)⎟⋅sin (θ) ⎥\n",
              "↪ r           dr             ⎠         ⎥\n",
              "↪ ─────────────────────────────────────⎥\n",
              "↪    2⋅r                               ⎦"
            ],
            "text/latex": "$\\displaystyle \\left[\\begin{matrix}\\frac{\\left(2 r^{2} \\left(\\frac{d}{d r} \\Phi{\\left(r \\right)}\\right)^{2} + 2 r^{2} \\frac{d^{2}}{d r^{2}} \\Phi{\\left(r \\right)} - 2 r b{\\left(r \\right)} \\left(\\frac{d}{d r} \\Phi{\\left(r \\right)}\\right)^{2} - 2 r b{\\left(r \\right)} \\frac{d^{2}}{d r^{2}} \\Phi{\\left(r \\right)} - r \\frac{d}{d r} \\Phi{\\left(r \\right)} \\frac{d}{d r} b{\\left(r \\right)} + 4 r \\frac{d}{d r} \\Phi{\\left(r \\right)} - 3 b{\\left(r \\right)} \\frac{d}{d r} \\Phi{\\left(r \\right)}\\right) e^{2 \\Phi{\\left(r \\right)}}}{2 r^{2}} & 0 & 0 & 0\\\\0 & - \\frac{2 r^{3} \\left(\\frac{d}{d r} \\Phi{\\left(r \\right)}\\right)^{2} + 2 r^{3} \\frac{d^{2}}{d r^{2}} \\Phi{\\left(r \\right)} - 2 r^{2} b{\\left(r \\right)} \\left(\\frac{d}{d r} \\Phi{\\left(r \\right)}\\right)^{2} - 2 r^{2} b{\\left(r \\right)} \\frac{d^{2}}{d r^{2}} \\Phi{\\left(r \\right)} - r^{2} \\frac{d}{d r} \\Phi{\\left(r \\right)} \\frac{d}{d r} b{\\left(r \\right)} + r b{\\left(r \\right)} \\frac{d}{d r} \\Phi{\\left(r \\right)} - 2 r \\frac{d}{d r} b{\\left(r \\right)} + 2 b{\\left(r \\right)}}{2 r^{2} \\left(r - b{\\left(r \\right)}\\right)} & 0 & 0\\\\0 & 0 & - \\frac{2 r^{2} \\frac{d}{d r} \\Phi{\\left(r \\right)} - 2 r b{\\left(r \\right)} \\frac{d}{d r} \\Phi{\\left(r \\right)} - r \\frac{d}{d r} b{\\left(r \\right)} - b{\\left(r \\right)}}{2 r} & 0\\\\0 & 0 & 0 & - \\frac{\\left(2 r^{2} \\frac{d}{d r} \\Phi{\\left(r \\right)} - 2 r b{\\left(r \\right)} \\frac{d}{d r} \\Phi{\\left(r \\right)} - r \\frac{d}{d r} b{\\left(r \\right)} - b{\\left(r \\right)}\\right) \\sin^{2}{\\left(\\theta \\right)}}{2 r}\\end{matrix}\\right]$"
          },
          "metadata": {}
        },
        {
          "output_type": "display_data",
          "data": {
            "text/plain": [
              "<IPython.core.display.Math object>"
            ],
            "text/latex": "$\\displaystyle \\frac{2 r^{2} \\left(\\frac{d}{d r} \\Phi{\\left(r \\right)}\\right)^{2} + 2 r^{2} \\frac{d^{2}}{d r^{2}} \\Phi{\\left(r \\right)} - 2 r b{\\left(r \\right)} \\left(\\frac{d}{d r} \\Phi{\\left(r \\right)}\\right)^{2} - 2 r b{\\left(r \\right)} \\frac{d^{2}}{d r^{2}} \\Phi{\\left(r \\right)} - r \\frac{d}{d r} \\Phi{\\left(r \\right)} \\frac{d}{d r} b{\\left(r \\right)} + 4 r \\frac{d}{d r} \\Phi{\\left(r \\right)} - 3 b{\\left(r \\right)} \\frac{d}{d r} \\Phi{\\left(r \\right)} - 2 \\frac{d}{d r} b{\\left(r \\right)}}{r^{2}}$"
          },
          "metadata": {}
        }
      ]
    },
    {
      "cell_type": "code",
      "source": [
        "# To calculate the default combination of the Einstein Tensor, i.e., (_,_):\n",
        "G = pt.einstein()\n",
        "\n",
        "# To calculate all the combinations:\n",
        "# G = pt.einstein(All = True)\n",
        "\n",
        "# To display the Einstein Tensor:\n",
        "G.display()\n",
        "\n",
        "# To show the tensor components as a list:\n",
        "# G.display(aslist = True)"
      ],
      "metadata": {
        "colab": {
          "base_uri": "https://localhost:8080/",
          "height": 184,
          "referenced_widgets": [
            "0b373c37bbfa42a5a581a41ce12ef75d",
            "f400a97351b94d02be4b815d74b4cd5f",
            "b68eb2024e8341bda43ab87a9a63abd7",
            "b5d1f087d5fe4f08ab44bd656099f9bc",
            "4596f3592cdb42ac8147af07b1c4d6df",
            "7f906cd50bdb44e6b5f98499bc5b1bd0",
            "cd67e293585740868e267d4f62b189e9",
            "14062834414343998b910e4cb1f5c91e",
            "94051c1b5d0e40b1ba29881eab0350d3",
            "792d144014db4264b17437efaa46dffb",
            "0546c2e625ca408f9c2d3e7ce932cbc8"
          ]
        },
        "id": "j9XrDowIJblZ",
        "outputId": "7acfcd8e-6d35-4dde-d7d7-bbfcf54ffa26"
      },
      "execution_count": 32,
      "outputs": [
        {
          "output_type": "display_data",
          "data": {
            "text/plain": [
              "<IPython.core.display.Latex object>"
            ],
            "text/latex": "Einstein Tensor $G_{\\alpha \\beta}$"
          },
          "metadata": {}
        },
        {
          "output_type": "display_data",
          "data": {
            "text/plain": [
              "  0%|          | 0/16 [00:00<?, ?it/s]"
            ],
            "application/vnd.jupyter.widget-view+json": {
              "version_major": 2,
              "version_minor": 0,
              "model_id": "0b373c37bbfa42a5a581a41ce12ef75d"
            }
          },
          "metadata": {}
        },
        {
          "output_type": "display_data",
          "data": {
            "text/plain": [
              "⎡ 2⋅Φ(r) d                                                                     ↪\n",
              "⎢ℯ      ⋅──(b(r))                                                              ↪\n",
              "⎢        dr                                                                    ↪\n",
              "⎢────────────────                     0                                        ↪\n",
              "⎢        2                                                                     ↪\n",
              "⎢       r                                                                      ↪\n",
              "⎢                                                                              ↪\n",
              "⎢                     2 d                   d                                  ↪\n",
              "⎢                  2⋅r ⋅──(Φ(r)) - 2⋅r⋅b(r)⋅──(Φ(r)) - b(r)                    ↪\n",
              "⎢                       dr                  dr                                 ↪\n",
              "⎢       0          ────────────────────────────────────────                    ↪\n",
              "⎢                                2                                             ↪\n",
              "⎢                               r ⋅(r - b(r))                                  ↪\n",
              "⎢                                                                              ↪\n",
              "⎢                                                                           2  ↪\n",
              "⎢                                                               3 ⎛d       ⎞   ↪\n",
              "⎢                                                            2⋅r ⋅⎜──(Φ(r))⎟   ↪\n",
              "⎢                                                                 ⎝dr      ⎠   ↪\n",
              "⎢                                                                              ↪\n",
              "⎢       0                             0                      ───────────────── ↪\n",
              "⎢                                                                              ↪\n",
              "⎢                                                                              ↪\n",
              "⎢                                                                              ↪\n",
              "⎢                                                                              ↪\n",
              "⎢                                                                              ↪\n",
              "⎢                                                                              ↪\n",
              "⎢                                                                              ↪\n",
              "⎢       0                             0                                        ↪\n",
              "⎣                                                                              ↪\n",
              "\n",
              "↪                                                                              ↪\n",
              "↪                                                                              ↪\n",
              "↪                                                                              ↪\n",
              "↪                                                             0                ↪\n",
              "↪                                                                              ↪\n",
              "↪                                                                              ↪\n",
              "↪                                                                              ↪\n",
              "↪                                                                              ↪\n",
              "↪                                                                              ↪\n",
              "↪                                                                              ↪\n",
              "↪                                                             0                ↪\n",
              "↪                                                                              ↪\n",
              "↪                                                                              ↪\n",
              "↪                                                                              ↪\n",
              "↪         2                              2              2                      ↪\n",
              "↪      3 d              2      ⎛d       ⎞       2      d            2 d        ↪\n",
              "↪ + 2⋅r ⋅───(Φ(r)) - 2⋅r ⋅b(r)⋅⎜──(Φ(r))⎟  - 2⋅r ⋅b(r)⋅───(Φ(r)) - r ⋅──(Φ(r)) ↪\n",
              "↪          2                   ⎝dr      ⎠                2            dr       ↪\n",
              "↪        dr                                            dr                      ↪\n",
              "↪ ──────────────────────────────────────────────────────────────────────────── ↪\n",
              "↪                                                            2⋅r               ↪\n",
              "↪                                                                              ↪\n",
              "↪                                                                              ↪\n",
              "↪                                                                              ↪\n",
              "↪                                                                              ↪\n",
              "↪                                                                              ↪\n",
              "↪                                                                              ↪\n",
              "↪                                                             0                ↪\n",
              "↪                                                                              ↪\n",
              "\n",
              "↪                                                                              ↪\n",
              "↪                                                                              ↪\n",
              "↪                                                                              ↪\n",
              "↪                                                                              ↪\n",
              "↪                                                                              ↪\n",
              "↪                                                                              ↪\n",
              "↪                                                                              ↪\n",
              "↪                                                                              ↪\n",
              "↪                                                                              ↪\n",
              "↪                                                                              ↪\n",
              "↪                                                                              ↪\n",
              "↪                                                                              ↪\n",
              "↪                                                                              ↪\n",
              "↪                                                                              ↪\n",
              "↪                                                                              ↪\n",
              "↪  d             2 d                 d            d                            ↪\n",
              "↪ ⋅──(b(r)) + 2⋅r ⋅──(Φ(r)) - r⋅b(r)⋅──(Φ(r)) - r⋅──(b(r)) + b(r)              ↪\n",
              "↪  dr              dr                dr           dr                           ↪\n",
              "↪                                                                              ↪\n",
              "↪ ───────────────────────────────────────────────────────────────              ↪\n",
              "↪                                                                              ↪\n",
              "↪                                                                              ↪\n",
              "↪                                                                  ⎛           ↪\n",
              "↪                                                                  ⎜   3 ⎛d    ↪\n",
              "↪                                                                  ⎜2⋅r ⋅⎜──(Φ ↪\n",
              "↪                                                                  ⎜     ⎝dr   ↪\n",
              "↪                                                                  ⎝           ↪\n",
              "↪                                                                  ─────────── ↪\n",
              "↪                                                                              ↪\n",
              "\n",
              "↪                                                                              ↪\n",
              "↪                                                                              ↪\n",
              "↪                                                                              ↪\n",
              "↪                                                                        0     ↪\n",
              "↪                                                                              ↪\n",
              "↪                                                                              ↪\n",
              "↪                                                                              ↪\n",
              "↪                                                                              ↪\n",
              "↪                                                                              ↪\n",
              "↪                                                                              ↪\n",
              "↪                                                                        0     ↪\n",
              "↪                                                                              ↪\n",
              "↪                                                                              ↪\n",
              "↪                                                                              ↪\n",
              "↪                                                                              ↪\n",
              "↪                                                                              ↪\n",
              "↪                                                                              ↪\n",
              "↪                                                                              ↪\n",
              "↪                                                                              ↪\n",
              "↪                                                                        0     ↪\n",
              "↪                                                                              ↪\n",
              "↪                                                                              ↪\n",
              "↪      2         2                              2              2               ↪\n",
              "↪     ⎞       3 d              2      ⎛d       ⎞       2      d            2 d ↪\n",
              "↪ (r))⎟  + 2⋅r ⋅───(Φ(r)) - 2⋅r ⋅b(r)⋅⎜──(Φ(r))⎟  - 2⋅r ⋅b(r)⋅───(Φ(r)) - r ⋅─ ↪\n",
              "↪     ⎠           2                   ⎝dr      ⎠                2            d ↪\n",
              "↪               dr                                            dr               ↪\n",
              "↪ ──────────────────────────────────────────────────────────────────────────── ↪\n",
              "↪                                                                       2⋅r    ↪\n",
              "\n",
              "↪                                                                              ↪\n",
              "↪                                                                              ↪\n",
              "↪                                                                              ↪\n",
              "↪                                                                              ↪\n",
              "↪                                                                              ↪\n",
              "↪                                                                              ↪\n",
              "↪                                                                              ↪\n",
              "↪                                                                              ↪\n",
              "↪                                                                              ↪\n",
              "↪                                                                              ↪\n",
              "↪                                                                              ↪\n",
              "↪                                                                              ↪\n",
              "↪                                                                              ↪\n",
              "↪                                                                              ↪\n",
              "↪                                                                              ↪\n",
              "↪                                                                              ↪\n",
              "↪                                                                              ↪\n",
              "↪                                                                              ↪\n",
              "↪                                                                              ↪\n",
              "↪                                                                              ↪\n",
              "↪                                                                              ↪\n",
              "↪                                                                              ↪\n",
              "↪                                                                       ⎞      ↪\n",
              "↪         d             2 d                 d            d              ⎟    2 ↪\n",
              "↪ ─(Φ(r))⋅──(b(r)) + 2⋅r ⋅──(Φ(r)) - r⋅b(r)⋅──(Φ(r)) - r⋅──(b(r)) + b(r)⎟⋅sin  ↪\n",
              "↪ r       dr              dr                dr           dr             ⎟      ↪\n",
              "↪                                                                       ⎠      ↪\n",
              "↪ ──────────────────────────────────────────────────────────────────────────── ↪\n",
              "↪                                                                              ↪\n",
              "\n",
              "↪    ⎤\n",
              "↪    ⎥\n",
              "↪    ⎥\n",
              "↪    ⎥\n",
              "↪    ⎥\n",
              "↪    ⎥\n",
              "↪    ⎥\n",
              "↪    ⎥\n",
              "↪    ⎥\n",
              "↪    ⎥\n",
              "↪    ⎥\n",
              "↪    ⎥\n",
              "↪    ⎥\n",
              "↪    ⎥\n",
              "↪    ⎥\n",
              "↪    ⎥\n",
              "↪    ⎥\n",
              "↪    ⎥\n",
              "↪    ⎥\n",
              "↪    ⎥\n",
              "↪    ⎥\n",
              "↪    ⎥\n",
              "↪    ⎥\n",
              "↪    ⎥\n",
              "↪ (θ)⎥\n",
              "↪    ⎥\n",
              "↪    ⎥\n",
              "↪ ───⎥\n",
              "↪    ⎦"
            ],
            "text/latex": "$\\displaystyle \\left[\\begin{matrix}\\frac{e^{2 \\Phi{\\left(r \\right)}} \\frac{d}{d r} b{\\left(r \\right)}}{r^{2}} & 0 & 0 & 0\\\\0 & \\frac{2 r^{2} \\frac{d}{d r} \\Phi{\\left(r \\right)} - 2 r b{\\left(r \\right)} \\frac{d}{d r} \\Phi{\\left(r \\right)} - b{\\left(r \\right)}}{r^{2} \\left(r - b{\\left(r \\right)}\\right)} & 0 & 0\\\\0 & 0 & \\frac{2 r^{3} \\left(\\frac{d}{d r} \\Phi{\\left(r \\right)}\\right)^{2} + 2 r^{3} \\frac{d^{2}}{d r^{2}} \\Phi{\\left(r \\right)} - 2 r^{2} b{\\left(r \\right)} \\left(\\frac{d}{d r} \\Phi{\\left(r \\right)}\\right)^{2} - 2 r^{2} b{\\left(r \\right)} \\frac{d^{2}}{d r^{2}} \\Phi{\\left(r \\right)} - r^{2} \\frac{d}{d r} \\Phi{\\left(r \\right)} \\frac{d}{d r} b{\\left(r \\right)} + 2 r^{2} \\frac{d}{d r} \\Phi{\\left(r \\right)} - r b{\\left(r \\right)} \\frac{d}{d r} \\Phi{\\left(r \\right)} - r \\frac{d}{d r} b{\\left(r \\right)} + b{\\left(r \\right)}}{2 r} & 0\\\\0 & 0 & 0 & \\frac{\\left(2 r^{3} \\left(\\frac{d}{d r} \\Phi{\\left(r \\right)}\\right)^{2} + 2 r^{3} \\frac{d^{2}}{d r^{2}} \\Phi{\\left(r \\right)} - 2 r^{2} b{\\left(r \\right)} \\left(\\frac{d}{d r} \\Phi{\\left(r \\right)}\\right)^{2} - 2 r^{2} b{\\left(r \\right)} \\frac{d^{2}}{d r^{2}} \\Phi{\\left(r \\right)} - r^{2} \\frac{d}{d r} \\Phi{\\left(r \\right)} \\frac{d}{d r} b{\\left(r \\right)} + 2 r^{2} \\frac{d}{d r} \\Phi{\\left(r \\right)} - r b{\\left(r \\right)} \\frac{d}{d r} \\Phi{\\left(r \\right)} - r \\frac{d}{d r} b{\\left(r \\right)} + b{\\left(r \\right)}\\right) \\sin^{2}{\\left(\\theta \\right)}}{2 r}\\end{matrix}\\right]$"
          },
          "metadata": {}
        }
      ]
    },
    {
      "cell_type": "code",
      "source": [],
      "metadata": {
        "id": "c4xh8akQJ0Mq"
      },
      "execution_count": 25,
      "outputs": []
    },
    {
      "cell_type": "code",
      "source": [],
      "metadata": {
        "id": "SumXbOqt9ae2"
      },
      "execution_count": 25,
      "outputs": []
    }
  ]
}