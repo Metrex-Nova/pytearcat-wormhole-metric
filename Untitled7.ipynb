{
  "nbformat": 4,
  "nbformat_minor": 0,
  "metadata": {
    "colab": {
      "provenance": [],
      "authorship_tag": "ABX9TyNRMLOSZ5BCdwduUFvR8VA8",
      "include_colab_link": true
    },
    "kernelspec": {
      "name": "python3",
      "display_name": "Python 3"
    },
    "language_info": {
      "name": "python"
    },
    "widgets": {
      "application/vnd.jupyter.widget-state+json": {
        "825501dc246f440a8867aa755d9caab8": {
          "model_module": "@jupyter-widgets/controls",
          "model_name": "HBoxModel",
          "model_module_version": "1.5.0",
          "state": {
            "_dom_classes": [],
            "_model_module": "@jupyter-widgets/controls",
            "_model_module_version": "1.5.0",
            "_model_name": "HBoxModel",
            "_view_count": null,
            "_view_module": "@jupyter-widgets/controls",
            "_view_module_version": "1.5.0",
            "_view_name": "HBoxView",
            "box_style": "",
            "children": [
              "IPY_MODEL_6080dd5e87474b5ca51fd067aa5de3cf",
              "IPY_MODEL_837f86546b1142bda0473bc8b6c0abe6",
              "IPY_MODEL_6c9c64602f6f4f0c979f3faefd0abf77"
            ],
            "layout": "IPY_MODEL_8b395b711b1a4b049810a0f10bde6cee"
          }
        },
        "6080dd5e87474b5ca51fd067aa5de3cf": {
          "model_module": "@jupyter-widgets/controls",
          "model_name": "HTMLModel",
          "model_module_version": "1.5.0",
          "state": {
            "_dom_classes": [],
            "_model_module": "@jupyter-widgets/controls",
            "_model_module_version": "1.5.0",
            "_model_name": "HTMLModel",
            "_view_count": null,
            "_view_module": "@jupyter-widgets/controls",
            "_view_module_version": "1.5.0",
            "_view_name": "HTMLView",
            "description": "",
            "description_tooltip": null,
            "layout": "IPY_MODEL_d840f5c8318849df9c9bf33745c505a8",
            "placeholder": "​",
            "style": "IPY_MODEL_a63833fbac574e128d769a39194ab551",
            "value": "100%"
          }
        },
        "837f86546b1142bda0473bc8b6c0abe6": {
          "model_module": "@jupyter-widgets/controls",
          "model_name": "FloatProgressModel",
          "model_module_version": "1.5.0",
          "state": {
            "_dom_classes": [],
            "_model_module": "@jupyter-widgets/controls",
            "_model_module_version": "1.5.0",
            "_model_name": "FloatProgressModel",
            "_view_count": null,
            "_view_module": "@jupyter-widgets/controls",
            "_view_module_version": "1.5.0",
            "_view_name": "ProgressView",
            "bar_style": "success",
            "description": "",
            "description_tooltip": null,
            "layout": "IPY_MODEL_10e9f2f81f044deb999330a625f23538",
            "max": 64,
            "min": 0,
            "orientation": "horizontal",
            "style": "IPY_MODEL_122a21130e1a40ccb1c38eebf0e4f115",
            "value": 64
          }
        },
        "6c9c64602f6f4f0c979f3faefd0abf77": {
          "model_module": "@jupyter-widgets/controls",
          "model_name": "HTMLModel",
          "model_module_version": "1.5.0",
          "state": {
            "_dom_classes": [],
            "_model_module": "@jupyter-widgets/controls",
            "_model_module_version": "1.5.0",
            "_model_name": "HTMLModel",
            "_view_count": null,
            "_view_module": "@jupyter-widgets/controls",
            "_view_module_version": "1.5.0",
            "_view_name": "HTMLView",
            "description": "",
            "description_tooltip": null,
            "layout": "IPY_MODEL_bf2c784ffa8343cfaef0b6c3c7b7ed8d",
            "placeholder": "​",
            "style": "IPY_MODEL_bf2a03b2b446483ea5efbb3ec9ebf106",
            "value": " 64/64 [00:00&lt;00:00, 830.19it/s]"
          }
        },
        "8b395b711b1a4b049810a0f10bde6cee": {
          "model_module": "@jupyter-widgets/base",
          "model_name": "LayoutModel",
          "model_module_version": "1.2.0",
          "state": {
            "_model_module": "@jupyter-widgets/base",
            "_model_module_version": "1.2.0",
            "_model_name": "LayoutModel",
            "_view_count": null,
            "_view_module": "@jupyter-widgets/base",
            "_view_module_version": "1.2.0",
            "_view_name": "LayoutView",
            "align_content": null,
            "align_items": null,
            "align_self": null,
            "border": null,
            "bottom": null,
            "display": null,
            "flex": null,
            "flex_flow": null,
            "grid_area": null,
            "grid_auto_columns": null,
            "grid_auto_flow": null,
            "grid_auto_rows": null,
            "grid_column": null,
            "grid_gap": null,
            "grid_row": null,
            "grid_template_areas": null,
            "grid_template_columns": null,
            "grid_template_rows": null,
            "height": null,
            "justify_content": null,
            "justify_items": null,
            "left": null,
            "margin": null,
            "max_height": null,
            "max_width": null,
            "min_height": null,
            "min_width": null,
            "object_fit": null,
            "object_position": null,
            "order": null,
            "overflow": null,
            "overflow_x": null,
            "overflow_y": null,
            "padding": null,
            "right": null,
            "top": null,
            "visibility": null,
            "width": null
          }
        },
        "d840f5c8318849df9c9bf33745c505a8": {
          "model_module": "@jupyter-widgets/base",
          "model_name": "LayoutModel",
          "model_module_version": "1.2.0",
          "state": {
            "_model_module": "@jupyter-widgets/base",
            "_model_module_version": "1.2.0",
            "_model_name": "LayoutModel",
            "_view_count": null,
            "_view_module": "@jupyter-widgets/base",
            "_view_module_version": "1.2.0",
            "_view_name": "LayoutView",
            "align_content": null,
            "align_items": null,
            "align_self": null,
            "border": null,
            "bottom": null,
            "display": null,
            "flex": null,
            "flex_flow": null,
            "grid_area": null,
            "grid_auto_columns": null,
            "grid_auto_flow": null,
            "grid_auto_rows": null,
            "grid_column": null,
            "grid_gap": null,
            "grid_row": null,
            "grid_template_areas": null,
            "grid_template_columns": null,
            "grid_template_rows": null,
            "height": null,
            "justify_content": null,
            "justify_items": null,
            "left": null,
            "margin": null,
            "max_height": null,
            "max_width": null,
            "min_height": null,
            "min_width": null,
            "object_fit": null,
            "object_position": null,
            "order": null,
            "overflow": null,
            "overflow_x": null,
            "overflow_y": null,
            "padding": null,
            "right": null,
            "top": null,
            "visibility": null,
            "width": null
          }
        },
        "a63833fbac574e128d769a39194ab551": {
          "model_module": "@jupyter-widgets/controls",
          "model_name": "DescriptionStyleModel",
          "model_module_version": "1.5.0",
          "state": {
            "_model_module": "@jupyter-widgets/controls",
            "_model_module_version": "1.5.0",
            "_model_name": "DescriptionStyleModel",
            "_view_count": null,
            "_view_module": "@jupyter-widgets/base",
            "_view_module_version": "1.2.0",
            "_view_name": "StyleView",
            "description_width": ""
          }
        },
        "10e9f2f81f044deb999330a625f23538": {
          "model_module": "@jupyter-widgets/base",
          "model_name": "LayoutModel",
          "model_module_version": "1.2.0",
          "state": {
            "_model_module": "@jupyter-widgets/base",
            "_model_module_version": "1.2.0",
            "_model_name": "LayoutModel",
            "_view_count": null,
            "_view_module": "@jupyter-widgets/base",
            "_view_module_version": "1.2.0",
            "_view_name": "LayoutView",
            "align_content": null,
            "align_items": null,
            "align_self": null,
            "border": null,
            "bottom": null,
            "display": null,
            "flex": null,
            "flex_flow": null,
            "grid_area": null,
            "grid_auto_columns": null,
            "grid_auto_flow": null,
            "grid_auto_rows": null,
            "grid_column": null,
            "grid_gap": null,
            "grid_row": null,
            "grid_template_areas": null,
            "grid_template_columns": null,
            "grid_template_rows": null,
            "height": null,
            "justify_content": null,
            "justify_items": null,
            "left": null,
            "margin": null,
            "max_height": null,
            "max_width": null,
            "min_height": null,
            "min_width": null,
            "object_fit": null,
            "object_position": null,
            "order": null,
            "overflow": null,
            "overflow_x": null,
            "overflow_y": null,
            "padding": null,
            "right": null,
            "top": null,
            "visibility": null,
            "width": null
          }
        },
        "122a21130e1a40ccb1c38eebf0e4f115": {
          "model_module": "@jupyter-widgets/controls",
          "model_name": "ProgressStyleModel",
          "model_module_version": "1.5.0",
          "state": {
            "_model_module": "@jupyter-widgets/controls",
            "_model_module_version": "1.5.0",
            "_model_name": "ProgressStyleModel",
            "_view_count": null,
            "_view_module": "@jupyter-widgets/base",
            "_view_module_version": "1.2.0",
            "_view_name": "StyleView",
            "bar_color": null,
            "description_width": ""
          }
        },
        "bf2c784ffa8343cfaef0b6c3c7b7ed8d": {
          "model_module": "@jupyter-widgets/base",
          "model_name": "LayoutModel",
          "model_module_version": "1.2.0",
          "state": {
            "_model_module": "@jupyter-widgets/base",
            "_model_module_version": "1.2.0",
            "_model_name": "LayoutModel",
            "_view_count": null,
            "_view_module": "@jupyter-widgets/base",
            "_view_module_version": "1.2.0",
            "_view_name": "LayoutView",
            "align_content": null,
            "align_items": null,
            "align_self": null,
            "border": null,
            "bottom": null,
            "display": null,
            "flex": null,
            "flex_flow": null,
            "grid_area": null,
            "grid_auto_columns": null,
            "grid_auto_flow": null,
            "grid_auto_rows": null,
            "grid_column": null,
            "grid_gap": null,
            "grid_row": null,
            "grid_template_areas": null,
            "grid_template_columns": null,
            "grid_template_rows": null,
            "height": null,
            "justify_content": null,
            "justify_items": null,
            "left": null,
            "margin": null,
            "max_height": null,
            "max_width": null,
            "min_height": null,
            "min_width": null,
            "object_fit": null,
            "object_position": null,
            "order": null,
            "overflow": null,
            "overflow_x": null,
            "overflow_y": null,
            "padding": null,
            "right": null,
            "top": null,
            "visibility": null,
            "width": null
          }
        },
        "bf2a03b2b446483ea5efbb3ec9ebf106": {
          "model_module": "@jupyter-widgets/controls",
          "model_name": "DescriptionStyleModel",
          "model_module_version": "1.5.0",
          "state": {
            "_model_module": "@jupyter-widgets/controls",
            "_model_module_version": "1.5.0",
            "_model_name": "DescriptionStyleModel",
            "_view_count": null,
            "_view_module": "@jupyter-widgets/base",
            "_view_module_version": "1.2.0",
            "_view_name": "StyleView",
            "description_width": ""
          }
        },
        "288ab14d15f64827b12682662702477d": {
          "model_module": "@jupyter-widgets/controls",
          "model_name": "HBoxModel",
          "model_module_version": "1.5.0",
          "state": {
            "_dom_classes": [],
            "_model_module": "@jupyter-widgets/controls",
            "_model_module_version": "1.5.0",
            "_model_name": "HBoxModel",
            "_view_count": null,
            "_view_module": "@jupyter-widgets/controls",
            "_view_module_version": "1.5.0",
            "_view_name": "HBoxView",
            "box_style": "",
            "children": [
              "IPY_MODEL_9843bc74306043e3ba7a32f8e693499d",
              "IPY_MODEL_9662d03fe58943978d4040b31e3fc99d",
              "IPY_MODEL_093c33cfcebb46d282359b9b49d16e42"
            ],
            "layout": "IPY_MODEL_d667065b15cd4fbc86154b146ec2d786"
          }
        },
        "9843bc74306043e3ba7a32f8e693499d": {
          "model_module": "@jupyter-widgets/controls",
          "model_name": "HTMLModel",
          "model_module_version": "1.5.0",
          "state": {
            "_dom_classes": [],
            "_model_module": "@jupyter-widgets/controls",
            "_model_module_version": "1.5.0",
            "_model_name": "HTMLModel",
            "_view_count": null,
            "_view_module": "@jupyter-widgets/controls",
            "_view_module_version": "1.5.0",
            "_view_name": "HTMLView",
            "description": "",
            "description_tooltip": null,
            "layout": "IPY_MODEL_51ffea9c5553404f9c74e93a94db113b",
            "placeholder": "​",
            "style": "IPY_MODEL_dd01a7f618264d11a3516836b5626890",
            "value": "100%"
          }
        },
        "9662d03fe58943978d4040b31e3fc99d": {
          "model_module": "@jupyter-widgets/controls",
          "model_name": "FloatProgressModel",
          "model_module_version": "1.5.0",
          "state": {
            "_dom_classes": [],
            "_model_module": "@jupyter-widgets/controls",
            "_model_module_version": "1.5.0",
            "_model_name": "FloatProgressModel",
            "_view_count": null,
            "_view_module": "@jupyter-widgets/controls",
            "_view_module_version": "1.5.0",
            "_view_name": "ProgressView",
            "bar_style": "success",
            "description": "",
            "description_tooltip": null,
            "layout": "IPY_MODEL_a44a4e54a2a74cab8aff62a78c292cab",
            "max": 256,
            "min": 0,
            "orientation": "horizontal",
            "style": "IPY_MODEL_19c4cf8435ab40b29982dd1c14b72e50",
            "value": 256
          }
        },
        "093c33cfcebb46d282359b9b49d16e42": {
          "model_module": "@jupyter-widgets/controls",
          "model_name": "HTMLModel",
          "model_module_version": "1.5.0",
          "state": {
            "_dom_classes": [],
            "_model_module": "@jupyter-widgets/controls",
            "_model_module_version": "1.5.0",
            "_model_name": "HTMLModel",
            "_view_count": null,
            "_view_module": "@jupyter-widgets/controls",
            "_view_module_version": "1.5.0",
            "_view_name": "HTMLView",
            "description": "",
            "description_tooltip": null,
            "layout": "IPY_MODEL_234ec662e8c7472a85a540cb67b306b5",
            "placeholder": "​",
            "style": "IPY_MODEL_b3e99a17a84342f1a13389ae5754468a",
            "value": " 256/256 [00:00&lt;00:00, 994.66it/s]"
          }
        },
        "d667065b15cd4fbc86154b146ec2d786": {
          "model_module": "@jupyter-widgets/base",
          "model_name": "LayoutModel",
          "model_module_version": "1.2.0",
          "state": {
            "_model_module": "@jupyter-widgets/base",
            "_model_module_version": "1.2.0",
            "_model_name": "LayoutModel",
            "_view_count": null,
            "_view_module": "@jupyter-widgets/base",
            "_view_module_version": "1.2.0",
            "_view_name": "LayoutView",
            "align_content": null,
            "align_items": null,
            "align_self": null,
            "border": null,
            "bottom": null,
            "display": null,
            "flex": null,
            "flex_flow": null,
            "grid_area": null,
            "grid_auto_columns": null,
            "grid_auto_flow": null,
            "grid_auto_rows": null,
            "grid_column": null,
            "grid_gap": null,
            "grid_row": null,
            "grid_template_areas": null,
            "grid_template_columns": null,
            "grid_template_rows": null,
            "height": null,
            "justify_content": null,
            "justify_items": null,
            "left": null,
            "margin": null,
            "max_height": null,
            "max_width": null,
            "min_height": null,
            "min_width": null,
            "object_fit": null,
            "object_position": null,
            "order": null,
            "overflow": null,
            "overflow_x": null,
            "overflow_y": null,
            "padding": null,
            "right": null,
            "top": null,
            "visibility": null,
            "width": null
          }
        },
        "51ffea9c5553404f9c74e93a94db113b": {
          "model_module": "@jupyter-widgets/base",
          "model_name": "LayoutModel",
          "model_module_version": "1.2.0",
          "state": {
            "_model_module": "@jupyter-widgets/base",
            "_model_module_version": "1.2.0",
            "_model_name": "LayoutModel",
            "_view_count": null,
            "_view_module": "@jupyter-widgets/base",
            "_view_module_version": "1.2.0",
            "_view_name": "LayoutView",
            "align_content": null,
            "align_items": null,
            "align_self": null,
            "border": null,
            "bottom": null,
            "display": null,
            "flex": null,
            "flex_flow": null,
            "grid_area": null,
            "grid_auto_columns": null,
            "grid_auto_flow": null,
            "grid_auto_rows": null,
            "grid_column": null,
            "grid_gap": null,
            "grid_row": null,
            "grid_template_areas": null,
            "grid_template_columns": null,
            "grid_template_rows": null,
            "height": null,
            "justify_content": null,
            "justify_items": null,
            "left": null,
            "margin": null,
            "max_height": null,
            "max_width": null,
            "min_height": null,
            "min_width": null,
            "object_fit": null,
            "object_position": null,
            "order": null,
            "overflow": null,
            "overflow_x": null,
            "overflow_y": null,
            "padding": null,
            "right": null,
            "top": null,
            "visibility": null,
            "width": null
          }
        },
        "dd01a7f618264d11a3516836b5626890": {
          "model_module": "@jupyter-widgets/controls",
          "model_name": "DescriptionStyleModel",
          "model_module_version": "1.5.0",
          "state": {
            "_model_module": "@jupyter-widgets/controls",
            "_model_module_version": "1.5.0",
            "_model_name": "DescriptionStyleModel",
            "_view_count": null,
            "_view_module": "@jupyter-widgets/base",
            "_view_module_version": "1.2.0",
            "_view_name": "StyleView",
            "description_width": ""
          }
        },
        "a44a4e54a2a74cab8aff62a78c292cab": {
          "model_module": "@jupyter-widgets/base",
          "model_name": "LayoutModel",
          "model_module_version": "1.2.0",
          "state": {
            "_model_module": "@jupyter-widgets/base",
            "_model_module_version": "1.2.0",
            "_model_name": "LayoutModel",
            "_view_count": null,
            "_view_module": "@jupyter-widgets/base",
            "_view_module_version": "1.2.0",
            "_view_name": "LayoutView",
            "align_content": null,
            "align_items": null,
            "align_self": null,
            "border": null,
            "bottom": null,
            "display": null,
            "flex": null,
            "flex_flow": null,
            "grid_area": null,
            "grid_auto_columns": null,
            "grid_auto_flow": null,
            "grid_auto_rows": null,
            "grid_column": null,
            "grid_gap": null,
            "grid_row": null,
            "grid_template_areas": null,
            "grid_template_columns": null,
            "grid_template_rows": null,
            "height": null,
            "justify_content": null,
            "justify_items": null,
            "left": null,
            "margin": null,
            "max_height": null,
            "max_width": null,
            "min_height": null,
            "min_width": null,
            "object_fit": null,
            "object_position": null,
            "order": null,
            "overflow": null,
            "overflow_x": null,
            "overflow_y": null,
            "padding": null,
            "right": null,
            "top": null,
            "visibility": null,
            "width": null
          }
        },
        "19c4cf8435ab40b29982dd1c14b72e50": {
          "model_module": "@jupyter-widgets/controls",
          "model_name": "ProgressStyleModel",
          "model_module_version": "1.5.0",
          "state": {
            "_model_module": "@jupyter-widgets/controls",
            "_model_module_version": "1.5.0",
            "_model_name": "ProgressStyleModel",
            "_view_count": null,
            "_view_module": "@jupyter-widgets/base",
            "_view_module_version": "1.2.0",
            "_view_name": "StyleView",
            "bar_color": null,
            "description_width": ""
          }
        },
        "234ec662e8c7472a85a540cb67b306b5": {
          "model_module": "@jupyter-widgets/base",
          "model_name": "LayoutModel",
          "model_module_version": "1.2.0",
          "state": {
            "_model_module": "@jupyter-widgets/base",
            "_model_module_version": "1.2.0",
            "_model_name": "LayoutModel",
            "_view_count": null,
            "_view_module": "@jupyter-widgets/base",
            "_view_module_version": "1.2.0",
            "_view_name": "LayoutView",
            "align_content": null,
            "align_items": null,
            "align_self": null,
            "border": null,
            "bottom": null,
            "display": null,
            "flex": null,
            "flex_flow": null,
            "grid_area": null,
            "grid_auto_columns": null,
            "grid_auto_flow": null,
            "grid_auto_rows": null,
            "grid_column": null,
            "grid_gap": null,
            "grid_row": null,
            "grid_template_areas": null,
            "grid_template_columns": null,
            "grid_template_rows": null,
            "height": null,
            "justify_content": null,
            "justify_items": null,
            "left": null,
            "margin": null,
            "max_height": null,
            "max_width": null,
            "min_height": null,
            "min_width": null,
            "object_fit": null,
            "object_position": null,
            "order": null,
            "overflow": null,
            "overflow_x": null,
            "overflow_y": null,
            "padding": null,
            "right": null,
            "top": null,
            "visibility": null,
            "width": null
          }
        },
        "b3e99a17a84342f1a13389ae5754468a": {
          "model_module": "@jupyter-widgets/controls",
          "model_name": "DescriptionStyleModel",
          "model_module_version": "1.5.0",
          "state": {
            "_model_module": "@jupyter-widgets/controls",
            "_model_module_version": "1.5.0",
            "_model_name": "DescriptionStyleModel",
            "_view_count": null,
            "_view_module": "@jupyter-widgets/base",
            "_view_module_version": "1.2.0",
            "_view_name": "StyleView",
            "description_width": ""
          }
        },
        "563dd4273bea4cf0a2da70a2aab9aac1": {
          "model_module": "@jupyter-widgets/controls",
          "model_name": "HBoxModel",
          "model_module_version": "1.5.0",
          "state": {
            "_dom_classes": [],
            "_model_module": "@jupyter-widgets/controls",
            "_model_module_version": "1.5.0",
            "_model_name": "HBoxModel",
            "_view_count": null,
            "_view_module": "@jupyter-widgets/controls",
            "_view_module_version": "1.5.0",
            "_view_name": "HBoxView",
            "box_style": "",
            "children": [
              "IPY_MODEL_f8a64116c6654041a19badc3591165bb",
              "IPY_MODEL_63783daa880b489a8df1b0ea5ef33d58",
              "IPY_MODEL_a4ea9250409f4bd5aa9d41ee169ce5e3"
            ],
            "layout": "IPY_MODEL_653db073879c4cbe935e0fa3164af0f1"
          }
        },
        "f8a64116c6654041a19badc3591165bb": {
          "model_module": "@jupyter-widgets/controls",
          "model_name": "HTMLModel",
          "model_module_version": "1.5.0",
          "state": {
            "_dom_classes": [],
            "_model_module": "@jupyter-widgets/controls",
            "_model_module_version": "1.5.0",
            "_model_name": "HTMLModel",
            "_view_count": null,
            "_view_module": "@jupyter-widgets/controls",
            "_view_module_version": "1.5.0",
            "_view_name": "HTMLView",
            "description": "",
            "description_tooltip": null,
            "layout": "IPY_MODEL_af62692fa3dc4be0afd77ee34394ce77",
            "placeholder": "​",
            "style": "IPY_MODEL_69f622968aee4040bda0319a143ed570",
            "value": "100%"
          }
        },
        "63783daa880b489a8df1b0ea5ef33d58": {
          "model_module": "@jupyter-widgets/controls",
          "model_name": "FloatProgressModel",
          "model_module_version": "1.5.0",
          "state": {
            "_dom_classes": [],
            "_model_module": "@jupyter-widgets/controls",
            "_model_module_version": "1.5.0",
            "_model_name": "FloatProgressModel",
            "_view_count": null,
            "_view_module": "@jupyter-widgets/controls",
            "_view_module_version": "1.5.0",
            "_view_name": "ProgressView",
            "bar_style": "success",
            "description": "",
            "description_tooltip": null,
            "layout": "IPY_MODEL_266cfac262084124a09c313acdd6688e",
            "max": 16,
            "min": 0,
            "orientation": "horizontal",
            "style": "IPY_MODEL_9ec6a787ae084fe4b114e1743516d9e6",
            "value": 16
          }
        },
        "a4ea9250409f4bd5aa9d41ee169ce5e3": {
          "model_module": "@jupyter-widgets/controls",
          "model_name": "HTMLModel",
          "model_module_version": "1.5.0",
          "state": {
            "_dom_classes": [],
            "_model_module": "@jupyter-widgets/controls",
            "_model_module_version": "1.5.0",
            "_model_name": "HTMLModel",
            "_view_count": null,
            "_view_module": "@jupyter-widgets/controls",
            "_view_module_version": "1.5.0",
            "_view_name": "HTMLView",
            "description": "",
            "description_tooltip": null,
            "layout": "IPY_MODEL_208dec6d4f3746028bf7e5fb5e9ed9e7",
            "placeholder": "​",
            "style": "IPY_MODEL_57e3a9b6ff204bbc81f46047b3752ad4",
            "value": " 16/16 [00:00&lt;00:00, 238.72it/s]"
          }
        },
        "653db073879c4cbe935e0fa3164af0f1": {
          "model_module": "@jupyter-widgets/base",
          "model_name": "LayoutModel",
          "model_module_version": "1.2.0",
          "state": {
            "_model_module": "@jupyter-widgets/base",
            "_model_module_version": "1.2.0",
            "_model_name": "LayoutModel",
            "_view_count": null,
            "_view_module": "@jupyter-widgets/base",
            "_view_module_version": "1.2.0",
            "_view_name": "LayoutView",
            "align_content": null,
            "align_items": null,
            "align_self": null,
            "border": null,
            "bottom": null,
            "display": null,
            "flex": null,
            "flex_flow": null,
            "grid_area": null,
            "grid_auto_columns": null,
            "grid_auto_flow": null,
            "grid_auto_rows": null,
            "grid_column": null,
            "grid_gap": null,
            "grid_row": null,
            "grid_template_areas": null,
            "grid_template_columns": null,
            "grid_template_rows": null,
            "height": null,
            "justify_content": null,
            "justify_items": null,
            "left": null,
            "margin": null,
            "max_height": null,
            "max_width": null,
            "min_height": null,
            "min_width": null,
            "object_fit": null,
            "object_position": null,
            "order": null,
            "overflow": null,
            "overflow_x": null,
            "overflow_y": null,
            "padding": null,
            "right": null,
            "top": null,
            "visibility": null,
            "width": null
          }
        },
        "af62692fa3dc4be0afd77ee34394ce77": {
          "model_module": "@jupyter-widgets/base",
          "model_name": "LayoutModel",
          "model_module_version": "1.2.0",
          "state": {
            "_model_module": "@jupyter-widgets/base",
            "_model_module_version": "1.2.0",
            "_model_name": "LayoutModel",
            "_view_count": null,
            "_view_module": "@jupyter-widgets/base",
            "_view_module_version": "1.2.0",
            "_view_name": "LayoutView",
            "align_content": null,
            "align_items": null,
            "align_self": null,
            "border": null,
            "bottom": null,
            "display": null,
            "flex": null,
            "flex_flow": null,
            "grid_area": null,
            "grid_auto_columns": null,
            "grid_auto_flow": null,
            "grid_auto_rows": null,
            "grid_column": null,
            "grid_gap": null,
            "grid_row": null,
            "grid_template_areas": null,
            "grid_template_columns": null,
            "grid_template_rows": null,
            "height": null,
            "justify_content": null,
            "justify_items": null,
            "left": null,
            "margin": null,
            "max_height": null,
            "max_width": null,
            "min_height": null,
            "min_width": null,
            "object_fit": null,
            "object_position": null,
            "order": null,
            "overflow": null,
            "overflow_x": null,
            "overflow_y": null,
            "padding": null,
            "right": null,
            "top": null,
            "visibility": null,
            "width": null
          }
        },
        "69f622968aee4040bda0319a143ed570": {
          "model_module": "@jupyter-widgets/controls",
          "model_name": "DescriptionStyleModel",
          "model_module_version": "1.5.0",
          "state": {
            "_model_module": "@jupyter-widgets/controls",
            "_model_module_version": "1.5.0",
            "_model_name": "DescriptionStyleModel",
            "_view_count": null,
            "_view_module": "@jupyter-widgets/base",
            "_view_module_version": "1.2.0",
            "_view_name": "StyleView",
            "description_width": ""
          }
        },
        "266cfac262084124a09c313acdd6688e": {
          "model_module": "@jupyter-widgets/base",
          "model_name": "LayoutModel",
          "model_module_version": "1.2.0",
          "state": {
            "_model_module": "@jupyter-widgets/base",
            "_model_module_version": "1.2.0",
            "_model_name": "LayoutModel",
            "_view_count": null,
            "_view_module": "@jupyter-widgets/base",
            "_view_module_version": "1.2.0",
            "_view_name": "LayoutView",
            "align_content": null,
            "align_items": null,
            "align_self": null,
            "border": null,
            "bottom": null,
            "display": null,
            "flex": null,
            "flex_flow": null,
            "grid_area": null,
            "grid_auto_columns": null,
            "grid_auto_flow": null,
            "grid_auto_rows": null,
            "grid_column": null,
            "grid_gap": null,
            "grid_row": null,
            "grid_template_areas": null,
            "grid_template_columns": null,
            "grid_template_rows": null,
            "height": null,
            "justify_content": null,
            "justify_items": null,
            "left": null,
            "margin": null,
            "max_height": null,
            "max_width": null,
            "min_height": null,
            "min_width": null,
            "object_fit": null,
            "object_position": null,
            "order": null,
            "overflow": null,
            "overflow_x": null,
            "overflow_y": null,
            "padding": null,
            "right": null,
            "top": null,
            "visibility": null,
            "width": null
          }
        },
        "9ec6a787ae084fe4b114e1743516d9e6": {
          "model_module": "@jupyter-widgets/controls",
          "model_name": "ProgressStyleModel",
          "model_module_version": "1.5.0",
          "state": {
            "_model_module": "@jupyter-widgets/controls",
            "_model_module_version": "1.5.0",
            "_model_name": "ProgressStyleModel",
            "_view_count": null,
            "_view_module": "@jupyter-widgets/base",
            "_view_module_version": "1.2.0",
            "_view_name": "StyleView",
            "bar_color": null,
            "description_width": ""
          }
        },
        "208dec6d4f3746028bf7e5fb5e9ed9e7": {
          "model_module": "@jupyter-widgets/base",
          "model_name": "LayoutModel",
          "model_module_version": "1.2.0",
          "state": {
            "_model_module": "@jupyter-widgets/base",
            "_model_module_version": "1.2.0",
            "_model_name": "LayoutModel",
            "_view_count": null,
            "_view_module": "@jupyter-widgets/base",
            "_view_module_version": "1.2.0",
            "_view_name": "LayoutView",
            "align_content": null,
            "align_items": null,
            "align_self": null,
            "border": null,
            "bottom": null,
            "display": null,
            "flex": null,
            "flex_flow": null,
            "grid_area": null,
            "grid_auto_columns": null,
            "grid_auto_flow": null,
            "grid_auto_rows": null,
            "grid_column": null,
            "grid_gap": null,
            "grid_row": null,
            "grid_template_areas": null,
            "grid_template_columns": null,
            "grid_template_rows": null,
            "height": null,
            "justify_content": null,
            "justify_items": null,
            "left": null,
            "margin": null,
            "max_height": null,
            "max_width": null,
            "min_height": null,
            "min_width": null,
            "object_fit": null,
            "object_position": null,
            "order": null,
            "overflow": null,
            "overflow_x": null,
            "overflow_y": null,
            "padding": null,
            "right": null,
            "top": null,
            "visibility": null,
            "width": null
          }
        },
        "57e3a9b6ff204bbc81f46047b3752ad4": {
          "model_module": "@jupyter-widgets/controls",
          "model_name": "DescriptionStyleModel",
          "model_module_version": "1.5.0",
          "state": {
            "_model_module": "@jupyter-widgets/controls",
            "_model_module_version": "1.5.0",
            "_model_name": "DescriptionStyleModel",
            "_view_count": null,
            "_view_module": "@jupyter-widgets/base",
            "_view_module_version": "1.2.0",
            "_view_name": "StyleView",
            "description_width": ""
          }
        },
        "a7f3f500f1524a32993c5847f5059c5c": {
          "model_module": "@jupyter-widgets/controls",
          "model_name": "HBoxModel",
          "model_module_version": "1.5.0",
          "state": {
            "_dom_classes": [],
            "_model_module": "@jupyter-widgets/controls",
            "_model_module_version": "1.5.0",
            "_model_name": "HBoxModel",
            "_view_count": null,
            "_view_module": "@jupyter-widgets/controls",
            "_view_module_version": "1.5.0",
            "_view_name": "HBoxView",
            "box_style": "",
            "children": [
              "IPY_MODEL_ca483108597c4050bc946106623aeabc",
              "IPY_MODEL_57858898461940a1a7ec0af090dfcac2",
              "IPY_MODEL_cea81d75e1ee4d8794c1cead26bf407d"
            ],
            "layout": "IPY_MODEL_8017c313066649c9a75b8cdf9d3d5bba"
          }
        },
        "ca483108597c4050bc946106623aeabc": {
          "model_module": "@jupyter-widgets/controls",
          "model_name": "HTMLModel",
          "model_module_version": "1.5.0",
          "state": {
            "_dom_classes": [],
            "_model_module": "@jupyter-widgets/controls",
            "_model_module_version": "1.5.0",
            "_model_name": "HTMLModel",
            "_view_count": null,
            "_view_module": "@jupyter-widgets/controls",
            "_view_module_version": "1.5.0",
            "_view_name": "HTMLView",
            "description": "",
            "description_tooltip": null,
            "layout": "IPY_MODEL_3cf54166e3b74b1fa30c6d471bdd8e4f",
            "placeholder": "​",
            "style": "IPY_MODEL_41a357c6df3445cf9eda84e740713f8b",
            "value": "100%"
          }
        },
        "57858898461940a1a7ec0af090dfcac2": {
          "model_module": "@jupyter-widgets/controls",
          "model_name": "FloatProgressModel",
          "model_module_version": "1.5.0",
          "state": {
            "_dom_classes": [],
            "_model_module": "@jupyter-widgets/controls",
            "_model_module_version": "1.5.0",
            "_model_name": "FloatProgressModel",
            "_view_count": null,
            "_view_module": "@jupyter-widgets/controls",
            "_view_module_version": "1.5.0",
            "_view_name": "ProgressView",
            "bar_style": "success",
            "description": "",
            "description_tooltip": null,
            "layout": "IPY_MODEL_bd657e73a22f49829f25b8af8930ffb7",
            "max": 16,
            "min": 0,
            "orientation": "horizontal",
            "style": "IPY_MODEL_8358852a84354190aca6257cb85804da",
            "value": 16
          }
        },
        "cea81d75e1ee4d8794c1cead26bf407d": {
          "model_module": "@jupyter-widgets/controls",
          "model_name": "HTMLModel",
          "model_module_version": "1.5.0",
          "state": {
            "_dom_classes": [],
            "_model_module": "@jupyter-widgets/controls",
            "_model_module_version": "1.5.0",
            "_model_name": "HTMLModel",
            "_view_count": null,
            "_view_module": "@jupyter-widgets/controls",
            "_view_module_version": "1.5.0",
            "_view_name": "HTMLView",
            "description": "",
            "description_tooltip": null,
            "layout": "IPY_MODEL_a806526be56249a2ab5b1707e4afe830",
            "placeholder": "​",
            "style": "IPY_MODEL_60dda0705ec447368dfcef8e1c463388",
            "value": " 16/16 [00:00&lt;00:00, 1178.40it/s]"
          }
        },
        "8017c313066649c9a75b8cdf9d3d5bba": {
          "model_module": "@jupyter-widgets/base",
          "model_name": "LayoutModel",
          "model_module_version": "1.2.0",
          "state": {
            "_model_module": "@jupyter-widgets/base",
            "_model_module_version": "1.2.0",
            "_model_name": "LayoutModel",
            "_view_count": null,
            "_view_module": "@jupyter-widgets/base",
            "_view_module_version": "1.2.0",
            "_view_name": "LayoutView",
            "align_content": null,
            "align_items": null,
            "align_self": null,
            "border": null,
            "bottom": null,
            "display": null,
            "flex": null,
            "flex_flow": null,
            "grid_area": null,
            "grid_auto_columns": null,
            "grid_auto_flow": null,
            "grid_auto_rows": null,
            "grid_column": null,
            "grid_gap": null,
            "grid_row": null,
            "grid_template_areas": null,
            "grid_template_columns": null,
            "grid_template_rows": null,
            "height": null,
            "justify_content": null,
            "justify_items": null,
            "left": null,
            "margin": null,
            "max_height": null,
            "max_width": null,
            "min_height": null,
            "min_width": null,
            "object_fit": null,
            "object_position": null,
            "order": null,
            "overflow": null,
            "overflow_x": null,
            "overflow_y": null,
            "padding": null,
            "right": null,
            "top": null,
            "visibility": null,
            "width": null
          }
        },
        "3cf54166e3b74b1fa30c6d471bdd8e4f": {
          "model_module": "@jupyter-widgets/base",
          "model_name": "LayoutModel",
          "model_module_version": "1.2.0",
          "state": {
            "_model_module": "@jupyter-widgets/base",
            "_model_module_version": "1.2.0",
            "_model_name": "LayoutModel",
            "_view_count": null,
            "_view_module": "@jupyter-widgets/base",
            "_view_module_version": "1.2.0",
            "_view_name": "LayoutView",
            "align_content": null,
            "align_items": null,
            "align_self": null,
            "border": null,
            "bottom": null,
            "display": null,
            "flex": null,
            "flex_flow": null,
            "grid_area": null,
            "grid_auto_columns": null,
            "grid_auto_flow": null,
            "grid_auto_rows": null,
            "grid_column": null,
            "grid_gap": null,
            "grid_row": null,
            "grid_template_areas": null,
            "grid_template_columns": null,
            "grid_template_rows": null,
            "height": null,
            "justify_content": null,
            "justify_items": null,
            "left": null,
            "margin": null,
            "max_height": null,
            "max_width": null,
            "min_height": null,
            "min_width": null,
            "object_fit": null,
            "object_position": null,
            "order": null,
            "overflow": null,
            "overflow_x": null,
            "overflow_y": null,
            "padding": null,
            "right": null,
            "top": null,
            "visibility": null,
            "width": null
          }
        },
        "41a357c6df3445cf9eda84e740713f8b": {
          "model_module": "@jupyter-widgets/controls",
          "model_name": "DescriptionStyleModel",
          "model_module_version": "1.5.0",
          "state": {
            "_model_module": "@jupyter-widgets/controls",
            "_model_module_version": "1.5.0",
            "_model_name": "DescriptionStyleModel",
            "_view_count": null,
            "_view_module": "@jupyter-widgets/base",
            "_view_module_version": "1.2.0",
            "_view_name": "StyleView",
            "description_width": ""
          }
        },
        "bd657e73a22f49829f25b8af8930ffb7": {
          "model_module": "@jupyter-widgets/base",
          "model_name": "LayoutModel",
          "model_module_version": "1.2.0",
          "state": {
            "_model_module": "@jupyter-widgets/base",
            "_model_module_version": "1.2.0",
            "_model_name": "LayoutModel",
            "_view_count": null,
            "_view_module": "@jupyter-widgets/base",
            "_view_module_version": "1.2.0",
            "_view_name": "LayoutView",
            "align_content": null,
            "align_items": null,
            "align_self": null,
            "border": null,
            "bottom": null,
            "display": null,
            "flex": null,
            "flex_flow": null,
            "grid_area": null,
            "grid_auto_columns": null,
            "grid_auto_flow": null,
            "grid_auto_rows": null,
            "grid_column": null,
            "grid_gap": null,
            "grid_row": null,
            "grid_template_areas": null,
            "grid_template_columns": null,
            "grid_template_rows": null,
            "height": null,
            "justify_content": null,
            "justify_items": null,
            "left": null,
            "margin": null,
            "max_height": null,
            "max_width": null,
            "min_height": null,
            "min_width": null,
            "object_fit": null,
            "object_position": null,
            "order": null,
            "overflow": null,
            "overflow_x": null,
            "overflow_y": null,
            "padding": null,
            "right": null,
            "top": null,
            "visibility": null,
            "width": null
          }
        },
        "8358852a84354190aca6257cb85804da": {
          "model_module": "@jupyter-widgets/controls",
          "model_name": "ProgressStyleModel",
          "model_module_version": "1.5.0",
          "state": {
            "_model_module": "@jupyter-widgets/controls",
            "_model_module_version": "1.5.0",
            "_model_name": "ProgressStyleModel",
            "_view_count": null,
            "_view_module": "@jupyter-widgets/base",
            "_view_module_version": "1.2.0",
            "_view_name": "StyleView",
            "bar_color": null,
            "description_width": ""
          }
        },
        "a806526be56249a2ab5b1707e4afe830": {
          "model_module": "@jupyter-widgets/base",
          "model_name": "LayoutModel",
          "model_module_version": "1.2.0",
          "state": {
            "_model_module": "@jupyter-widgets/base",
            "_model_module_version": "1.2.0",
            "_model_name": "LayoutModel",
            "_view_count": null,
            "_view_module": "@jupyter-widgets/base",
            "_view_module_version": "1.2.0",
            "_view_name": "LayoutView",
            "align_content": null,
            "align_items": null,
            "align_self": null,
            "border": null,
            "bottom": null,
            "display": null,
            "flex": null,
            "flex_flow": null,
            "grid_area": null,
            "grid_auto_columns": null,
            "grid_auto_flow": null,
            "grid_auto_rows": null,
            "grid_column": null,
            "grid_gap": null,
            "grid_row": null,
            "grid_template_areas": null,
            "grid_template_columns": null,
            "grid_template_rows": null,
            "height": null,
            "justify_content": null,
            "justify_items": null,
            "left": null,
            "margin": null,
            "max_height": null,
            "max_width": null,
            "min_height": null,
            "min_width": null,
            "object_fit": null,
            "object_position": null,
            "order": null,
            "overflow": null,
            "overflow_x": null,
            "overflow_y": null,
            "padding": null,
            "right": null,
            "top": null,
            "visibility": null,
            "width": null
          }
        },
        "60dda0705ec447368dfcef8e1c463388": {
          "model_module": "@jupyter-widgets/controls",
          "model_name": "DescriptionStyleModel",
          "model_module_version": "1.5.0",
          "state": {
            "_model_module": "@jupyter-widgets/controls",
            "_model_module_version": "1.5.0",
            "_model_name": "DescriptionStyleModel",
            "_view_count": null,
            "_view_module": "@jupyter-widgets/base",
            "_view_module_version": "1.2.0",
            "_view_name": "StyleView",
            "description_width": ""
          }
        },
        "1d6b4eeac5b04d41bab279bb5430eb14": {
          "model_module": "@jupyter-widgets/controls",
          "model_name": "HBoxModel",
          "model_module_version": "1.5.0",
          "state": {
            "_dom_classes": [],
            "_model_module": "@jupyter-widgets/controls",
            "_model_module_version": "1.5.0",
            "_model_name": "HBoxModel",
            "_view_count": null,
            "_view_module": "@jupyter-widgets/controls",
            "_view_module_version": "1.5.0",
            "_view_name": "HBoxView",
            "box_style": "",
            "children": [
              "IPY_MODEL_4287900ff7de4e66892889767fa88c66",
              "IPY_MODEL_152256a86d3747f7ab2411eb8e5f34dc",
              "IPY_MODEL_b9913018117644cba14233d43ee845a4"
            ],
            "layout": "IPY_MODEL_336f1700af1b4f42b2d1d37255a9af0c"
          }
        },
        "4287900ff7de4e66892889767fa88c66": {
          "model_module": "@jupyter-widgets/controls",
          "model_name": "HTMLModel",
          "model_module_version": "1.5.0",
          "state": {
            "_dom_classes": [],
            "_model_module": "@jupyter-widgets/controls",
            "_model_module_version": "1.5.0",
            "_model_name": "HTMLModel",
            "_view_count": null,
            "_view_module": "@jupyter-widgets/controls",
            "_view_module_version": "1.5.0",
            "_view_name": "HTMLView",
            "description": "",
            "description_tooltip": null,
            "layout": "IPY_MODEL_cba6fecbd16946c183094e3f6f50d392",
            "placeholder": "​",
            "style": "IPY_MODEL_5d67cad1600349e88114c68231983a1f",
            "value": "100%"
          }
        },
        "152256a86d3747f7ab2411eb8e5f34dc": {
          "model_module": "@jupyter-widgets/controls",
          "model_name": "FloatProgressModel",
          "model_module_version": "1.5.0",
          "state": {
            "_dom_classes": [],
            "_model_module": "@jupyter-widgets/controls",
            "_model_module_version": "1.5.0",
            "_model_name": "FloatProgressModel",
            "_view_count": null,
            "_view_module": "@jupyter-widgets/controls",
            "_view_module_version": "1.5.0",
            "_view_name": "ProgressView",
            "bar_style": "success",
            "description": "",
            "description_tooltip": null,
            "layout": "IPY_MODEL_d3d2829cfed64a37a70cc20d52e5ecc6",
            "max": 16,
            "min": 0,
            "orientation": "horizontal",
            "style": "IPY_MODEL_efa0c4231d0b4c659842e08e4c86f3e3",
            "value": 16
          }
        },
        "b9913018117644cba14233d43ee845a4": {
          "model_module": "@jupyter-widgets/controls",
          "model_name": "HTMLModel",
          "model_module_version": "1.5.0",
          "state": {
            "_dom_classes": [],
            "_model_module": "@jupyter-widgets/controls",
            "_model_module_version": "1.5.0",
            "_model_name": "HTMLModel",
            "_view_count": null,
            "_view_module": "@jupyter-widgets/controls",
            "_view_module_version": "1.5.0",
            "_view_name": "HTMLView",
            "description": "",
            "description_tooltip": null,
            "layout": "IPY_MODEL_d2b57b6b97b64275a6bb4227afc79921",
            "placeholder": "​",
            "style": "IPY_MODEL_2d8c54d02e2742c991c3b3c6cbcb3ac0",
            "value": " 16/16 [00:00&lt;00:00, 108.95it/s]"
          }
        },
        "336f1700af1b4f42b2d1d37255a9af0c": {
          "model_module": "@jupyter-widgets/base",
          "model_name": "LayoutModel",
          "model_module_version": "1.2.0",
          "state": {
            "_model_module": "@jupyter-widgets/base",
            "_model_module_version": "1.2.0",
            "_model_name": "LayoutModel",
            "_view_count": null,
            "_view_module": "@jupyter-widgets/base",
            "_view_module_version": "1.2.0",
            "_view_name": "LayoutView",
            "align_content": null,
            "align_items": null,
            "align_self": null,
            "border": null,
            "bottom": null,
            "display": null,
            "flex": null,
            "flex_flow": null,
            "grid_area": null,
            "grid_auto_columns": null,
            "grid_auto_flow": null,
            "grid_auto_rows": null,
            "grid_column": null,
            "grid_gap": null,
            "grid_row": null,
            "grid_template_areas": null,
            "grid_template_columns": null,
            "grid_template_rows": null,
            "height": null,
            "justify_content": null,
            "justify_items": null,
            "left": null,
            "margin": null,
            "max_height": null,
            "max_width": null,
            "min_height": null,
            "min_width": null,
            "object_fit": null,
            "object_position": null,
            "order": null,
            "overflow": null,
            "overflow_x": null,
            "overflow_y": null,
            "padding": null,
            "right": null,
            "top": null,
            "visibility": null,
            "width": null
          }
        },
        "cba6fecbd16946c183094e3f6f50d392": {
          "model_module": "@jupyter-widgets/base",
          "model_name": "LayoutModel",
          "model_module_version": "1.2.0",
          "state": {
            "_model_module": "@jupyter-widgets/base",
            "_model_module_version": "1.2.0",
            "_model_name": "LayoutModel",
            "_view_count": null,
            "_view_module": "@jupyter-widgets/base",
            "_view_module_version": "1.2.0",
            "_view_name": "LayoutView",
            "align_content": null,
            "align_items": null,
            "align_self": null,
            "border": null,
            "bottom": null,
            "display": null,
            "flex": null,
            "flex_flow": null,
            "grid_area": null,
            "grid_auto_columns": null,
            "grid_auto_flow": null,
            "grid_auto_rows": null,
            "grid_column": null,
            "grid_gap": null,
            "grid_row": null,
            "grid_template_areas": null,
            "grid_template_columns": null,
            "grid_template_rows": null,
            "height": null,
            "justify_content": null,
            "justify_items": null,
            "left": null,
            "margin": null,
            "max_height": null,
            "max_width": null,
            "min_height": null,
            "min_width": null,
            "object_fit": null,
            "object_position": null,
            "order": null,
            "overflow": null,
            "overflow_x": null,
            "overflow_y": null,
            "padding": null,
            "right": null,
            "top": null,
            "visibility": null,
            "width": null
          }
        },
        "5d67cad1600349e88114c68231983a1f": {
          "model_module": "@jupyter-widgets/controls",
          "model_name": "DescriptionStyleModel",
          "model_module_version": "1.5.0",
          "state": {
            "_model_module": "@jupyter-widgets/controls",
            "_model_module_version": "1.5.0",
            "_model_name": "DescriptionStyleModel",
            "_view_count": null,
            "_view_module": "@jupyter-widgets/base",
            "_view_module_version": "1.2.0",
            "_view_name": "StyleView",
            "description_width": ""
          }
        },
        "d3d2829cfed64a37a70cc20d52e5ecc6": {
          "model_module": "@jupyter-widgets/base",
          "model_name": "LayoutModel",
          "model_module_version": "1.2.0",
          "state": {
            "_model_module": "@jupyter-widgets/base",
            "_model_module_version": "1.2.0",
            "_model_name": "LayoutModel",
            "_view_count": null,
            "_view_module": "@jupyter-widgets/base",
            "_view_module_version": "1.2.0",
            "_view_name": "LayoutView",
            "align_content": null,
            "align_items": null,
            "align_self": null,
            "border": null,
            "bottom": null,
            "display": null,
            "flex": null,
            "flex_flow": null,
            "grid_area": null,
            "grid_auto_columns": null,
            "grid_auto_flow": null,
            "grid_auto_rows": null,
            "grid_column": null,
            "grid_gap": null,
            "grid_row": null,
            "grid_template_areas": null,
            "grid_template_columns": null,
            "grid_template_rows": null,
            "height": null,
            "justify_content": null,
            "justify_items": null,
            "left": null,
            "margin": null,
            "max_height": null,
            "max_width": null,
            "min_height": null,
            "min_width": null,
            "object_fit": null,
            "object_position": null,
            "order": null,
            "overflow": null,
            "overflow_x": null,
            "overflow_y": null,
            "padding": null,
            "right": null,
            "top": null,
            "visibility": null,
            "width": null
          }
        },
        "efa0c4231d0b4c659842e08e4c86f3e3": {
          "model_module": "@jupyter-widgets/controls",
          "model_name": "ProgressStyleModel",
          "model_module_version": "1.5.0",
          "state": {
            "_model_module": "@jupyter-widgets/controls",
            "_model_module_version": "1.5.0",
            "_model_name": "ProgressStyleModel",
            "_view_count": null,
            "_view_module": "@jupyter-widgets/base",
            "_view_module_version": "1.2.0",
            "_view_name": "StyleView",
            "bar_color": null,
            "description_width": ""
          }
        },
        "d2b57b6b97b64275a6bb4227afc79921": {
          "model_module": "@jupyter-widgets/base",
          "model_name": "LayoutModel",
          "model_module_version": "1.2.0",
          "state": {
            "_model_module": "@jupyter-widgets/base",
            "_model_module_version": "1.2.0",
            "_model_name": "LayoutModel",
            "_view_count": null,
            "_view_module": "@jupyter-widgets/base",
            "_view_module_version": "1.2.0",
            "_view_name": "LayoutView",
            "align_content": null,
            "align_items": null,
            "align_self": null,
            "border": null,
            "bottom": null,
            "display": null,
            "flex": null,
            "flex_flow": null,
            "grid_area": null,
            "grid_auto_columns": null,
            "grid_auto_flow": null,
            "grid_auto_rows": null,
            "grid_column": null,
            "grid_gap": null,
            "grid_row": null,
            "grid_template_areas": null,
            "grid_template_columns": null,
            "grid_template_rows": null,
            "height": null,
            "justify_content": null,
            "justify_items": null,
            "left": null,
            "margin": null,
            "max_height": null,
            "max_width": null,
            "min_height": null,
            "min_width": null,
            "object_fit": null,
            "object_position": null,
            "order": null,
            "overflow": null,
            "overflow_x": null,
            "overflow_y": null,
            "padding": null,
            "right": null,
            "top": null,
            "visibility": null,
            "width": null
          }
        },
        "2d8c54d02e2742c991c3b3c6cbcb3ac0": {
          "model_module": "@jupyter-widgets/controls",
          "model_name": "DescriptionStyleModel",
          "model_module_version": "1.5.0",
          "state": {
            "_model_module": "@jupyter-widgets/controls",
            "_model_module_version": "1.5.0",
            "_model_name": "DescriptionStyleModel",
            "_view_count": null,
            "_view_module": "@jupyter-widgets/base",
            "_view_module_version": "1.2.0",
            "_view_name": "StyleView",
            "description_width": ""
          }
        }
      }
    }
  },
  "cells": [
    {
      "cell_type": "markdown",
      "metadata": {
        "id": "view-in-github",
        "colab_type": "text"
      },
      "source": [
        "<a href=\"https://colab.research.google.com/github/Metrex-Nova/pytearcat-wormhole-metric/blob/main/Untitled7.ipynb\" target=\"_parent\"><img src=\"https://colab.research.google.com/assets/colab-badge.svg\" alt=\"Open In Colab\"/></a>"
      ]
    },
    {
      "cell_type": "code",
      "source": [
        "pip install pytearcat"
      ],
      "metadata": {
        "colab": {
          "base_uri": "https://localhost:8080/"
        },
        "id": "wgDndktw8mjR",
        "outputId": "198d244e-626f-4981-e290-4d273ddf4e03"
      },
      "execution_count": 20,
      "outputs": [
        {
          "output_type": "stream",
          "name": "stdout",
          "text": [
            "Requirement already satisfied: pytearcat in /usr/local/lib/python3.12/dist-packages (0.0.8)\n",
            "Requirement already satisfied: jupyter>=1.0.0 in /usr/local/lib/python3.12/dist-packages (from pytearcat) (1.1.1)\n",
            "Requirement already satisfied: numpy>=1.22.0 in /usr/local/lib/python3.12/dist-packages (from pytearcat) (2.0.2)\n",
            "Requirement already satisfied: sympy>=1.7.1 in /usr/local/lib/python3.12/dist-packages (from pytearcat) (1.13.3)\n",
            "Requirement already satisfied: tqdm>=4.55.0 in /usr/local/lib/python3.12/dist-packages (from pytearcat) (4.67.1)\n",
            "Requirement already satisfied: jedi>=0.17.2 in /usr/local/lib/python3.12/dist-packages (from pytearcat) (0.19.2)\n",
            "Requirement already satisfied: parso<0.9.0,>=0.8.4 in /usr/local/lib/python3.12/dist-packages (from jedi>=0.17.2->pytearcat) (0.8.5)\n",
            "Requirement already satisfied: notebook in /usr/local/lib/python3.12/dist-packages (from jupyter>=1.0.0->pytearcat) (6.5.7)\n",
            "Requirement already satisfied: jupyter-console in /usr/local/lib/python3.12/dist-packages (from jupyter>=1.0.0->pytearcat) (6.6.3)\n",
            "Requirement already satisfied: nbconvert in /usr/local/lib/python3.12/dist-packages (from jupyter>=1.0.0->pytearcat) (7.16.6)\n",
            "Requirement already satisfied: ipykernel in /usr/local/lib/python3.12/dist-packages (from jupyter>=1.0.0->pytearcat) (6.17.1)\n",
            "Requirement already satisfied: ipywidgets in /usr/local/lib/python3.12/dist-packages (from jupyter>=1.0.0->pytearcat) (7.7.1)\n",
            "Requirement already satisfied: jupyterlab in /usr/local/lib/python3.12/dist-packages (from jupyter>=1.0.0->pytearcat) (4.4.10)\n",
            "Requirement already satisfied: mpmath<1.4,>=1.1.0 in /usr/local/lib/python3.12/dist-packages (from sympy>=1.7.1->pytearcat) (1.3.0)\n",
            "Requirement already satisfied: debugpy>=1.0 in /usr/local/lib/python3.12/dist-packages (from ipykernel->jupyter>=1.0.0->pytearcat) (1.8.15)\n",
            "Requirement already satisfied: ipython>=7.23.1 in /usr/local/lib/python3.12/dist-packages (from ipykernel->jupyter>=1.0.0->pytearcat) (7.34.0)\n",
            "Requirement already satisfied: jupyter-client>=6.1.12 in /usr/local/lib/python3.12/dist-packages (from ipykernel->jupyter>=1.0.0->pytearcat) (7.4.9)\n",
            "Requirement already satisfied: matplotlib-inline>=0.1 in /usr/local/lib/python3.12/dist-packages (from ipykernel->jupyter>=1.0.0->pytearcat) (0.1.7)\n",
            "Requirement already satisfied: nest-asyncio in /usr/local/lib/python3.12/dist-packages (from ipykernel->jupyter>=1.0.0->pytearcat) (1.6.0)\n",
            "Requirement already satisfied: packaging in /usr/local/lib/python3.12/dist-packages (from ipykernel->jupyter>=1.0.0->pytearcat) (25.0)\n",
            "Requirement already satisfied: psutil in /usr/local/lib/python3.12/dist-packages (from ipykernel->jupyter>=1.0.0->pytearcat) (5.9.5)\n",
            "Requirement already satisfied: pyzmq>=17 in /usr/local/lib/python3.12/dist-packages (from ipykernel->jupyter>=1.0.0->pytearcat) (26.2.1)\n",
            "Requirement already satisfied: tornado>=6.1 in /usr/local/lib/python3.12/dist-packages (from ipykernel->jupyter>=1.0.0->pytearcat) (6.5.1)\n",
            "Requirement already satisfied: traitlets>=5.1.0 in /usr/local/lib/python3.12/dist-packages (from ipykernel->jupyter>=1.0.0->pytearcat) (5.7.1)\n",
            "Requirement already satisfied: ipython-genutils~=0.2.0 in /usr/local/lib/python3.12/dist-packages (from ipywidgets->jupyter>=1.0.0->pytearcat) (0.2.0)\n",
            "Requirement already satisfied: widgetsnbextension~=3.6.0 in /usr/local/lib/python3.12/dist-packages (from ipywidgets->jupyter>=1.0.0->pytearcat) (3.6.10)\n",
            "Requirement already satisfied: jupyterlab-widgets>=1.0.0 in /usr/local/lib/python3.12/dist-packages (from ipywidgets->jupyter>=1.0.0->pytearcat) (3.0.15)\n",
            "Requirement already satisfied: jupyter-core!=5.0.*,>=4.12 in /usr/local/lib/python3.12/dist-packages (from jupyter-console->jupyter>=1.0.0->pytearcat) (5.9.1)\n",
            "Requirement already satisfied: prompt-toolkit>=3.0.30 in /usr/local/lib/python3.12/dist-packages (from jupyter-console->jupyter>=1.0.0->pytearcat) (3.0.52)\n",
            "Requirement already satisfied: pygments in /usr/local/lib/python3.12/dist-packages (from jupyter-console->jupyter>=1.0.0->pytearcat) (2.19.2)\n",
            "Requirement already satisfied: async-lru>=1.0.0 in /usr/local/lib/python3.12/dist-packages (from jupyterlab->jupyter>=1.0.0->pytearcat) (2.0.5)\n",
            "Requirement already satisfied: httpx<1,>=0.25.0 in /usr/local/lib/python3.12/dist-packages (from jupyterlab->jupyter>=1.0.0->pytearcat) (0.28.1)\n",
            "Requirement already satisfied: jinja2>=3.0.3 in /usr/local/lib/python3.12/dist-packages (from jupyterlab->jupyter>=1.0.0->pytearcat) (3.1.6)\n",
            "Requirement already satisfied: jupyter-lsp>=2.0.0 in /usr/local/lib/python3.12/dist-packages (from jupyterlab->jupyter>=1.0.0->pytearcat) (2.3.0)\n",
            "Requirement already satisfied: jupyter-server<3,>=2.4.0 in /usr/local/lib/python3.12/dist-packages (from jupyterlab->jupyter>=1.0.0->pytearcat) (2.14.0)\n",
            "Requirement already satisfied: jupyterlab-server<3,>=2.27.1 in /usr/local/lib/python3.12/dist-packages (from jupyterlab->jupyter>=1.0.0->pytearcat) (2.28.0)\n",
            "Requirement already satisfied: notebook-shim>=0.2 in /usr/local/lib/python3.12/dist-packages (from jupyterlab->jupyter>=1.0.0->pytearcat) (0.2.4)\n",
            "Requirement already satisfied: setuptools>=41.1.0 in /usr/local/lib/python3.12/dist-packages (from jupyterlab->jupyter>=1.0.0->pytearcat) (75.2.0)\n",
            "Requirement already satisfied: beautifulsoup4 in /usr/local/lib/python3.12/dist-packages (from nbconvert->jupyter>=1.0.0->pytearcat) (4.13.5)\n",
            "Requirement already satisfied: bleach!=5.0.0 in /usr/local/lib/python3.12/dist-packages (from bleach[css]!=5.0.0->nbconvert->jupyter>=1.0.0->pytearcat) (6.2.0)\n",
            "Requirement already satisfied: defusedxml in /usr/local/lib/python3.12/dist-packages (from nbconvert->jupyter>=1.0.0->pytearcat) (0.7.1)\n",
            "Requirement already satisfied: jupyterlab-pygments in /usr/local/lib/python3.12/dist-packages (from nbconvert->jupyter>=1.0.0->pytearcat) (0.3.0)\n",
            "Requirement already satisfied: markupsafe>=2.0 in /usr/local/lib/python3.12/dist-packages (from nbconvert->jupyter>=1.0.0->pytearcat) (3.0.3)\n",
            "Requirement already satisfied: mistune<4,>=2.0.3 in /usr/local/lib/python3.12/dist-packages (from nbconvert->jupyter>=1.0.0->pytearcat) (3.1.4)\n",
            "Requirement already satisfied: nbclient>=0.5.0 in /usr/local/lib/python3.12/dist-packages (from nbconvert->jupyter>=1.0.0->pytearcat) (0.10.2)\n",
            "Requirement already satisfied: nbformat>=5.7 in /usr/local/lib/python3.12/dist-packages (from nbconvert->jupyter>=1.0.0->pytearcat) (5.10.4)\n",
            "Requirement already satisfied: pandocfilters>=1.4.1 in /usr/local/lib/python3.12/dist-packages (from nbconvert->jupyter>=1.0.0->pytearcat) (1.5.1)\n",
            "Requirement already satisfied: argon2-cffi in /usr/local/lib/python3.12/dist-packages (from notebook->jupyter>=1.0.0->pytearcat) (25.1.0)\n",
            "Requirement already satisfied: Send2Trash>=1.8.0 in /usr/local/lib/python3.12/dist-packages (from notebook->jupyter>=1.0.0->pytearcat) (1.8.3)\n",
            "Requirement already satisfied: terminado>=0.8.3 in /usr/local/lib/python3.12/dist-packages (from notebook->jupyter>=1.0.0->pytearcat) (0.18.1)\n",
            "Requirement already satisfied: prometheus-client in /usr/local/lib/python3.12/dist-packages (from notebook->jupyter>=1.0.0->pytearcat) (0.23.1)\n",
            "Requirement already satisfied: nbclassic>=0.4.7 in /usr/local/lib/python3.12/dist-packages (from notebook->jupyter>=1.0.0->pytearcat) (1.3.3)\n",
            "Requirement already satisfied: webencodings in /usr/local/lib/python3.12/dist-packages (from bleach!=5.0.0->bleach[css]!=5.0.0->nbconvert->jupyter>=1.0.0->pytearcat) (0.5.1)\n",
            "Requirement already satisfied: tinycss2<1.5,>=1.1.0 in /usr/local/lib/python3.12/dist-packages (from bleach[css]!=5.0.0->nbconvert->jupyter>=1.0.0->pytearcat) (1.4.0)\n",
            "Requirement already satisfied: anyio in /usr/local/lib/python3.12/dist-packages (from httpx<1,>=0.25.0->jupyterlab->jupyter>=1.0.0->pytearcat) (4.11.0)\n",
            "Requirement already satisfied: certifi in /usr/local/lib/python3.12/dist-packages (from httpx<1,>=0.25.0->jupyterlab->jupyter>=1.0.0->pytearcat) (2025.10.5)\n",
            "Requirement already satisfied: httpcore==1.* in /usr/local/lib/python3.12/dist-packages (from httpx<1,>=0.25.0->jupyterlab->jupyter>=1.0.0->pytearcat) (1.0.9)\n",
            "Requirement already satisfied: idna in /usr/local/lib/python3.12/dist-packages (from httpx<1,>=0.25.0->jupyterlab->jupyter>=1.0.0->pytearcat) (3.11)\n",
            "Requirement already satisfied: h11>=0.16 in /usr/local/lib/python3.12/dist-packages (from httpcore==1.*->httpx<1,>=0.25.0->jupyterlab->jupyter>=1.0.0->pytearcat) (0.16.0)\n",
            "Requirement already satisfied: decorator in /usr/local/lib/python3.12/dist-packages (from ipython>=7.23.1->ipykernel->jupyter>=1.0.0->pytearcat) (4.4.2)\n",
            "Requirement already satisfied: pickleshare in /usr/local/lib/python3.12/dist-packages (from ipython>=7.23.1->ipykernel->jupyter>=1.0.0->pytearcat) (0.7.5)\n",
            "Requirement already satisfied: backcall in /usr/local/lib/python3.12/dist-packages (from ipython>=7.23.1->ipykernel->jupyter>=1.0.0->pytearcat) (0.2.0)\n",
            "Requirement already satisfied: pexpect>4.3 in /usr/local/lib/python3.12/dist-packages (from ipython>=7.23.1->ipykernel->jupyter>=1.0.0->pytearcat) (4.9.0)\n",
            "Requirement already satisfied: entrypoints in /usr/local/lib/python3.12/dist-packages (from jupyter-client>=6.1.12->ipykernel->jupyter>=1.0.0->pytearcat) (0.4)\n",
            "Requirement already satisfied: python-dateutil>=2.8.2 in /usr/local/lib/python3.12/dist-packages (from jupyter-client>=6.1.12->ipykernel->jupyter>=1.0.0->pytearcat) (2.9.0.post0)\n",
            "Requirement already satisfied: platformdirs>=2.5 in /usr/local/lib/python3.12/dist-packages (from jupyter-core!=5.0.*,>=4.12->jupyter-console->jupyter>=1.0.0->pytearcat) (4.5.0)\n",
            "Requirement already satisfied: jupyter-events>=0.9.0 in /usr/local/lib/python3.12/dist-packages (from jupyter-server<3,>=2.4.0->jupyterlab->jupyter>=1.0.0->pytearcat) (0.12.0)\n",
            "Requirement already satisfied: jupyter-server-terminals>=0.4.4 in /usr/local/lib/python3.12/dist-packages (from jupyter-server<3,>=2.4.0->jupyterlab->jupyter>=1.0.0->pytearcat) (0.5.3)\n",
            "Requirement already satisfied: overrides>=5.0 in /usr/local/lib/python3.12/dist-packages (from jupyter-server<3,>=2.4.0->jupyterlab->jupyter>=1.0.0->pytearcat) (7.7.0)\n",
            "Requirement already satisfied: websocket-client>=1.7 in /usr/local/lib/python3.12/dist-packages (from jupyter-server<3,>=2.4.0->jupyterlab->jupyter>=1.0.0->pytearcat) (1.9.0)\n",
            "Requirement already satisfied: argon2-cffi-bindings in /usr/local/lib/python3.12/dist-packages (from argon2-cffi->notebook->jupyter>=1.0.0->pytearcat) (25.1.0)\n",
            "Requirement already satisfied: babel>=2.10 in /usr/local/lib/python3.12/dist-packages (from jupyterlab-server<3,>=2.27.1->jupyterlab->jupyter>=1.0.0->pytearcat) (2.17.0)\n",
            "Requirement already satisfied: json5>=0.9.0 in /usr/local/lib/python3.12/dist-packages (from jupyterlab-server<3,>=2.27.1->jupyterlab->jupyter>=1.0.0->pytearcat) (0.12.1)\n",
            "Requirement already satisfied: jsonschema>=4.18.0 in /usr/local/lib/python3.12/dist-packages (from jupyterlab-server<3,>=2.27.1->jupyterlab->jupyter>=1.0.0->pytearcat) (4.25.1)\n",
            "Requirement already satisfied: requests>=2.31 in /usr/local/lib/python3.12/dist-packages (from jupyterlab-server<3,>=2.27.1->jupyterlab->jupyter>=1.0.0->pytearcat) (2.32.4)\n",
            "Requirement already satisfied: fastjsonschema>=2.15 in /usr/local/lib/python3.12/dist-packages (from nbformat>=5.7->nbconvert->jupyter>=1.0.0->pytearcat) (2.21.2)\n",
            "Requirement already satisfied: wcwidth in /usr/local/lib/python3.12/dist-packages (from prompt-toolkit>=3.0.30->jupyter-console->jupyter>=1.0.0->pytearcat) (0.2.14)\n",
            "Requirement already satisfied: ptyprocess in /usr/local/lib/python3.12/dist-packages (from terminado>=0.8.3->notebook->jupyter>=1.0.0->pytearcat) (0.7.0)\n",
            "Requirement already satisfied: soupsieve>1.2 in /usr/local/lib/python3.12/dist-packages (from beautifulsoup4->nbconvert->jupyter>=1.0.0->pytearcat) (2.8)\n",
            "Requirement already satisfied: typing-extensions>=4.0.0 in /usr/local/lib/python3.12/dist-packages (from beautifulsoup4->nbconvert->jupyter>=1.0.0->pytearcat) (4.15.0)\n",
            "Requirement already satisfied: sniffio>=1.1 in /usr/local/lib/python3.12/dist-packages (from anyio->httpx<1,>=0.25.0->jupyterlab->jupyter>=1.0.0->pytearcat) (1.3.1)\n",
            "Requirement already satisfied: attrs>=22.2.0 in /usr/local/lib/python3.12/dist-packages (from jsonschema>=4.18.0->jupyterlab-server<3,>=2.27.1->jupyterlab->jupyter>=1.0.0->pytearcat) (25.4.0)\n",
            "Requirement already satisfied: jsonschema-specifications>=2023.03.6 in /usr/local/lib/python3.12/dist-packages (from jsonschema>=4.18.0->jupyterlab-server<3,>=2.27.1->jupyterlab->jupyter>=1.0.0->pytearcat) (2025.9.1)\n",
            "Requirement already satisfied: referencing>=0.28.4 in /usr/local/lib/python3.12/dist-packages (from jsonschema>=4.18.0->jupyterlab-server<3,>=2.27.1->jupyterlab->jupyter>=1.0.0->pytearcat) (0.37.0)\n",
            "Requirement already satisfied: rpds-py>=0.7.1 in /usr/local/lib/python3.12/dist-packages (from jsonschema>=4.18.0->jupyterlab-server<3,>=2.27.1->jupyterlab->jupyter>=1.0.0->pytearcat) (0.27.1)\n",
            "Requirement already satisfied: python-json-logger>=2.0.4 in /usr/local/lib/python3.12/dist-packages (from jupyter-events>=0.9.0->jupyter-server<3,>=2.4.0->jupyterlab->jupyter>=1.0.0->pytearcat) (4.0.0)\n",
            "Requirement already satisfied: pyyaml>=5.3 in /usr/local/lib/python3.12/dist-packages (from jupyter-events>=0.9.0->jupyter-server<3,>=2.4.0->jupyterlab->jupyter>=1.0.0->pytearcat) (6.0.3)\n",
            "Requirement already satisfied: rfc3339-validator in /usr/local/lib/python3.12/dist-packages (from jupyter-events>=0.9.0->jupyter-server<3,>=2.4.0->jupyterlab->jupyter>=1.0.0->pytearcat) (0.1.4)\n",
            "Requirement already satisfied: rfc3986-validator>=0.1.1 in /usr/local/lib/python3.12/dist-packages (from jupyter-events>=0.9.0->jupyter-server<3,>=2.4.0->jupyterlab->jupyter>=1.0.0->pytearcat) (0.1.1)\n",
            "Requirement already satisfied: six>=1.5 in /usr/local/lib/python3.12/dist-packages (from python-dateutil>=2.8.2->jupyter-client>=6.1.12->ipykernel->jupyter>=1.0.0->pytearcat) (1.17.0)\n",
            "Requirement already satisfied: charset_normalizer<4,>=2 in /usr/local/lib/python3.12/dist-packages (from requests>=2.31->jupyterlab-server<3,>=2.27.1->jupyterlab->jupyter>=1.0.0->pytearcat) (3.4.4)\n",
            "Requirement already satisfied: urllib3<3,>=1.21.1 in /usr/local/lib/python3.12/dist-packages (from requests>=2.31->jupyterlab-server<3,>=2.27.1->jupyterlab->jupyter>=1.0.0->pytearcat) (2.5.0)\n",
            "Requirement already satisfied: cffi>=1.0.1 in /usr/local/lib/python3.12/dist-packages (from argon2-cffi-bindings->argon2-cffi->notebook->jupyter>=1.0.0->pytearcat) (2.0.0)\n",
            "Requirement already satisfied: pycparser in /usr/local/lib/python3.12/dist-packages (from cffi>=1.0.1->argon2-cffi-bindings->argon2-cffi->notebook->jupyter>=1.0.0->pytearcat) (2.23)\n",
            "Requirement already satisfied: fqdn in /usr/local/lib/python3.12/dist-packages (from jsonschema[format-nongpl]>=4.18.0->jupyter-events>=0.9.0->jupyter-server<3,>=2.4.0->jupyterlab->jupyter>=1.0.0->pytearcat) (1.5.1)\n",
            "Requirement already satisfied: isoduration in /usr/local/lib/python3.12/dist-packages (from jsonschema[format-nongpl]>=4.18.0->jupyter-events>=0.9.0->jupyter-server<3,>=2.4.0->jupyterlab->jupyter>=1.0.0->pytearcat) (20.11.0)\n",
            "Requirement already satisfied: jsonpointer>1.13 in /usr/local/lib/python3.12/dist-packages (from jsonschema[format-nongpl]>=4.18.0->jupyter-events>=0.9.0->jupyter-server<3,>=2.4.0->jupyterlab->jupyter>=1.0.0->pytearcat) (3.0.0)\n",
            "Requirement already satisfied: rfc3987-syntax>=1.1.0 in /usr/local/lib/python3.12/dist-packages (from jsonschema[format-nongpl]>=4.18.0->jupyter-events>=0.9.0->jupyter-server<3,>=2.4.0->jupyterlab->jupyter>=1.0.0->pytearcat) (1.1.0)\n",
            "Requirement already satisfied: uri-template in /usr/local/lib/python3.12/dist-packages (from jsonschema[format-nongpl]>=4.18.0->jupyter-events>=0.9.0->jupyter-server<3,>=2.4.0->jupyterlab->jupyter>=1.0.0->pytearcat) (1.3.0)\n",
            "Requirement already satisfied: webcolors>=24.6.0 in /usr/local/lib/python3.12/dist-packages (from jsonschema[format-nongpl]>=4.18.0->jupyter-events>=0.9.0->jupyter-server<3,>=2.4.0->jupyterlab->jupyter>=1.0.0->pytearcat) (24.11.1)\n",
            "Requirement already satisfied: lark>=1.2.2 in /usr/local/lib/python3.12/dist-packages (from rfc3987-syntax>=1.1.0->jsonschema[format-nongpl]>=4.18.0->jupyter-events>=0.9.0->jupyter-server<3,>=2.4.0->jupyterlab->jupyter>=1.0.0->pytearcat) (1.3.0)\n",
            "Requirement already satisfied: arrow>=0.15.0 in /usr/local/lib/python3.12/dist-packages (from isoduration->jsonschema[format-nongpl]>=4.18.0->jupyter-events>=0.9.0->jupyter-server<3,>=2.4.0->jupyterlab->jupyter>=1.0.0->pytearcat) (1.4.0)\n",
            "Requirement already satisfied: tzdata in /usr/local/lib/python3.12/dist-packages (from arrow>=0.15.0->isoduration->jsonschema[format-nongpl]>=4.18.0->jupyter-events>=0.9.0->jupyter-server<3,>=2.4.0->jupyterlab->jupyter>=1.0.0->pytearcat) (2025.2)\n"
          ]
        }
      ]
    },
    {
      "cell_type": "code",
      "source": [
        "import pytearcat as pt\n",
        "# Define the coordinates to be used\n",
        "t,r,theta,phi = pt.coords('t,r,theta,phi')\n",
        "# Define any constant (more than one constant can be defined at the same time)\n",
        "Phi = pt.fun('Phi','r')\n",
        "b = pt.fun('b','r')\n",
        "g = pt.metric(\n",
        "    \"ds2 = +exp(2*Phi)*dt**2 - dr**2/(1 - b/r) - r**2*(dtheta**2 - sin(theta)**2*dphi**2)\"\n",
        ")"
      ],
      "metadata": {
        "colab": {
          "base_uri": "https://localhost:8080/",
          "height": 326
        },
        "id": "bONia4whIw24",
        "outputId": "151de8eb-184c-41af-8930-0fe9ddfc8a8f"
      },
      "execution_count": 21,
      "outputs": [
        {
          "output_type": "stream",
          "name": "stdout",
          "text": [
            "Remember that the time coordinate must be the first coordinate.\n",
            "Function Phi(r) is already defined\n",
            "Function b(r) is already defined\n",
            "The metric has already been defined. Do you want to overwrite it? (yes/no)yes\n",
            "The metric has been redefined. Standard tensors have been deleted.\n",
            "\n",
            "Dimension = 4\n",
            "Coordinates = t,r,theta,phi\n",
            "Metric defined successfully: \n",
            "\n"
          ]
        },
        {
          "output_type": "display_data",
          "data": {
            "text/plain": [
              "<IPython.core.display.Math object>"
            ],
            "text/latex": "$\\displaystyle ds^2 = e^{2 \\Phi{\\left(r \\right)}} \\cdot dt^2- \\frac{1}{1 - \\frac{b{\\left(r \\right)}}{r}} \\cdot dr^2- r^{2} \\cdot d\\theta^2+r^{2} \\sin^{2}{\\left(\\theta \\right)} \\cdot d\\phi^2$"
          },
          "metadata": {}
        },
        {
          "output_type": "display_data",
          "data": {
            "text/plain": [
              "⎡ 2⋅Φ(r)                           ⎤\n",
              "⎢ℯ           0       0       0     ⎥\n",
              "⎢                                  ⎥\n",
              "⎢           -1                     ⎥\n",
              "⎢   0     ────────   0       0     ⎥\n",
              "⎢             b(r)                 ⎥\n",
              "⎢         1 - ────                 ⎥\n",
              "⎢              r                   ⎥\n",
              "⎢                                  ⎥\n",
              "⎢                     2            ⎥\n",
              "⎢   0        0      -r       0     ⎥\n",
              "⎢                                  ⎥\n",
              "⎢                         2    2   ⎥\n",
              "⎣   0        0       0   r ⋅sin (θ)⎦"
            ],
            "text/latex": "$\\displaystyle \\left[\\begin{matrix}e^{2 \\Phi{\\left(r \\right)}} & 0 & 0 & 0\\\\0 & - \\frac{1}{1 - \\frac{b{\\left(r \\right)}}{r}} & 0 & 0\\\\0 & 0 & - r^{2} & 0\\\\0 & 0 & 0 & r^{2} \\sin^{2}{\\left(\\theta \\right)}\\end{matrix}\\right]$"
          },
          "metadata": {}
        }
      ]
    },
    {
      "cell_type": "code",
      "source": [],
      "metadata": {
        "id": "gndaoWXJ8jaO"
      },
      "execution_count": 21,
      "outputs": []
    },
    {
      "cell_type": "code",
      "source": [
        "Chr = pt.christoffel()\n",
        "\n",
        "Chr.display()"
      ],
      "metadata": {
        "colab": {
          "base_uri": "https://localhost:8080/",
          "height": 841,
          "referenced_widgets": [
            "825501dc246f440a8867aa755d9caab8",
            "6080dd5e87474b5ca51fd067aa5de3cf",
            "837f86546b1142bda0473bc8b6c0abe6",
            "6c9c64602f6f4f0c979f3faefd0abf77",
            "8b395b711b1a4b049810a0f10bde6cee",
            "d840f5c8318849df9c9bf33745c505a8",
            "a63833fbac574e128d769a39194ab551",
            "10e9f2f81f044deb999330a625f23538",
            "122a21130e1a40ccb1c38eebf0e4f115",
            "bf2c784ffa8343cfaef0b6c3c7b7ed8d",
            "bf2a03b2b446483ea5efbb3ec9ebf106"
          ]
        },
        "id": "EThE4SyfI00Y",
        "outputId": "df283634-7c00-4b62-c164-a242a03f47d9"
      },
      "execution_count": 22,
      "outputs": [
        {
          "output_type": "display_data",
          "data": {
            "text/plain": [
              "<IPython.core.display.Latex object>"
            ],
            "text/latex": "Christoffel $\\Gamma_{\\alpha \\beta \\gamma}$ and $\\Gamma^{\\alpha}_{\\beta \\gamma}$"
          },
          "metadata": {}
        },
        {
          "output_type": "display_data",
          "data": {
            "text/plain": [
              "  0%|          | 0/64 [00:00<?, ?it/s]"
            ],
            "application/vnd.jupyter.widget-view+json": {
              "version_major": 2,
              "version_minor": 0,
              "model_id": "825501dc246f440a8867aa755d9caab8"
            }
          },
          "metadata": {}
        },
        {
          "output_type": "display_data",
          "data": {
            "text/plain": [
              "<IPython.core.display.Math object>"
            ],
            "text/latex": "$\\displaystyle {\\Gamma}{}_{0}\\,{}_{0}\\,{}_{1}\\, = e^{2 \\Phi{\\left(r \\right)}} \\frac{d}{d r} \\Phi{\\left(r \\right)}$"
          },
          "metadata": {}
        },
        {
          "output_type": "display_data",
          "data": {
            "text/plain": [
              "<IPython.core.display.Math object>"
            ],
            "text/latex": "$\\displaystyle {\\Gamma}{}_{0}\\,{}_{1}\\,{}_{0}\\, = e^{2 \\Phi{\\left(r \\right)}} \\frac{d}{d r} \\Phi{\\left(r \\right)}$"
          },
          "metadata": {}
        },
        {
          "output_type": "display_data",
          "data": {
            "text/plain": [
              "<IPython.core.display.Math object>"
            ],
            "text/latex": "$\\displaystyle {\\Gamma}{}_{1}\\,{}_{0}\\,{}_{0}\\, = - e^{2 \\Phi{\\left(r \\right)}} \\frac{d}{d r} \\Phi{\\left(r \\right)}$"
          },
          "metadata": {}
        },
        {
          "output_type": "display_data",
          "data": {
            "text/plain": [
              "<IPython.core.display.Math object>"
            ],
            "text/latex": "$\\displaystyle {\\Gamma}{}_{1}\\,{}_{1}\\,{}_{1}\\, = - \\frac{r \\frac{d}{d r} b{\\left(r \\right)} - b{\\left(r \\right)}}{2 \\left(r - b{\\left(r \\right)}\\right)^{2}}$"
          },
          "metadata": {}
        },
        {
          "output_type": "display_data",
          "data": {
            "text/plain": [
              "<IPython.core.display.Math object>"
            ],
            "text/latex": "$\\displaystyle {\\Gamma}{}_{1}\\,{}_{2}\\,{}_{2}\\, = r$"
          },
          "metadata": {}
        },
        {
          "output_type": "display_data",
          "data": {
            "text/plain": [
              "<IPython.core.display.Math object>"
            ],
            "text/latex": "$\\displaystyle {\\Gamma}{}_{1}\\,{}_{3}\\,{}_{3}\\, = - r \\sin^{2}{\\left(\\theta \\right)}$"
          },
          "metadata": {}
        },
        {
          "output_type": "display_data",
          "data": {
            "text/plain": [
              "<IPython.core.display.Math object>"
            ],
            "text/latex": "$\\displaystyle {\\Gamma}{}_{2}\\,{}_{1}\\,{}_{2}\\, = - r$"
          },
          "metadata": {}
        },
        {
          "output_type": "display_data",
          "data": {
            "text/plain": [
              "<IPython.core.display.Math object>"
            ],
            "text/latex": "$\\displaystyle {\\Gamma}{}_{2}\\,{}_{2}\\,{}_{1}\\, = - r$"
          },
          "metadata": {}
        },
        {
          "output_type": "display_data",
          "data": {
            "text/plain": [
              "<IPython.core.display.Math object>"
            ],
            "text/latex": "$\\displaystyle {\\Gamma}{}_{2}\\,{}_{3}\\,{}_{3}\\, = - r^{2} \\sin{\\left(\\theta \\right)} \\cos{\\left(\\theta \\right)}$"
          },
          "metadata": {}
        },
        {
          "output_type": "display_data",
          "data": {
            "text/plain": [
              "<IPython.core.display.Math object>"
            ],
            "text/latex": "$\\displaystyle {\\Gamma}{}_{3}\\,{}_{1}\\,{}_{3}\\, = r \\sin^{2}{\\left(\\theta \\right)}$"
          },
          "metadata": {}
        },
        {
          "output_type": "display_data",
          "data": {
            "text/plain": [
              "<IPython.core.display.Math object>"
            ],
            "text/latex": "$\\displaystyle {\\Gamma}{}_{3}\\,{}_{2}\\,{}_{3}\\, = r^{2} \\sin{\\left(\\theta \\right)} \\cos{\\left(\\theta \\right)}$"
          },
          "metadata": {}
        },
        {
          "output_type": "display_data",
          "data": {
            "text/plain": [
              "<IPython.core.display.Math object>"
            ],
            "text/latex": "$\\displaystyle {\\Gamma}{}_{3}\\,{}_{3}\\,{}_{1}\\, = r \\sin^{2}{\\left(\\theta \\right)}$"
          },
          "metadata": {}
        },
        {
          "output_type": "display_data",
          "data": {
            "text/plain": [
              "<IPython.core.display.Math object>"
            ],
            "text/latex": "$\\displaystyle {\\Gamma}{}_{3}\\,{}_{3}\\,{}_{2}\\, = r^{2} \\sin{\\left(\\theta \\right)} \\cos{\\left(\\theta \\right)}$"
          },
          "metadata": {}
        },
        {
          "output_type": "display_data",
          "data": {
            "text/plain": [
              "<IPython.core.display.Math object>"
            ],
            "text/latex": "$\\displaystyle {\\Gamma}{}^{0}\\,{}_{0}\\,{}_{1}\\, = \\frac{d}{d r} \\Phi{\\left(r \\right)}$"
          },
          "metadata": {}
        },
        {
          "output_type": "display_data",
          "data": {
            "text/plain": [
              "<IPython.core.display.Math object>"
            ],
            "text/latex": "$\\displaystyle {\\Gamma}{}^{0}\\,{}_{1}\\,{}_{0}\\, = \\frac{d}{d r} \\Phi{\\left(r \\right)}$"
          },
          "metadata": {}
        },
        {
          "output_type": "display_data",
          "data": {
            "text/plain": [
              "<IPython.core.display.Math object>"
            ],
            "text/latex": "$\\displaystyle {\\Gamma}{}^{1}\\,{}_{0}\\,{}_{0}\\, = \\frac{\\left(r - b{\\left(r \\right)}\\right) e^{2 \\Phi{\\left(r \\right)}} \\frac{d}{d r} \\Phi{\\left(r \\right)}}{r}$"
          },
          "metadata": {}
        },
        {
          "output_type": "display_data",
          "data": {
            "text/plain": [
              "<IPython.core.display.Math object>"
            ],
            "text/latex": "$\\displaystyle {\\Gamma}{}^{1}\\,{}_{1}\\,{}_{1}\\, = \\frac{r \\frac{d}{d r} b{\\left(r \\right)} - b{\\left(r \\right)}}{2 r \\left(r - b{\\left(r \\right)}\\right)}$"
          },
          "metadata": {}
        },
        {
          "output_type": "display_data",
          "data": {
            "text/plain": [
              "<IPython.core.display.Math object>"
            ],
            "text/latex": "$\\displaystyle {\\Gamma}{}^{1}\\,{}_{2}\\,{}_{2}\\, = - r + b{\\left(r \\right)}$"
          },
          "metadata": {}
        },
        {
          "output_type": "display_data",
          "data": {
            "text/plain": [
              "<IPython.core.display.Math object>"
            ],
            "text/latex": "$\\displaystyle {\\Gamma}{}^{1}\\,{}_{3}\\,{}_{3}\\, = \\left(r - b{\\left(r \\right)}\\right) \\sin^{2}{\\left(\\theta \\right)}$"
          },
          "metadata": {}
        },
        {
          "output_type": "display_data",
          "data": {
            "text/plain": [
              "<IPython.core.display.Math object>"
            ],
            "text/latex": "$\\displaystyle {\\Gamma}{}^{2}\\,{}_{1}\\,{}_{2}\\, = \\frac{1}{r}$"
          },
          "metadata": {}
        },
        {
          "output_type": "display_data",
          "data": {
            "text/plain": [
              "<IPython.core.display.Math object>"
            ],
            "text/latex": "$\\displaystyle {\\Gamma}{}^{2}\\,{}_{2}\\,{}_{1}\\, = \\frac{1}{r}$"
          },
          "metadata": {}
        },
        {
          "output_type": "display_data",
          "data": {
            "text/plain": [
              "<IPython.core.display.Math object>"
            ],
            "text/latex": "$\\displaystyle {\\Gamma}{}^{2}\\,{}_{3}\\,{}_{3}\\, = \\sin{\\left(\\theta \\right)} \\cos{\\left(\\theta \\right)}$"
          },
          "metadata": {}
        },
        {
          "output_type": "display_data",
          "data": {
            "text/plain": [
              "<IPython.core.display.Math object>"
            ],
            "text/latex": "$\\displaystyle {\\Gamma}{}^{3}\\,{}_{1}\\,{}_{3}\\, = \\frac{1}{r}$"
          },
          "metadata": {}
        },
        {
          "output_type": "display_data",
          "data": {
            "text/plain": [
              "<IPython.core.display.Math object>"
            ],
            "text/latex": "$\\displaystyle {\\Gamma}{}^{3}\\,{}_{2}\\,{}_{3}\\, = \\frac{\\cos{\\left(\\theta \\right)}}{\\sin{\\left(\\theta \\right)}}$"
          },
          "metadata": {}
        },
        {
          "output_type": "display_data",
          "data": {
            "text/plain": [
              "<IPython.core.display.Math object>"
            ],
            "text/latex": "$\\displaystyle {\\Gamma}{}^{3}\\,{}_{3}\\,{}_{1}\\, = \\frac{1}{r}$"
          },
          "metadata": {}
        },
        {
          "output_type": "display_data",
          "data": {
            "text/plain": [
              "<IPython.core.display.Math object>"
            ],
            "text/latex": "$\\displaystyle {\\Gamma}{}^{3}\\,{}_{3}\\,{}_{2}\\, = \\frac{\\cos{\\left(\\theta \\right)}}{\\sin{\\left(\\theta \\right)}}$"
          },
          "metadata": {}
        }
      ]
    },
    {
      "cell_type": "code",
      "source": [
        "# To calculate the default combination of the Ricci Tensor, i.e., (_,_):\n",
        "Ric = pt.ricci()\n",
        "\n",
        "# To calculate all the combinations:\n",
        "# Ric = pt.ricci(All = True)\n",
        "\n",
        "# To calculate the Ricci Scalar:\n",
        "RicS = pt.riccis()"
      ],
      "metadata": {
        "colab": {
          "base_uri": "https://localhost:8080/",
          "height": 165,
          "referenced_widgets": [
            "288ab14d15f64827b12682662702477d",
            "9843bc74306043e3ba7a32f8e693499d",
            "9662d03fe58943978d4040b31e3fc99d",
            "093c33cfcebb46d282359b9b49d16e42",
            "d667065b15cd4fbc86154b146ec2d786",
            "51ffea9c5553404f9c74e93a94db113b",
            "dd01a7f618264d11a3516836b5626890",
            "a44a4e54a2a74cab8aff62a78c292cab",
            "19c4cf8435ab40b29982dd1c14b72e50",
            "234ec662e8c7472a85a540cb67b306b5",
            "b3e99a17a84342f1a13389ae5754468a",
            "563dd4273bea4cf0a2da70a2aab9aac1",
            "f8a64116c6654041a19badc3591165bb",
            "63783daa880b489a8df1b0ea5ef33d58",
            "a4ea9250409f4bd5aa9d41ee169ce5e3",
            "653db073879c4cbe935e0fa3164af0f1",
            "af62692fa3dc4be0afd77ee34394ce77",
            "69f622968aee4040bda0319a143ed570",
            "266cfac262084124a09c313acdd6688e",
            "9ec6a787ae084fe4b114e1743516d9e6",
            "208dec6d4f3746028bf7e5fb5e9ed9e7",
            "57e3a9b6ff204bbc81f46047b3752ad4",
            "a7f3f500f1524a32993c5847f5059c5c",
            "ca483108597c4050bc946106623aeabc",
            "57858898461940a1a7ec0af090dfcac2",
            "cea81d75e1ee4d8794c1cead26bf407d",
            "8017c313066649c9a75b8cdf9d3d5bba",
            "3cf54166e3b74b1fa30c6d471bdd8e4f",
            "41a357c6df3445cf9eda84e740713f8b",
            "bd657e73a22f49829f25b8af8930ffb7",
            "8358852a84354190aca6257cb85804da",
            "a806526be56249a2ab5b1707e4afe830",
            "60dda0705ec447368dfcef8e1c463388"
          ]
        },
        "id": "mE0-oQugI4Sb",
        "outputId": "cc5aee69-389e-4f74-ff77-c8940d544752"
      },
      "execution_count": 23,
      "outputs": [
        {
          "output_type": "display_data",
          "data": {
            "text/plain": [
              "<IPython.core.display.Latex object>"
            ],
            "text/latex": "Riemann Tensor $R^{\\alpha}_{\\beta \\gamma \\delta}$"
          },
          "metadata": {}
        },
        {
          "output_type": "display_data",
          "data": {
            "text/plain": [
              "  0%|          | 0/256 [00:00<?, ?it/s]"
            ],
            "application/vnd.jupyter.widget-view+json": {
              "version_major": 2,
              "version_minor": 0,
              "model_id": "288ab14d15f64827b12682662702477d"
            }
          },
          "metadata": {}
        },
        {
          "output_type": "display_data",
          "data": {
            "text/plain": [
              "<IPython.core.display.Latex object>"
            ],
            "text/latex": "Ricci Tensor $R_{\\alpha \\beta}$"
          },
          "metadata": {}
        },
        {
          "output_type": "display_data",
          "data": {
            "text/plain": [
              "  0%|          | 0/16 [00:00<?, ?it/s]"
            ],
            "application/vnd.jupyter.widget-view+json": {
              "version_major": 2,
              "version_minor": 0,
              "model_id": "563dd4273bea4cf0a2da70a2aab9aac1"
            }
          },
          "metadata": {}
        },
        {
          "output_type": "display_data",
          "data": {
            "text/plain": [
              "  0%|          | 0/16 [00:00<?, ?it/s]"
            ],
            "application/vnd.jupyter.widget-view+json": {
              "version_major": 2,
              "version_minor": 0,
              "model_id": "a7f3f500f1524a32993c5847f5059c5c"
            }
          },
          "metadata": {}
        },
        {
          "output_type": "display_data",
          "data": {
            "text/plain": [
              "<IPython.core.display.Latex object>"
            ],
            "text/latex": "Ricci Scalar $R$"
          },
          "metadata": {}
        }
      ]
    },
    {
      "cell_type": "code",
      "source": [
        "# To display the Ricci Tensor (by default it displays the tensor with all lower indices):\n",
        "Ric.display()\n",
        "\n",
        "# To display the Ricci Scalar:\n",
        "pt.display(RicS)"
      ],
      "metadata": {
        "colab": {
          "base_uri": "https://localhost:8080/",
          "height": 179
        },
        "id": "ydRmBJ7BJJ7u",
        "outputId": "20d56ba0-9879-4a1a-8127-b35ed26abd9e"
      },
      "execution_count": 24,
      "outputs": [
        {
          "output_type": "display_data",
          "data": {
            "text/plain": [
              "⎡⎛               2         2                             2             2       ↪\n",
              "⎢⎜   2 ⎛d       ⎞       2 d                    ⎛d       ⎞             d        ↪\n",
              "⎢⎜2⋅r ⋅⎜──(Φ(r))⎟  + 2⋅r ⋅───(Φ(r)) - 2⋅r⋅b(r)⋅⎜──(Φ(r))⎟  - 2⋅r⋅b(r)⋅───(Φ(r) ↪\n",
              "⎢⎜     ⎝dr      ⎠           2                  ⎝dr      ⎠               2      ↪\n",
              "⎢⎝                        dr                                          dr       ↪\n",
              "⎢───────────────────────────────────────────────────────────────────────────── ↪\n",
              "⎢                                                                        2     ↪\n",
              "⎢                                                                     2⋅r      ↪\n",
              "⎢                                                                              ↪\n",
              "⎢                                                                              ↪\n",
              "⎢                                                                              ↪\n",
              "⎢                                                                              ↪\n",
              "⎢                                                                              ↪\n",
              "⎢                                                                              ↪\n",
              "⎢                                                                      0       ↪\n",
              "⎢                                                                              ↪\n",
              "⎢                                                                              ↪\n",
              "⎢                                                                              ↪\n",
              "⎢                                                                              ↪\n",
              "⎢                                                                              ↪\n",
              "⎢                                                                              ↪\n",
              "⎢                                                                      0       ↪\n",
              "⎢                                                                              ↪\n",
              "⎢                                                                              ↪\n",
              "⎢                                                                              ↪\n",
              "⎢                                                                              ↪\n",
              "⎢                                                                              ↪\n",
              "⎢                                                                      0       ↪\n",
              "⎣                                                                              ↪\n",
              "\n",
              "↪                                                         ⎞                    ↪\n",
              "↪       d        d              d                 d       ⎟  2⋅Φ(r)            ↪\n",
              "↪ ) - r⋅──(Φ(r))⋅──(b(r)) + 4⋅r⋅──(Φ(r)) - 3⋅b(r)⋅──(Φ(r))⎟⋅ℯ                  ↪\n",
              "↪       dr       dr             dr                dr      ⎟                    ↪\n",
              "↪                                                         ⎠                    ↪\n",
              "↪ ─────────────────────────────────────────────────────────────────            ↪\n",
              "↪                                                                              ↪\n",
              "↪                                                                              ↪\n",
              "↪                                                                              ↪\n",
              "↪                                                                     ⎛        ↪\n",
              "↪                                                                     ⎜   3 ⎛d ↪\n",
              "↪                                                                    -⎜2⋅r ⋅⎜─ ↪\n",
              "↪                                                                     ⎜     ⎝d ↪\n",
              "↪                                                                     ⎝        ↪\n",
              "↪                                                                    ───────── ↪\n",
              "↪                                                                              ↪\n",
              "↪                                                                              ↪\n",
              "↪                                                                              ↪\n",
              "↪                                                                              ↪\n",
              "↪                                                                              ↪\n",
              "↪                                                                              ↪\n",
              "↪                                                                              ↪\n",
              "↪                                                                              ↪\n",
              "↪                                                                              ↪\n",
              "↪                                                                              ↪\n",
              "↪                                                                              ↪\n",
              "↪                                                                              ↪\n",
              "↪                                                                              ↪\n",
              "↪                                                                              ↪\n",
              "\n",
              "↪                                                                              ↪\n",
              "↪                                                                              ↪\n",
              "↪                                                                              ↪\n",
              "↪                                                                              ↪\n",
              "↪                                                                              ↪\n",
              "↪                                                                 0            ↪\n",
              "↪                                                                              ↪\n",
              "↪                                                                              ↪\n",
              "↪                                                                              ↪\n",
              "↪         2         2                              2              2            ↪\n",
              "↪        ⎞       3 d              2      ⎛d       ⎞       2      d             ↪\n",
              "↪ ─(Φ(r))⎟  + 2⋅r ⋅───(Φ(r)) - 2⋅r ⋅b(r)⋅⎜──(Φ(r))⎟  - 2⋅r ⋅b(r)⋅───(Φ(r)) - r ↪\n",
              "↪ r      ⎠           2                   ⎝dr      ⎠                2           ↪\n",
              "↪                  dr                                            dr            ↪\n",
              "↪ ──────────────────────────────────────────────────────────────────────────── ↪\n",
              "↪                                                             2                ↪\n",
              "↪                                                          2⋅r ⋅(r - b(r))     ↪\n",
              "↪                                                                              ↪\n",
              "↪                                                                              ↪\n",
              "↪                                                                              ↪\n",
              "↪                                                                              ↪\n",
              "↪                                                                 0            ↪\n",
              "↪                                                                              ↪\n",
              "↪                                                                              ↪\n",
              "↪                                                                              ↪\n",
              "↪                                                                              ↪\n",
              "↪                                                                              ↪\n",
              "↪                                                                 0            ↪\n",
              "↪                                                                              ↪\n",
              "\n",
              "↪                                                                              ↪\n",
              "↪                                                                              ↪\n",
              "↪                                                                              ↪\n",
              "↪                                                                              ↪\n",
              "↪                                                                              ↪\n",
              "↪                                                                              ↪\n",
              "↪                                                                              ↪\n",
              "↪                                                                              ↪\n",
              "↪                                                                              ↪\n",
              "↪                                                              ⎞               ↪\n",
              "↪ 2 d        d                 d              d                ⎟               ↪\n",
              "↪  ⋅──(Φ(r))⋅──(b(r)) + r⋅b(r)⋅──(Φ(r)) - 2⋅r⋅──(b(r)) + 2⋅b(r)⎟               ↪\n",
              "↪   dr       dr                dr             dr               ⎟               ↪\n",
              "↪                                                              ⎠               ↪\n",
              "↪ ───────────────────────────────────────────────────────────────              ↪\n",
              "↪                                                                              ↪\n",
              "↪                                                                              ↪\n",
              "↪                                                                              ↪\n",
              "↪                                                                   ⎛   2 d    ↪\n",
              "↪                                                                  -⎜2⋅r ⋅──(Φ ↪\n",
              "↪                                                                   ⎝     dr   ↪\n",
              "↪                                                                  ─────────── ↪\n",
              "↪                                                                              ↪\n",
              "↪                                                                              ↪\n",
              "↪                                                                              ↪\n",
              "↪                                                                              ↪\n",
              "↪                                                                              ↪\n",
              "↪                                                                              ↪\n",
              "↪                                                                              ↪\n",
              "\n",
              "↪                                                                              ↪\n",
              "↪                                                                              ↪\n",
              "↪                                                                              ↪\n",
              "↪                                                                              ↪\n",
              "↪                                                                              ↪\n",
              "↪                  0                                                           ↪\n",
              "↪                                                                              ↪\n",
              "↪                                                                              ↪\n",
              "↪                                                                              ↪\n",
              "↪                                                                              ↪\n",
              "↪                                                                              ↪\n",
              "↪                                                                              ↪\n",
              "↪                                                                              ↪\n",
              "↪                                                                              ↪\n",
              "↪                  0                                                           ↪\n",
              "↪                                                                              ↪\n",
              "↪                                                                              ↪\n",
              "↪                                                                              ↪\n",
              "↪                 d            d              ⎞                                ↪\n",
              "↪ (r)) - 2⋅r⋅b(r)⋅──(Φ(r)) - r⋅──(b(r)) - b(r)⎟                                ↪\n",
              "↪                 dr           dr             ⎠                                ↪\n",
              "↪ ──────────────────────────────────────────────                               ↪\n",
              "↪                 2⋅r                                                          ↪\n",
              "↪                                                                              ↪\n",
              "↪                                                 ⎛   2 d                   d  ↪\n",
              "↪                                                 ⎜2⋅r ⋅──(Φ(r)) - 2⋅r⋅b(r)⋅── ↪\n",
              "↪                                                 ⎝     dr                  dr ↪\n",
              "↪                  0                              ──────────────────────────── ↪\n",
              "↪                                                                              ↪\n",
              "\n",
              "↪                                    ⎤\n",
              "↪                                    ⎥\n",
              "↪                                    ⎥\n",
              "↪                                    ⎥\n",
              "↪                                    ⎥\n",
              "↪    0                               ⎥\n",
              "↪                                    ⎥\n",
              "↪                                    ⎥\n",
              "↪                                    ⎥\n",
              "↪                                    ⎥\n",
              "↪                                    ⎥\n",
              "↪                                    ⎥\n",
              "↪                                    ⎥\n",
              "↪                                    ⎥\n",
              "↪    0                               ⎥\n",
              "↪                                    ⎥\n",
              "↪                                    ⎥\n",
              "↪                                    ⎥\n",
              "↪                                    ⎥\n",
              "↪                                    ⎥\n",
              "↪                                    ⎥\n",
              "↪    0                               ⎥\n",
              "↪                                    ⎥\n",
              "↪                                    ⎥\n",
              "↪            d              ⎞    2   ⎥\n",
              "↪ (Φ(r)) - r⋅──(b(r)) - b(r)⎟⋅sin (θ)⎥\n",
              "↪            dr             ⎠        ⎥\n",
              "↪ ───────────────────────────────────⎥\n",
              "↪   2⋅r                              ⎦"
            ],
            "text/latex": "$\\displaystyle \\left[\\begin{matrix}\\frac{\\left(2 r^{2} \\left(\\frac{d}{d r} \\Phi{\\left(r \\right)}\\right)^{2} + 2 r^{2} \\frac{d^{2}}{d r^{2}} \\Phi{\\left(r \\right)} - 2 r b{\\left(r \\right)} \\left(\\frac{d}{d r} \\Phi{\\left(r \\right)}\\right)^{2} - 2 r b{\\left(r \\right)} \\frac{d^{2}}{d r^{2}} \\Phi{\\left(r \\right)} - r \\frac{d}{d r} \\Phi{\\left(r \\right)} \\frac{d}{d r} b{\\left(r \\right)} + 4 r \\frac{d}{d r} \\Phi{\\left(r \\right)} - 3 b{\\left(r \\right)} \\frac{d}{d r} \\Phi{\\left(r \\right)}\\right) e^{2 \\Phi{\\left(r \\right)}}}{2 r^{2}} & 0 & 0 & 0\\\\0 & - \\frac{2 r^{3} \\left(\\frac{d}{d r} \\Phi{\\left(r \\right)}\\right)^{2} + 2 r^{3} \\frac{d^{2}}{d r^{2}} \\Phi{\\left(r \\right)} - 2 r^{2} b{\\left(r \\right)} \\left(\\frac{d}{d r} \\Phi{\\left(r \\right)}\\right)^{2} - 2 r^{2} b{\\left(r \\right)} \\frac{d^{2}}{d r^{2}} \\Phi{\\left(r \\right)} - r^{2} \\frac{d}{d r} \\Phi{\\left(r \\right)} \\frac{d}{d r} b{\\left(r \\right)} + r b{\\left(r \\right)} \\frac{d}{d r} \\Phi{\\left(r \\right)} - 2 r \\frac{d}{d r} b{\\left(r \\right)} + 2 b{\\left(r \\right)}}{2 r^{2} \\left(r - b{\\left(r \\right)}\\right)} & 0 & 0\\\\0 & 0 & - \\frac{2 r^{2} \\frac{d}{d r} \\Phi{\\left(r \\right)} - 2 r b{\\left(r \\right)} \\frac{d}{d r} \\Phi{\\left(r \\right)} - r \\frac{d}{d r} b{\\left(r \\right)} - b{\\left(r \\right)}}{2 r} & 0\\\\0 & 0 & 0 & \\frac{\\left(2 r^{2} \\frac{d}{d r} \\Phi{\\left(r \\right)} - 2 r b{\\left(r \\right)} \\frac{d}{d r} \\Phi{\\left(r \\right)} - r \\frac{d}{d r} b{\\left(r \\right)} - b{\\left(r \\right)}\\right) \\sin^{2}{\\left(\\theta \\right)}}{2 r}\\end{matrix}\\right]$"
          },
          "metadata": {}
        },
        {
          "output_type": "display_data",
          "data": {
            "text/plain": [
              "<IPython.core.display.Math object>"
            ],
            "text/latex": "$\\displaystyle \\frac{2 r^{2} \\left(\\frac{d}{d r} \\Phi{\\left(r \\right)}\\right)^{2} + 2 r^{2} \\frac{d^{2}}{d r^{2}} \\Phi{\\left(r \\right)} - 2 r b{\\left(r \\right)} \\left(\\frac{d}{d r} \\Phi{\\left(r \\right)}\\right)^{2} - 2 r b{\\left(r \\right)} \\frac{d^{2}}{d r^{2}} \\Phi{\\left(r \\right)} - r \\frac{d}{d r} \\Phi{\\left(r \\right)} \\frac{d}{d r} b{\\left(r \\right)} + 4 r \\frac{d}{d r} \\Phi{\\left(r \\right)} - 3 b{\\left(r \\right)} \\frac{d}{d r} \\Phi{\\left(r \\right)} - 2 \\frac{d}{d r} b{\\left(r \\right)}}{r^{2}}$"
          },
          "metadata": {}
        }
      ]
    },
    {
      "cell_type": "code",
      "source": [
        "# To calculate the default combination of the Einstein Tensor, i.e., (_,_):\n",
        "G = pt.einstein()\n",
        "\n",
        "# To calculate all the combinations:\n",
        "# G = pt.einstein(All = True)\n",
        "\n",
        "# To display the Einstein Tensor:\n",
        "G.display()\n",
        "\n",
        "# To show the tensor components as a list:\n",
        "# G.display(aslist = True)"
      ],
      "metadata": {
        "colab": {
          "base_uri": "https://localhost:8080/",
          "height": 184,
          "referenced_widgets": [
            "1d6b4eeac5b04d41bab279bb5430eb14",
            "4287900ff7de4e66892889767fa88c66",
            "152256a86d3747f7ab2411eb8e5f34dc",
            "b9913018117644cba14233d43ee845a4",
            "336f1700af1b4f42b2d1d37255a9af0c",
            "cba6fecbd16946c183094e3f6f50d392",
            "5d67cad1600349e88114c68231983a1f",
            "d3d2829cfed64a37a70cc20d52e5ecc6",
            "efa0c4231d0b4c659842e08e4c86f3e3",
            "d2b57b6b97b64275a6bb4227afc79921",
            "2d8c54d02e2742c991c3b3c6cbcb3ac0"
          ]
        },
        "id": "j9XrDowIJblZ",
        "outputId": "d7447c61-06a3-4d63-c7b4-3a5ef2f2785c"
      },
      "execution_count": 25,
      "outputs": [
        {
          "output_type": "display_data",
          "data": {
            "text/plain": [
              "<IPython.core.display.Latex object>"
            ],
            "text/latex": "Einstein Tensor $G_{\\alpha \\beta}$"
          },
          "metadata": {}
        },
        {
          "output_type": "display_data",
          "data": {
            "text/plain": [
              "  0%|          | 0/16 [00:00<?, ?it/s]"
            ],
            "application/vnd.jupyter.widget-view+json": {
              "version_major": 2,
              "version_minor": 0,
              "model_id": "1d6b4eeac5b04d41bab279bb5430eb14"
            }
          },
          "metadata": {}
        },
        {
          "output_type": "display_data",
          "data": {
            "text/plain": [
              "⎡ 2⋅Φ(r) d                                                                     ↪\n",
              "⎢ℯ      ⋅──(b(r))                                                              ↪\n",
              "⎢        dr                                                                    ↪\n",
              "⎢────────────────                     0                                        ↪\n",
              "⎢        2                                                                     ↪\n",
              "⎢       r                                                                      ↪\n",
              "⎢                                                                              ↪\n",
              "⎢                     2 d                   d                                  ↪\n",
              "⎢                  2⋅r ⋅──(Φ(r)) - 2⋅r⋅b(r)⋅──(Φ(r)) - b(r)                    ↪\n",
              "⎢                       dr                  dr                                 ↪\n",
              "⎢       0          ────────────────────────────────────────                    ↪\n",
              "⎢                                2                                             ↪\n",
              "⎢                               r ⋅(r - b(r))                                  ↪\n",
              "⎢                                                                              ↪\n",
              "⎢                                                                           2  ↪\n",
              "⎢                                                               3 ⎛d       ⎞   ↪\n",
              "⎢                                                            2⋅r ⋅⎜──(Φ(r))⎟   ↪\n",
              "⎢                                                                 ⎝dr      ⎠   ↪\n",
              "⎢                                                                              ↪\n",
              "⎢       0                             0                      ───────────────── ↪\n",
              "⎢                                                                              ↪\n",
              "⎢                                                                              ↪\n",
              "⎢                                                                              ↪\n",
              "⎢                                                                              ↪\n",
              "⎢                                                                              ↪\n",
              "⎢                                                                              ↪\n",
              "⎢                                                                              ↪\n",
              "⎢       0                             0                                        ↪\n",
              "⎣                                                                              ↪\n",
              "\n",
              "↪                                                                              ↪\n",
              "↪                                                                              ↪\n",
              "↪                                                                              ↪\n",
              "↪                                                             0                ↪\n",
              "↪                                                                              ↪\n",
              "↪                                                                              ↪\n",
              "↪                                                                              ↪\n",
              "↪                                                                              ↪\n",
              "↪                                                                              ↪\n",
              "↪                                                                              ↪\n",
              "↪                                                             0                ↪\n",
              "↪                                                                              ↪\n",
              "↪                                                                              ↪\n",
              "↪                                                                              ↪\n",
              "↪         2                              2              2                      ↪\n",
              "↪      3 d              2      ⎛d       ⎞       2      d            2 d        ↪\n",
              "↪ + 2⋅r ⋅───(Φ(r)) - 2⋅r ⋅b(r)⋅⎜──(Φ(r))⎟  - 2⋅r ⋅b(r)⋅───(Φ(r)) - r ⋅──(Φ(r)) ↪\n",
              "↪          2                   ⎝dr      ⎠                2            dr       ↪\n",
              "↪        dr                                            dr                      ↪\n",
              "↪ ──────────────────────────────────────────────────────────────────────────── ↪\n",
              "↪                                                            2⋅r               ↪\n",
              "↪                                                                              ↪\n",
              "↪                                                                              ↪\n",
              "↪                                                                              ↪\n",
              "↪                                                                              ↪\n",
              "↪                                                                              ↪\n",
              "↪                                                                              ↪\n",
              "↪                                                             0                ↪\n",
              "↪                                                                              ↪\n",
              "\n",
              "↪                                                                              ↪\n",
              "↪                                                                              ↪\n",
              "↪                                                                              ↪\n",
              "↪                                                                              ↪\n",
              "↪                                                                              ↪\n",
              "↪                                                                              ↪\n",
              "↪                                                                              ↪\n",
              "↪                                                                              ↪\n",
              "↪                                                                              ↪\n",
              "↪                                                                              ↪\n",
              "↪                                                                              ↪\n",
              "↪                                                                              ↪\n",
              "↪                                                                              ↪\n",
              "↪                                                                              ↪\n",
              "↪                                                                              ↪\n",
              "↪  d             2 d                 d            d                            ↪\n",
              "↪ ⋅──(b(r)) + 2⋅r ⋅──(Φ(r)) - r⋅b(r)⋅──(Φ(r)) - r⋅──(b(r)) + b(r)              ↪\n",
              "↪  dr              dr                dr           dr                           ↪\n",
              "↪                                                                              ↪\n",
              "↪ ───────────────────────────────────────────────────────────────              ↪\n",
              "↪                                                                              ↪\n",
              "↪                                                                              ↪\n",
              "↪                                                                   ⎛          ↪\n",
              "↪                                                                   ⎜   3 ⎛d   ↪\n",
              "↪                                                                  -⎜2⋅r ⋅⎜──( ↪\n",
              "↪                                                                   ⎜     ⎝dr  ↪\n",
              "↪                                                                   ⎝          ↪\n",
              "↪                                                                  ─────────── ↪\n",
              "↪                                                                              ↪\n",
              "\n",
              "↪                                                                              ↪\n",
              "↪                                                                              ↪\n",
              "↪                                                                              ↪\n",
              "↪                                                                         0    ↪\n",
              "↪                                                                              ↪\n",
              "↪                                                                              ↪\n",
              "↪                                                                              ↪\n",
              "↪                                                                              ↪\n",
              "↪                                                                              ↪\n",
              "↪                                                                              ↪\n",
              "↪                                                                         0    ↪\n",
              "↪                                                                              ↪\n",
              "↪                                                                              ↪\n",
              "↪                                                                              ↪\n",
              "↪                                                                              ↪\n",
              "↪                                                                              ↪\n",
              "↪                                                                              ↪\n",
              "↪                                                                              ↪\n",
              "↪                                                                              ↪\n",
              "↪                                                                         0    ↪\n",
              "↪                                                                              ↪\n",
              "↪                                                                              ↪\n",
              "↪       2         2                              2              2              ↪\n",
              "↪      ⎞       3 d              2      ⎛d       ⎞       2      d            2  ↪\n",
              "↪ Φ(r))⎟  + 2⋅r ⋅───(Φ(r)) - 2⋅r ⋅b(r)⋅⎜──(Φ(r))⎟  - 2⋅r ⋅b(r)⋅───(Φ(r)) - r ⋅ ↪\n",
              "↪      ⎠           2                   ⎝dr      ⎠                2             ↪\n",
              "↪                dr                                            dr              ↪\n",
              "↪ ──────────────────────────────────────────────────────────────────────────── ↪\n",
              "↪                                                                        2⋅r   ↪\n",
              "\n",
              "↪                                                                              ↪\n",
              "↪                                                                              ↪\n",
              "↪                                                                              ↪\n",
              "↪                                                                              ↪\n",
              "↪                                                                              ↪\n",
              "↪                                                                              ↪\n",
              "↪                                                                              ↪\n",
              "↪                                                                              ↪\n",
              "↪                                                                              ↪\n",
              "↪                                                                              ↪\n",
              "↪                                                                              ↪\n",
              "↪                                                                              ↪\n",
              "↪                                                                              ↪\n",
              "↪                                                                              ↪\n",
              "↪                                                                              ↪\n",
              "↪                                                                              ↪\n",
              "↪                                                                              ↪\n",
              "↪                                                                              ↪\n",
              "↪                                                                              ↪\n",
              "↪                                                                              ↪\n",
              "↪                                                                              ↪\n",
              "↪                                                                              ↪\n",
              "↪                                                                        ⎞     ↪\n",
              "↪ d        d             2 d                 d            d              ⎟     ↪\n",
              "↪ ──(Φ(r))⋅──(b(r)) + 2⋅r ⋅──(Φ(r)) - r⋅b(r)⋅──(Φ(r)) - r⋅──(b(r)) + b(r)⎟⋅sin ↪\n",
              "↪ dr       dr              dr                dr           dr             ⎟     ↪\n",
              "↪                                                                        ⎠     ↪\n",
              "↪ ──────────────────────────────────────────────────────────────────────────── ↪\n",
              "↪                                                                              ↪\n",
              "\n",
              "↪      ⎤\n",
              "↪      ⎥\n",
              "↪      ⎥\n",
              "↪      ⎥\n",
              "↪      ⎥\n",
              "↪      ⎥\n",
              "↪      ⎥\n",
              "↪      ⎥\n",
              "↪      ⎥\n",
              "↪      ⎥\n",
              "↪      ⎥\n",
              "↪      ⎥\n",
              "↪      ⎥\n",
              "↪      ⎥\n",
              "↪      ⎥\n",
              "↪      ⎥\n",
              "↪      ⎥\n",
              "↪      ⎥\n",
              "↪      ⎥\n",
              "↪      ⎥\n",
              "↪      ⎥\n",
              "↪      ⎥\n",
              "↪      ⎥\n",
              "↪ 2    ⎥\n",
              "↪  (θ) ⎥\n",
              "↪      ⎥\n",
              "↪      ⎥\n",
              "↪ ─────⎥\n",
              "↪      ⎦"
            ],
            "text/latex": "$\\displaystyle \\left[\\begin{matrix}\\frac{e^{2 \\Phi{\\left(r \\right)}} \\frac{d}{d r} b{\\left(r \\right)}}{r^{2}} & 0 & 0 & 0\\\\0 & \\frac{2 r^{2} \\frac{d}{d r} \\Phi{\\left(r \\right)} - 2 r b{\\left(r \\right)} \\frac{d}{d r} \\Phi{\\left(r \\right)} - b{\\left(r \\right)}}{r^{2} \\left(r - b{\\left(r \\right)}\\right)} & 0 & 0\\\\0 & 0 & \\frac{2 r^{3} \\left(\\frac{d}{d r} \\Phi{\\left(r \\right)}\\right)^{2} + 2 r^{3} \\frac{d^{2}}{d r^{2}} \\Phi{\\left(r \\right)} - 2 r^{2} b{\\left(r \\right)} \\left(\\frac{d}{d r} \\Phi{\\left(r \\right)}\\right)^{2} - 2 r^{2} b{\\left(r \\right)} \\frac{d^{2}}{d r^{2}} \\Phi{\\left(r \\right)} - r^{2} \\frac{d}{d r} \\Phi{\\left(r \\right)} \\frac{d}{d r} b{\\left(r \\right)} + 2 r^{2} \\frac{d}{d r} \\Phi{\\left(r \\right)} - r b{\\left(r \\right)} \\frac{d}{d r} \\Phi{\\left(r \\right)} - r \\frac{d}{d r} b{\\left(r \\right)} + b{\\left(r \\right)}}{2 r} & 0\\\\0 & 0 & 0 & - \\frac{\\left(2 r^{3} \\left(\\frac{d}{d r} \\Phi{\\left(r \\right)}\\right)^{2} + 2 r^{3} \\frac{d^{2}}{d r^{2}} \\Phi{\\left(r \\right)} - 2 r^{2} b{\\left(r \\right)} \\left(\\frac{d}{d r} \\Phi{\\left(r \\right)}\\right)^{2} - 2 r^{2} b{\\left(r \\right)} \\frac{d^{2}}{d r^{2}} \\Phi{\\left(r \\right)} - r^{2} \\frac{d}{d r} \\Phi{\\left(r \\right)} \\frac{d}{d r} b{\\left(r \\right)} + 2 r^{2} \\frac{d}{d r} \\Phi{\\left(r \\right)} - r b{\\left(r \\right)} \\frac{d}{d r} \\Phi{\\left(r \\right)} - r \\frac{d}{d r} b{\\left(r \\right)} + b{\\left(r \\right)}\\right) \\sin^{2}{\\left(\\theta \\right)}}{2 r}\\end{matrix}\\right]$"
          },
          "metadata": {}
        }
      ]
    },
    {
      "cell_type": "code",
      "source": [],
      "metadata": {
        "id": "c4xh8akQJ0Mq"
      },
      "execution_count": 25,
      "outputs": []
    },
    {
      "cell_type": "code",
      "source": [],
      "metadata": {
        "id": "SumXbOqt9ae2"
      },
      "execution_count": 25,
      "outputs": []
    }
  ]
}